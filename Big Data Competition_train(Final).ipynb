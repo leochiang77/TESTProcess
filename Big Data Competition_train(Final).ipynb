{
 "cells": [
  {
   "cell_type": "code",
   "execution_count": 1,
   "id": "874c0786",
   "metadata": {},
   "outputs": [],
   "source": [
    "import pandas as pd\n",
    "import numpy as np\n",
    "import matplotlib.pyplot as plt\n",
    "import seaborn as sns"
   ]
  },
  {
   "cell_type": "code",
   "execution_count": 2,
   "id": "816ba8c8",
   "metadata": {},
   "outputs": [],
   "source": [
    "import warnings\n",
    "warnings.filterwarnings(\"ignore\")\n",
    "warnings.simplefilter(action=\"ignore\", category=FutureWarning)"
   ]
  },
  {
   "cell_type": "markdown",
   "id": "c32431ae",
   "metadata": {},
   "source": [
    "## Config"
   ]
  },
  {
   "cell_type": "code",
   "execution_count": null,
   "id": "d57a6ac8",
   "metadata": {},
   "outputs": [],
   "source": [
    "#訓練資料檔案位置\n",
    "inputData = \"./2022-train-v2.xlsx\" \n",
    "\n",
    "#標準化模型儲存資料夾位置\n",
    "stdModelFile = \"./output/model/\"\n",
    "\n",
    "#訓練模型儲存資料夾位置\n",
    "pklFile = \"./output/model/\"\n",
    "\n",
    "#模型blending權重檔案\n",
    "blendingWeightFile = pklFile+\"blending_weight.txt\""
   ]
  },
  {
   "cell_type": "markdown",
   "id": "f3679f1e",
   "metadata": {},
   "source": [
    "## Input Data"
   ]
  },
  {
   "cell_type": "code",
   "execution_count": 3,
   "id": "eaa93c10",
   "metadata": {},
   "outputs": [],
   "source": [
    "trainData = pd.read_excel(inputData)"
   ]
  },
  {
   "cell_type": "markdown",
   "id": "345783d0",
   "metadata": {},
   "source": [
    "## Data Process"
   ]
  },
  {
   "cell_type": "code",
   "execution_count": 4,
   "id": "84b2244e",
   "metadata": {},
   "outputs": [],
   "source": [
    "procTrainData = trainData.copy()"
   ]
  },
  {
   "cell_type": "code",
   "execution_count": 5,
   "id": "8feb1713",
   "metadata": {},
   "outputs": [
    {
     "data": {
      "text/html": [
       "<div>\n",
       "<style scoped>\n",
       "    .dataframe tbody tr th:only-of-type {\n",
       "        vertical-align: middle;\n",
       "    }\n",
       "\n",
       "    .dataframe tbody tr th {\n",
       "        vertical-align: top;\n",
       "    }\n",
       "\n",
       "    .dataframe thead th {\n",
       "        text-align: right;\n",
       "    }\n",
       "</style>\n",
       "<table border=\"1\" class=\"dataframe\">\n",
       "  <thead>\n",
       "    <tr style=\"text-align: right;\">\n",
       "      <th></th>\n",
       "      <th>Column Name</th>\n",
       "      <th>Missing Count</th>\n",
       "      <th>Percentage(%)</th>\n",
       "    </tr>\n",
       "  </thead>\n",
       "  <tbody>\n",
       "    <tr>\n",
       "      <th>0</th>\n",
       "      <td>clean_ph5</td>\n",
       "      <td>286</td>\n",
       "      <td>0.450394</td>\n",
       "    </tr>\n",
       "    <tr>\n",
       "      <th>1</th>\n",
       "      <td>clean_ph7</td>\n",
       "      <td>286</td>\n",
       "      <td>0.450394</td>\n",
       "    </tr>\n",
       "    <tr>\n",
       "      <th>2</th>\n",
       "      <td>clean_ph4</td>\n",
       "      <td>286</td>\n",
       "      <td>0.450394</td>\n",
       "    </tr>\n",
       "    <tr>\n",
       "      <th>3</th>\n",
       "      <td>painting_g9_act_t_air</td>\n",
       "      <td>0</td>\n",
       "      <td>0.000000</td>\n",
       "    </tr>\n",
       "    <tr>\n",
       "      <th>4</th>\n",
       "      <td>painting_g9_act_hvv</td>\n",
       "      <td>0</td>\n",
       "      <td>0.000000</td>\n",
       "    </tr>\n",
       "    <tr>\n",
       "      <th>5</th>\n",
       "      <td>painting_g9_act_hvc</td>\n",
       "      <td>0</td>\n",
       "      <td>0.000000</td>\n",
       "    </tr>\n",
       "    <tr>\n",
       "      <th>6</th>\n",
       "      <td>painting_g10_act_a_air</td>\n",
       "      <td>0</td>\n",
       "      <td>0.000000</td>\n",
       "    </tr>\n",
       "    <tr>\n",
       "      <th>7</th>\n",
       "      <td>painting_g10_act_f_air</td>\n",
       "      <td>0</td>\n",
       "      <td>0.000000</td>\n",
       "    </tr>\n",
       "    <tr>\n",
       "      <th>8</th>\n",
       "      <td>painting_g10_act_t_air</td>\n",
       "      <td>0</td>\n",
       "      <td>0.000000</td>\n",
       "    </tr>\n",
       "    <tr>\n",
       "      <th>9</th>\n",
       "      <td>painting_g10_act_hvv</td>\n",
       "      <td>0</td>\n",
       "      <td>0.000000</td>\n",
       "    </tr>\n",
       "  </tbody>\n",
       "</table>\n",
       "</div>"
      ],
      "text/plain": [
       "              Column Name  Missing Count  Percentage(%)\n",
       "0               clean_ph5            286       0.450394\n",
       "1               clean_ph7            286       0.450394\n",
       "2               clean_ph4            286       0.450394\n",
       "3   painting_g9_act_t_air              0       0.000000\n",
       "4     painting_g9_act_hvv              0       0.000000\n",
       "5     painting_g9_act_hvc              0       0.000000\n",
       "6  painting_g10_act_a_air              0       0.000000\n",
       "7  painting_g10_act_f_air              0       0.000000\n",
       "8  painting_g10_act_t_air              0       0.000000\n",
       "9    painting_g10_act_hvv              0       0.000000"
      ]
     },
     "execution_count": 5,
     "metadata": {},
     "output_type": "execute_result"
    }
   ],
   "source": [
    "#找出空值\n",
    "missing = trainData.isnull().sum()\n",
    "missing.sort_values(ascending=False, inplace=True)\n",
    "missingCount = pd.DataFrame({\"Column Name\":missing.index,\"Missing Count\":missing.values})\n",
    "missingCount[\"Percentage(%)\"] = missingCount[\"Missing Count\"].apply(lambda x: x/trainData.shape[0])\n",
    "missingCount.head(10)"
   ]
  },
  {
   "cell_type": "code",
   "execution_count": 6,
   "id": "67ef790b",
   "metadata": {},
   "outputs": [
    {
     "name": "stdout",
     "output_type": "stream",
     "text": [
      "['clean_ph5', 'clean_ph7', 'clean_ph4']\n"
     ]
    }
   ],
   "source": [
    "#刪除有缺失值欄位\n",
    "dropCol = list(missingCount[missingCount[\"Missing Count\"]>0][\"Column Name\"])\n",
    "print(dropCol)\n",
    "procTrainData = procTrainData.drop(dropCol, axis=1)"
   ]
  },
  {
   "cell_type": "code",
   "execution_count": 7,
   "id": "0625d902",
   "metadata": {},
   "outputs": [
    {
     "name": "stdout",
     "output_type": "stream",
     "text": [
      "['clean_pressure11', 'clean_pressure21', 'clean_pressure23', 'clean_pressure72', 'clean_pressure101', 'painting_g6_act_a_air', 'painting_g6_act_f_air', 'painting_g6_act_t_air', 'painting_g6_act_hvv', 'painting_g6_act_hvc', 'painting_g12_act_a_air', 'painting_g12_act_f_air', 'painting_g12_act_t_air', 'painting_g12_act_hvv', 'painting_g12_act_hvc', 'env_rpi09_hum', 'env_rpi09_lux', 'env_rpi09_temp']\n"
     ]
    }
   ],
   "source": [
    "#刪除資料變化較低(標準差std<0.01)之欄位 \n",
    "dropCol = []\n",
    "for i in procTrainData.columns:\n",
    "    tempData =procTrainData.loc[:,i]\n",
    "    n=1.5\n",
    "    IOR = np.percentile(tempData,85) - np.percentile(tempData,15)\n",
    "    tempData =tempData[tempData <np.percentile(tempData,75)+n*IOR]\n",
    "    if len(tempData)>0:\n",
    "        tempData =tempData[tempData <np.percentile(tempData,25)-n*IOR]\n",
    "        if np.std(tempData)<0.01:\n",
    "            dropCol.append(i)\n",
    "    else:\n",
    "        dropCol.append(i)\n",
    "\n",
    "print(dropCol)"
   ]
  },
  {
   "cell_type": "code",
   "execution_count": 8,
   "id": "fd88e596",
   "metadata": {
    "collapsed": true
   },
   "outputs": [
    {
     "data": {
      "image/png": "[encoded data removed]",
      "text/plain": [
       "<Figure size 864x8640 with 18 Axes>"
      ]
     },
     "metadata": {
      "needs_background": "light"
     },
     "output_type": "display_data"
    }
   ],
   "source": [
    "fig, axs = plt.subplots(ncols=1, nrows=1, figsize=(12,120))\n",
    "for i, feature in enumerate(list(procTrainData[dropCol]),1):\n",
    "    plt.subplot(len(list(dropCol)), 3, i)\n",
    "    plt.scatter(x=feature, y = \"sensor_point5_i_value\", data=procTrainData)\n",
    "    plt.xlabel(feature, size =15)\n",
    "plt.show()"
   ]
  },
  {
   "cell_type": "code",
   "execution_count": 8,
   "id": "77c11159",
   "metadata": {},
   "outputs": [],
   "source": [
    "procTrainData = procTrainData.drop(dropCol, axis=1)"
   ]
  },
  {
   "cell_type": "code",
   "execution_count": 9,
   "id": "0e08afb7",
   "metadata": {},
   "outputs": [
    {
     "name": "stdout",
     "output_type": "stream",
     "text": [
      "['clean_pressure92', 'clean_pressure71', 'oven_pb2', 'oven_a2', 'oven_b2', 'oven_b3', 'painting_g1_act_f_air', 'painting_g1_act_t_air', 'painting_g1_act_hvv', 'painting_g1_act_hvc', 'painting_g7_act_a_air', 'painting_g7_act_f_air', 'painting_g7_act_t_air', 'painting_g7_act_hvv', 'painting_g2_act_t_air', 'painting_g8_act_a_air', 'painting_g8_act_t_air', 'painting_g3_act_t_air', 'painting_g9_act_t_air', 'painting_g9_act_f_air', 'painting_g4_act_f_air', 'painting_g4_act_t_air', 'painting_g4_act_hvv', 'painting_g10_act_a_air', 'painting_g10_act_f_air', 'painting_g10_act_t_air', 'painting_g10_act_hvv', 'painting_g5_act_f_air', 'painting_g5_act_t_air', 'painting_g5_act_hvv', 'painting_g11_act_f_air', 'painting_g11_act_t_air', 'painting_g11_act_hvv', 'env_rpi05_pm10', 'env_rpi05_pm25', 'env_rpi07_pm10', 'env_rpi07_pm25', 'env_rpi09_pm10', 'env_rpi09_pm25', 'env_rpi14_pm10', 'env_rpi14_pm25', 'env_rpi15_pm10', 'env_rpi15_pm25']\n"
     ]
    }
   ],
   "source": [
    "#刪除共線性(相關係數>0.95)之欄位\n",
    "Xcorr = procTrainData.corr()\n",
    "recordrows = []\n",
    "result = {}\n",
    "for index, row in Xcorr.iterrows():\n",
    "    if index not in recordrows:\n",
    "        for i, v in row.items():\n",
    "            if i not in result and i != index:\n",
    "                if v>0.95:\n",
    "                    if index not in result:\n",
    "                        if i not in recordrows:\n",
    "                            result[index]=[i]\n",
    "                            recordrows.append(i)\n",
    "                    else:\n",
    "                        if i not in recordrows:\n",
    "                            result[index].append(i)\n",
    "                            recordrows.append(i)\n",
    "                            \n",
    "dropCol=[]\n",
    "for key in result:\n",
    "    dropCol+=result[key]\n",
    "print(dropCol)\n",
    "\n",
    "procTrainData = procTrainData.drop(dropCol, axis=1)"
   ]
  },
  {
   "cell_type": "code",
   "execution_count": 10,
   "id": "ddc990c8",
   "metadata": {},
   "outputs": [],
   "source": [
    "totalDropCol =['clean_ph5', 'clean_ph7', 'clean_ph4','clean_pressure11', 'clean_pressure21', 'clean_pressure23', 'clean_pressure72', 'clean_pressure101', 'painting_g6_act_a_air', 'painting_g6_act_f_air', 'painting_g6_act_t_air', 'painting_g6_act_hvv', 'painting_g6_act_hvc', 'painting_g12_act_a_air', 'painting_g12_act_f_air', 'painting_g12_act_t_air', 'painting_g12_act_hvv', 'painting_g12_act_hvc', 'env_rpi09_hum', 'env_rpi09_lux', 'env_rpi09_temp','clean_pressure92', 'clean_pressure71', 'oven_pb2', 'oven_a2', 'oven_b2', 'oven_b3', 'painting_g1_act_f_air', 'painting_g1_act_t_air', 'painting_g1_act_hvv', 'painting_g1_act_hvc', 'painting_g7_act_a_air', 'painting_g7_act_f_air', 'painting_g7_act_t_air', 'painting_g7_act_hvv', 'painting_g2_act_t_air', 'painting_g8_act_a_air', 'painting_g8_act_t_air', 'painting_g3_act_t_air', 'painting_g9_act_t_air', 'painting_g9_act_f_air', 'painting_g4_act_f_air', 'painting_g4_act_t_air', 'painting_g4_act_hvv', 'painting_g10_act_a_air', 'painting_g10_act_f_air', 'painting_g10_act_t_air', 'painting_g10_act_hvv', 'painting_g5_act_f_air', 'painting_g5_act_t_air', 'painting_g5_act_hvv', 'painting_g11_act_f_air', 'painting_g11_act_t_air', 'painting_g11_act_hvv', 'env_rpi05_pm10', 'env_rpi05_pm25', 'env_rpi07_pm10', 'env_rpi07_pm25', 'env_rpi09_pm10', 'env_rpi09_pm25', 'env_rpi14_pm10', 'env_rpi14_pm25', 'env_rpi15_pm10', 'env_rpi15_pm25']"
   ]
  },
  {
   "cell_type": "markdown",
   "id": "28d2939d",
   "metadata": {},
   "source": [
    "## 標準化"
   ]
  },
  {
   "cell_type": "code",
   "execution_count": 11,
   "id": "b90b3965",
   "metadata": {},
   "outputs": [],
   "source": [
    "from sklearn import preprocessing\n",
    "import pickle"
   ]
  },
  {
   "cell_type": "code",
   "execution_count": 49,
   "id": "a4fc2deb",
   "metadata": {},
   "outputs": [],
   "source": [
    "xCol = [\"sensor_point5_i_value\",\"sensor_point6_i_value\",\"sensor_point7_i_value\",\"sensor_point8_i_value\",\"sensor_point9_i_value\",\"sensor_point10_i_value\"]\n",
    "y = procTrainData.loc[:,xCol]\n",
    "X = procTrainData.copy()\n",
    "X = X.drop(xCol, axis=1)\n",
    "scale = preprocessing.StandardScaler()\n",
    "std = scale.fit(X)\n",
    "X = std.transform(X)\n",
    "with open(stdModelFile+\"stdMode.pkl\",\"wb\") as file:\n",
    "    pickle.dump(std,file)"
   ]
  },
  {
   "cell_type": "markdown",
   "id": "30d9610b",
   "metadata": {},
   "source": [
    "## 建模: 預計採用blending作法，分別對各模型調參"
   ]
  },
  {
   "cell_type": "code",
   "execution_count": 48,
   "id": "3b5fbc65",
   "metadata": {},
   "outputs": [],
   "source": [
    "import os\n",
    "import math\n",
    "import pickle\n",
    "import numpy as np\n",
    "from sklearn.model_selection import GridSearchCV\n",
    "\n",
    "#初始化資料夾\n",
    "pointArr = [\"5\",\"6\",\"7\",\"8\",\"9\",\"10\"]\n",
    "for i in pointArr:   \n",
    "    pointStr = \"point{}\".format(i)\n",
    "    file = pklFile+pointStr+\"/\"\n",
    "    try:\n",
    "        os.makedirs(file)\n",
    "    except FileExistsError:\n",
    "        print(pointStr+\"目錄已存在\")"
   ]
  },
  {
   "cell_type": "markdown",
   "id": "7ba2952a",
   "metadata": {},
   "source": [
    "- xgboost"
   ]
  },
  {
   "cell_type": "code",
   "execution_count": 21,
   "id": "802d4fa5",
   "metadata": {},
   "outputs": [],
   "source": [
    "from xgboost import XGBRegressor"
   ]
  },
  {
   "cell_type": "code",
   "execution_count": 24,
   "id": "81675b57",
   "metadata": {},
   "outputs": [
    {
     "name": "stdout",
     "output_type": "stream",
     "text": [
      "point5 最佳參數:{'colsample_bytree': 0.85, 'max_depth': 6, 'n_estimators': 500}\n",
      "point6 最佳參數:{'colsample_bytree': 0.85, 'max_depth': 5, 'n_estimators': 500}\n",
      "point7 最佳參數:{'colsample_bytree': 0.85, 'max_depth': 5, 'n_estimators': 500}\n",
      "point8 最佳參數:{'colsample_bytree': 1.0, 'max_depth': 6, 'n_estimators': 600}\n",
      "point9 最佳參數:{'colsample_bytree': 0.85, 'max_depth': 6, 'n_estimators': 800}\n",
      "point10 最佳參數:{'colsample_bytree': 0.7, 'max_depth': 6, 'n_estimators': 900}\n"
     ]
    }
   ],
   "source": [
    "RMSE = []\n",
    "pointArr = [\"5\",\"6\",\"7\",\"8\",\"9\",\"10\"]\n",
    "param_dist = {\n",
    "    \n",
    "    \"n_estimators\":range(500,1000,100),\n",
    "    \"max_depth\":range(4,7,1),\n",
    "    \"colsample_bytree\":np.linspace(0.7,1,3)\n",
    "}\n",
    "\n",
    "modelname = \"xgb.pkl\"\n",
    "for i in pointArr:\n",
    "    \n",
    "    pointStr = \"point{}\".format(i)\n",
    "    xgb = XGBRegressor(eta=0.1, verbosity=0)\n",
    "    grid = GridSearchCV(xgb, param_dist, cv=5, scoring=\"neg_mean_squared_error\")\n",
    "    \n",
    "    grid.fit(X, y[\"sensor_{}_i_value\".format(pointStr)])\n",
    "    print(\"{} 最佳參數:{}\".format(pointStr, grid.best_params_))\n",
    "    filename = pklFile+pointStr+\"/\"+modelname\n",
    "    with open(filename, \"wb\") as file:\n",
    "        pickle.dump(grid.best_estimator_,file)\n",
    "        \n",
    "    RMSE.append(math.sqrt(abs(grid.best_score_)))"
   ]
  },
  {
   "cell_type": "code",
   "execution_count": 26,
   "id": "7d568940",
   "metadata": {},
   "outputs": [
    {
     "data": {
      "text/plain": [
       "[13.51934960437009,\n",
       " 23.968385391926105,\n",
       " 27.735341801934773,\n",
       " 28.92534471709448,\n",
       " 28.207856903492665,\n",
       " 18.85552200501134]"
      ]
     },
     "execution_count": 26,
     "metadata": {},
     "output_type": "execute_result"
    }
   ],
   "source": [
    "RMSE"
   ]
  },
  {
   "cell_type": "markdown",
   "id": "dd461da4",
   "metadata": {},
   "source": [
    "- catboost"
   ]
  },
  {
   "cell_type": "code",
   "execution_count": 27,
   "id": "ba696e81",
   "metadata": {},
   "outputs": [],
   "source": [
    "from catboost import CatBoostRegressor"
   ]
  },
  {
   "cell_type": "code",
   "execution_count": 28,
   "id": "eb354736",
   "metadata": {},
   "outputs": [
    {
     "name": "stdout",
     "output_type": "stream",
     "text": [
      "point5 最佳參數:{'depth': 2, 'iterations': 150, 'l2_leaf_reg': 0.5, 'learning_rate': 0.1}\n",
      "point6 最佳參數:{'depth': 6, 'iterations': 200, 'l2_leaf_reg': 0.5, 'learning_rate': 0.03}\n",
      "point7 最佳參數:{'depth': 2, 'iterations': 100, 'l2_leaf_reg': 3, 'learning_rate': 0.1}\n",
      "point8 最佳參數:{'depth': 4, 'iterations': 100, 'l2_leaf_reg': 0.5, 'learning_rate': 0.03}\n",
      "point9 最佳參數:{'depth': 8, 'iterations': 150, 'l2_leaf_reg': 3, 'learning_rate': 0.03}\n",
      "point10 最佳參數:{'depth': 8, 'iterations': 200, 'l2_leaf_reg': 3, 'learning_rate': 0.1}\n"
     ]
    }
   ],
   "source": [
    "RMSE = []\n",
    "pointArr = [\"5\",\"6\",\"7\",\"8\",\"9\",\"10\"]\n",
    "param_dist = {\n",
    "    \n",
    "    \"iterations\":[100,150,200],\n",
    "    \"learning_rate\":[0.03,0.1],\n",
    "    \"depth\":[2,4,6,8],\n",
    "    \"l2_leaf_reg\":[0.5,1,3]\n",
    "}\n",
    "\n",
    "modelname = \"catb.pkl\"\n",
    "for i in pointArr:\n",
    "    \n",
    "    pointStr = \"point{}\".format(i)\n",
    "    catb = CatBoostRegressor(random_state=42,loss_function =\"RMSE\",eval_metric=\"RMSE\",silent=True)\n",
    "    grid = GridSearchCV(catb, param_dist,  cv=5, scoring=\"neg_mean_squared_error\")\n",
    "    \n",
    "    grid.fit(X, y[\"sensor_{}_i_value\".format(pointStr)])\n",
    "    print(\"{} 最佳參數:{}\".format(pointStr, grid.best_params_))\n",
    "    filename = pklFile+pointStr+\"/\"+modelname\n",
    "    with open(filename, \"wb\") as file:\n",
    "        pickle.dump(grid.best_estimator_,file)\n",
    "        \n",
    "    RMSE.append(math.sqrt(abs(grid.best_score_)))"
   ]
  },
  {
   "cell_type": "code",
   "execution_count": 29,
   "id": "9d0f9509",
   "metadata": {},
   "outputs": [
    {
     "data": {
      "text/plain": [
       "[12.991598443722769,\n",
       " 23.482211555803705,\n",
       " 24.876561430853762,\n",
       " 24.82152231930653,\n",
       " 22.499350070999643,\n",
       " 17.286673204410988]"
      ]
     },
     "execution_count": 29,
     "metadata": {},
     "output_type": "execute_result"
    }
   ],
   "source": [
    "RMSE"
   ]
  },
  {
   "cell_type": "markdown",
   "id": "9abb7f48",
   "metadata": {},
   "source": [
    "- GradientBoostingRegressor"
   ]
  },
  {
   "cell_type": "code",
   "execution_count": 14,
   "id": "3794fd13",
   "metadata": {},
   "outputs": [],
   "source": [
    "from sklearn.ensemble import GradientBoostingRegressor"
   ]
  },
  {
   "cell_type": "code",
   "execution_count": 16,
   "id": "b1461d3f",
   "metadata": {},
   "outputs": [
    {
     "name": "stdout",
     "output_type": "stream",
     "text": [
      "point5 最佳參數:{'learning_rate': 0.02, 'max_depth': 4, 'n_estimators': 300}\n",
      "point6 最佳參數:{'learning_rate': 0.02, 'max_depth': 6, 'n_estimators': 500}\n",
      "point7 最佳參數:{'learning_rate': 0.02, 'max_depth': 4, 'n_estimators': 300}\n",
      "point8 最佳參數:{'learning_rate': 0.02, 'max_depth': 6, 'n_estimators': 300}\n",
      "point9 最佳參數:{'learning_rate': 0.04, 'max_depth': 6, 'n_estimators': 900}\n",
      "point10 最佳參數:{'learning_rate': 0.02, 'max_depth': 4, 'n_estimators': 300}\n"
     ]
    }
   ],
   "source": [
    "RMSE = []\n",
    "pointArr = [\"5\",\"6\",\"7\",\"8\",\"9\",\"10\"]\n",
    "param_dist = {\n",
    "    \n",
    "    \"n_estimators\":[300,500,700,900],\n",
    "    \"max_depth\":[4,6,8,10],\n",
    "    \"learning_rate\":[0.02,0.03,0.04]\n",
    "}\n",
    "\n",
    "modelname = \"gbr.pkl\"\n",
    "for i in pointArr:\n",
    "    \n",
    "    pointStr = \"point{}\".format(i)\n",
    "    gbr = GradientBoostingRegressor()\n",
    "    grid = GridSearchCV(gbr, param_dist,  cv=5, scoring=\"neg_mean_squared_error\")\n",
    "    \n",
    "    grid.fit(X, y[\"sensor_{}_i_value\".format(pointStr)])\n",
    "    print(\"{} 最佳參數:{}\".format(pointStr, grid.best_params_))\n",
    "    filename = pklFile+pointStr+\"/\"+modelname\n",
    "    with open(filename, \"wb\") as file:\n",
    "        pickle.dump(grid.best_estimator_,file)\n",
    "        \n",
    "    RMSE.append(math.sqrt(abs(grid.best_score_)))"
   ]
  },
  {
   "cell_type": "code",
   "execution_count": 17,
   "id": "8c366693",
   "metadata": {},
   "outputs": [
    {
     "data": {
      "text/plain": [
       "[13.93907567360226,\n",
       " 25.284332049606743,\n",
       " 31.14900036281113,\n",
       " 25.0551066671077,\n",
       " 26.256073175711236,\n",
       " 20.322341814121984]"
      ]
     },
     "execution_count": 17,
     "metadata": {},
     "output_type": "execute_result"
    }
   ],
   "source": [
    "RMSE"
   ]
  },
  {
   "cell_type": "markdown",
   "id": "f3af6d79",
   "metadata": {},
   "source": [
    "- RandomForestRegressor"
   ]
  },
  {
   "cell_type": "code",
   "execution_count": 19,
   "id": "b1915b1e",
   "metadata": {},
   "outputs": [],
   "source": [
    "from sklearn.ensemble import RandomForestRegressor"
   ]
  },
  {
   "cell_type": "code",
   "execution_count": 20,
   "id": "3703106b",
   "metadata": {},
   "outputs": [
    {
     "name": "stdout",
     "output_type": "stream",
     "text": [
      "point5 最佳參數:{'max_depth': 5, 'max_features': 'log2', 'n_estimators': 100}\n",
      "point6 最佳參數:{'max_depth': 10, 'max_features': 'sqrt', 'n_estimators': 200}\n",
      "point7 最佳參數:{'max_depth': 10, 'max_features': 'sqrt', 'n_estimators': 50}\n",
      "point8 最佳參數:{'max_depth': 5, 'max_features': 'auto', 'n_estimators': 50}\n",
      "point9 最佳參數:{'max_depth': 15, 'max_features': 'sqrt', 'n_estimators': 50}\n",
      "point10 最佳參數:{'max_depth': 15, 'max_features': 'log2', 'n_estimators': 100}\n"
     ]
    }
   ],
   "source": [
    "RMSE = []\n",
    "pointArr = [\"5\",\"6\",\"7\",\"8\",\"9\",\"10\"]\n",
    "param_dist = {\n",
    "    \n",
    "    \"n_estimators\":[50,100,150,200],\n",
    "    \"max_depth\":[5,10,15],\n",
    "    \"max_features\":[\"auto\",\"log2\",\"sqrt\"],\n",
    "}\n",
    "\n",
    "modelname = \"rfr.pkl\"\n",
    "for i in pointArr:\n",
    "    \n",
    "    pointStr = \"point{}\".format(i)\n",
    "    rfr = RandomForestRegressor(random_state=42)\n",
    "    grid = GridSearchCV(rfr, param_dist,  cv=5, scoring=\"neg_mean_squared_error\")\n",
    "    \n",
    "    grid.fit(X, y[\"sensor_{}_i_value\".format(pointStr)])\n",
    "    print(\"{} 最佳參數:{}\".format(pointStr, grid.best_params_))\n",
    "    filename = pklFile+pointStr+\"/\"+modelname\n",
    "    with open(filename, \"wb\") as file:\n",
    "        pickle.dump(grid.best_estimator_,file)\n",
    "        \n",
    "    RMSE.append(math.sqrt(abs(grid.best_score_)))"
   ]
  },
  {
   "cell_type": "code",
   "execution_count": 21,
   "id": "4eaeb2d3",
   "metadata": {},
   "outputs": [
    {
     "data": {
      "text/plain": [
       "[13.135394591645674,\n",
       " 24.594331821697313,\n",
       " 24.905071144505435,\n",
       " 23.832461833208214,\n",
       " 22.689539590414125,\n",
       " 17.92646522517798]"
      ]
     },
     "execution_count": 21,
     "metadata": {},
     "output_type": "execute_result"
    }
   ],
   "source": [
    "RMSE"
   ]
  },
  {
   "cell_type": "markdown",
   "id": "f73bcc3a",
   "metadata": {},
   "source": [
    "- SVR"
   ]
  },
  {
   "cell_type": "code",
   "execution_count": 22,
   "id": "11028861",
   "metadata": {},
   "outputs": [],
   "source": [
    "from sklearn.svm import SVR"
   ]
  },
  {
   "cell_type": "code",
   "execution_count": 23,
   "id": "a7628446",
   "metadata": {},
   "outputs": [
    {
     "name": "stdout",
     "output_type": "stream",
     "text": [
      "point5 最佳參數:{'C': 1}\n",
      "point6 最佳參數:{'C': 10}\n",
      "point7 最佳參數:{'C': 10}\n",
      "point8 最佳參數:{'C': 5}\n",
      "point9 最佳參數:{'C': 50}\n",
      "point10 最佳參數:{'C': 5}\n"
     ]
    }
   ],
   "source": [
    "RMSE = []\n",
    "pointArr = [\"5\",\"6\",\"7\",\"8\",\"9\",\"10\"]\n",
    "param_dist = {\n",
    "    \n",
    "    \"C\":[1,5,10,50,100],\n",
    "}\n",
    "\n",
    "modelname = \"svr.pkl\"\n",
    "for i in pointArr:\n",
    "    \n",
    "    pointStr = \"point{}\".format(i)\n",
    "    svr = SVR(kernel='rbf', gamma=0.01)\n",
    "    grid = GridSearchCV(svr, param_dist,  cv=5, scoring=\"neg_mean_squared_error\")\n",
    "    \n",
    "    grid.fit(X, y[\"sensor_{}_i_value\".format(pointStr)])\n",
    "    print(\"{} 最佳參數:{}\".format(pointStr, grid.best_params_))\n",
    "    filename = pklFile+pointStr+\"/\"+modelname\n",
    "    with open(filename, \"wb\") as file:\n",
    "        pickle.dump(grid.best_estimator_,file)\n",
    "        \n",
    "    RMSE.append(math.sqrt(abs(grid.best_score_)))"
   ]
  },
  {
   "cell_type": "code",
   "execution_count": 24,
   "id": "7da93ee6",
   "metadata": {},
   "outputs": [
    {
     "data": {
      "text/plain": [
       "[13.342741794620112,\n",
       " 25.76466125646817,\n",
       " 26.35524590556489,\n",
       " 25.806750505018737,\n",
       " 22.116104258885894,\n",
       " 17.51905177366181]"
      ]
     },
     "execution_count": 24,
     "metadata": {},
     "output_type": "execute_result"
    }
   ],
   "source": [
    "RMSE"
   ]
  },
  {
   "cell_type": "markdown",
   "id": "d9f128bc",
   "metadata": {},
   "source": [
    "- knn"
   ]
  },
  {
   "cell_type": "code",
   "execution_count": 26,
   "id": "5c204c49",
   "metadata": {},
   "outputs": [],
   "source": [
    "from sklearn.neighbors import KNeighborsRegressor"
   ]
  },
  {
   "cell_type": "code",
   "execution_count": 31,
   "id": "ad3dd7ee",
   "metadata": {},
   "outputs": [
    {
     "name": "stdout",
     "output_type": "stream",
     "text": [
      "point5 最佳參數:{}\n",
      "point6 最佳參數:{}\n",
      "point7 最佳參數:{}\n",
      "point8 最佳參數:{}\n",
      "point9 最佳參數:{}\n",
      "point10 最佳參數:{}\n"
     ]
    }
   ],
   "source": [
    "RMSE = []\n",
    "pointArr = [\"5\",\"6\",\"7\",\"8\",\"9\",\"10\"]\n",
    "param_dist = {\n",
    "    \n",
    "}\n",
    "\n",
    "modelname = \"knn.pkl\"\n",
    "for i in pointArr:\n",
    "    \n",
    "    pointStr = \"point{}\".format(i)\n",
    "    knn = KNeighborsRegressor()\n",
    "    grid = GridSearchCV(knn, param_dist,  cv=5, scoring=\"neg_mean_squared_error\")\n",
    "    \n",
    "    grid.fit(X, y[\"sensor_{}_i_value\".format(pointStr)])\n",
    "    print(\"{} 最佳參數:{}\".format(pointStr, grid.best_params_))\n",
    "    filename = pklFile+pointStr+\"/\"+modelname\n",
    "    with open(filename, \"wb\") as file:\n",
    "        pickle.dump(grid.best_estimator_,file)\n",
    "        \n",
    "    RMSE.append(math.sqrt(abs(grid.best_score_)))"
   ]
  },
  {
   "cell_type": "code",
   "execution_count": 32,
   "id": "5691da05",
   "metadata": {},
   "outputs": [
    {
     "data": {
      "text/plain": [
       "[15.305798396912497,\n",
       " 35.65284938530634,\n",
       " 31.670365193601146,\n",
       " 24.700677411093995,\n",
       " 22.619204438901445,\n",
       " 18.84460281136512]"
      ]
     },
     "execution_count": 32,
     "metadata": {},
     "output_type": "execute_result"
    }
   ],
   "source": [
    "RMSE"
   ]
  },
  {
   "cell_type": "markdown",
   "id": "97e60939",
   "metadata": {},
   "source": [
    "- Stacking model"
   ]
  },
  {
   "cell_type": "code",
   "execution_count": 28,
   "id": "9ae85e32",
   "metadata": {},
   "outputs": [],
   "source": [
    "from sklearn.ensemble import StackingRegressor\n",
    "from sklearn.neural_network import MLPRegressor"
   ]
  },
  {
   "cell_type": "code",
   "execution_count": 29,
   "id": "82a5b429",
   "metadata": {},
   "outputs": [
    {
     "name": "stdout",
     "output_type": "stream",
     "text": [
      "point5 最佳參數:{}\n",
      "point6 最佳參數:{}\n",
      "point7 最佳參數:{}\n",
      "point8 最佳參數:{}\n",
      "point9 最佳參數:{}\n",
      "point10 最佳參數:{}\n"
     ]
    }
   ],
   "source": [
    "RMSE = []\n",
    "pointArr = [\"5\",\"6\",\"7\",\"8\",\"9\",\"10\"]\n",
    "\n",
    "modelname = \"stk.pkl\"\n",
    "for i in pointArr:\n",
    "    \n",
    "    mlp = MLPRegressor(random_state=1000,activation =\"relu\",alpha=0.1, hidden_layer_sizes=(4,4),max_iter=2000)\n",
    "    estimators = []\n",
    "    pointStr = \"point{}\".format(i)\n",
    "    estimatorsArr = ['xgb', 'svr','gbr', 'catb' , 'rfr' ,'knn']\n",
    "\n",
    "    for i in estimatorsArr:\n",
    "        filename = pklFile+pointStr+\"/\"+i+\".pkl\"\n",
    "        with open(filename,\"rb\") as file:\n",
    "            estimators.append((i,pickle.load(file)))\n",
    "    \n",
    "    stk = StackingRegressor(estimators = estimators, final_estimator = mlp)\n",
    "\n",
    "    grid = GridSearchCV(stk, param_grid={},cv=5, scoring=\"neg_mean_squared_error\")\n",
    "\n",
    "    grid.fit(X,y[\"sensor_{}_i_value\".format(pointStr)])\n",
    "    print(\"{} 最佳參數:{}\".format(pointStr, grid.best_params_))\n",
    "    filename = pklFile+pointStr+\"/\"+modelname\n",
    "    with open(filename, \"wb\") as file:\n",
    "        pickle.dump(grid.best_estimator_,file)\n",
    "        \n",
    "    RMSE.append(math.sqrt(abs(grid.best_score_)))"
   ]
  },
  {
   "cell_type": "code",
   "execution_count": 30,
   "id": "afad0183",
   "metadata": {},
   "outputs": [
    {
     "data": {
      "text/plain": [
       "[13.600870612058458,\n",
       " 27.554184074969648,\n",
       " 28.071188575651814,\n",
       " 25.863488586884472,\n",
       " 26.32157069483927,\n",
       " 19.092666428131828]"
      ]
     },
     "execution_count": 30,
     "metadata": {},
     "output_type": "execute_result"
    }
   ],
   "source": [
    "RMSE"
   ]
  },
  {
   "cell_type": "markdown",
   "id": "50f1fe05",
   "metadata": {},
   "source": [
    "## 建模: blending"
   ]
  },
  {
   "cell_type": "code",
   "execution_count": 33,
   "id": "29b8e30a",
   "metadata": {},
   "outputs": [],
   "source": [
    "from scipy.optimize import minimize\n",
    "from sklearn.metrics import mean_squared_error"
   ]
  },
  {
   "cell_type": "code",
   "execution_count": 40,
   "id": "785f3e8e",
   "metadata": {},
   "outputs": [
    {
     "name": "stdout",
     "output_type": "stream",
     "text": [
      "Ensamble Score: 5.615783918189824\n",
      "Best Weights: [0.48885463 0.05       0.05       0.05       0.05       0.21755883\n",
      " 0.09358653]\n",
      "Ensamble Score: 9.080220251190699\n",
      "Best Weights: [0.05       0.05       0.69990992 0.05000002 0.05009006 0.05\n",
      " 0.05      ]\n",
      "Ensamble Score: 11.766123738264332\n",
      "Best Weights: [0.50759219 0.05000001 0.05       0.05       0.11333721 0.05\n",
      " 0.17907059]\n",
      "Ensamble Score: 11.165794459474519\n",
      "Best Weights: [0.05011541 0.05       0.69985679 0.05002779 0.05       0.05\n",
      " 0.05      ]\n",
      "Ensamble Score: 9.71356287647252\n",
      "Best Weights: [0.69974988 0.05       0.05       0.05       0.05025011 0.05\n",
      " 0.05      ]\n",
      "Ensamble Score: 8.558745309468584\n",
      "Best Weights: [0.61896641 0.05000002 0.13094737 0.05008618 0.05       0.05\n",
      " 0.05000001]\n"
     ]
    }
   ],
   "source": [
    "#採SLSQP求得各模型權重\n",
    "estimatorsArr = ['xgb', 'svr','gbr', 'catb' , 'rfr' ,'knn','stk']\n",
    "pointArr = [\"5\",\"6\",\"7\",\"8\",\"9\",\"10\"]\n",
    "result = {}\n",
    "for i in pointArr:\n",
    "    \n",
    "    estimators = {}\n",
    "    pointStr = \"point{}\".format(i)\n",
    "\n",
    "    for i in estimatorsArr:\n",
    "        filename = pklFile+pointStr+\"/\"+i+\".pkl\"\n",
    "        with open(filename,\"rb\") as file:\n",
    "            estimators[i] = pickle.load(file)\n",
    "\n",
    "    models=list(estimators.values())\n",
    "    predictions = []\n",
    "    for model in models:\n",
    "        predictions.append(model.predict(X))\n",
    "\n",
    "    def mse_func(weights):\n",
    "        #scipy minimize will pass the weights as a numpy array\n",
    "        final_prediction = 0\n",
    "        for weight, prediction in zip(weights, predictions):\n",
    "            final_prediction += weight*prediction\n",
    "        #return np.mean((y_test-final_prediction)**2)\n",
    "        return np.sqrt(mean_squared_error(y[\"sensor_{}_i_value\".format(pointStr)], final_prediction))\n",
    "\n",
    "    starting_values = [0]*len(predictions)\n",
    "\n",
    "    cons = ({'type':'ineq','fun':lambda w: 1-sum(w)})\n",
    "    #our weights are bound between 0 and 1\n",
    "    bounds = [(0.05,1)]*len(predictions)\n",
    "\n",
    "    res = minimize(mse_func, starting_values, method='SLSQP', bounds=bounds, constraints=cons)\n",
    "\n",
    "    print('Ensamble Score: {best_score}'.format(best_score=res['fun']))\n",
    "    print('Best Weights: {weights}'.format(weights=res['x']))\n",
    "\n",
    "    blend_wts = pd.DataFrame({'model': estimatorsArr, 'optimised_wts': list(res['x'])}, columns=['model', 'optimised_wts'])\n",
    "    result[pointStr] = blend_wts.to_json(orient=\"records\")"
   ]
  },
  {
   "cell_type": "code",
   "execution_count": 45,
   "id": "5b9f26d9",
   "metadata": {},
   "outputs": [],
   "source": [
    "import json\n",
    "filename = blendingWeightFile\n",
    "with open(filename, \"w\") as file:\n",
    "    file.write(json.dumps(result, indent=4))"
   ]
  }
 ],
 "metadata": {
  "kernelspec": {
   "display_name": "Python 3",
   "language": "python",
   "name": "python3"
  },
  "language_info": {
   "codemirror_mode": {
    "name": "ipython",
    "version": 3
   },
   "file_extension": ".py",
   "mimetype": "text/x-python",
   "name": "python",
   "nbconvert_exporter": "python",
   "pygments_lexer": "ipython3",
   "version": "3.8.8"
  }
 },
 "nbformat": 4,
 "nbformat_minor": 5
}
