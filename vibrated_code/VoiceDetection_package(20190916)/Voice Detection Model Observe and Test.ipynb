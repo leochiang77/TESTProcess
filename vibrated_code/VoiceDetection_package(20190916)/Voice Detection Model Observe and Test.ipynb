{
 "cells": [
  {
   "cell_type": "code",
   "execution_count": 4,
   "metadata": {},
   "outputs": [],
   "source": [
    "import os\n",
    "import pickle\n",
    "import pandas as pd\n",
    "from LogClass import LogObj\n",
    "from ConnMySQLDB import MySQLDB\n",
    "from Voice_Dectection_Utils import VoiceDetectionUtils\n",
    "import warnings\n",
    "warnings.filterwarnings('ignore')\n"
   ]
  },
  {
   "cell_type": "code",
   "execution_count": 5,
   "metadata": {},
   "outputs": [],
   "source": [
    "# init\n",
    "logFile = LogObj('.','logFile')\n",
    "mySQLDB = MySQLDB(logFile)\n",
    "utils = VoiceDetectionUtils(logFile)"
   ]
  },
  {
   "cell_type": "code",
   "execution_count": 6,
   "metadata": {},
   "outputs": [],
   "source": [
    "#測試區間1 : (異常時間區段 2019-07-19 20:39:00~ 2019-07-19 20:56:00)\n",
    "#ErrSQL = [\"select * from t_device41 where rec_datetime >= '2019-07-19 20:39:00' and rec_datetime <= '2019-07-19 21:56:00';\"];\n",
    "\n",
    "#測試區間2 : (異常時間區段 2019-07-22 22:14:00~ 2019-07-22 22:23:00)\n",
    "ErrSQL = [\"select * from t_device41 where rec_datetime >= '2019-07-22 20:00:00' and rec_datetime <= '2019-07-22 22:24:00';\"]\n",
    "\n",
    "#測試區間3 : (異常時間區段 2019-07-23 15:19:00~ 2019-07-23 15:28:30, 2019-07-23 16:23:00~2019-07-23 17:02:00)\n",
    "#ErrSQL = [\"select * from t_device41 where rec_datetime >= '2019-07-23 15:00:00' and rec_datetime <= '2019-07-23 18:00:00';\"];\n",
    "\n",
    "\n",
    "#即時資料\n",
    "'''\n",
    "import datetime\n",
    "now = datetime.datetime.now()\n",
    "previous = (now- datetime.timedelta(minutes=1)).strftime(\"%Y-%m-%d %H:%M:%S\")\n",
    "ErrSQL = [\"select * from t_device41 where rec_datetime >= '{}' and rec_datetime <= '{}';\".format(previous, now)]\n",
    "\n",
    "'''\n",
    "\n",
    "OutputErrRaw = mySQLDB.extractData('192.168.11.115',3306,'Ac0u5Tasiai2','XY\"S/?>wt5K\"2','acoustics',ErrSQL)"
   ]
  },
  {
   "cell_type": "code",
   "execution_count": 7,
   "metadata": {},
   "outputs": [
    {
     "name": "stderr",
     "output_type": "stream",
     "text": [
      "C:\\software_installed\\Anaconda3\\lib\\site-packages\\sklearn\\preprocessing\\label.py:151: DeprecationWarning: The truth value of an empty array is ambiguous. Returning False, but in future this will result in an error. Use `array.size > 0` to check that an array is not empty.\n",
      "  if diff:\n"
     ]
    }
   ],
   "source": [
    "result=pd.DataFrame()\n",
    "result = utils.loadEnsembleModelPredict('./20190911model', '20190911',OutputErrRaw)\n",
    "if len(result) >0:\n",
    "    result[\"rec_datetime\"] = pd.to_datetime(result[\"rec_datetime\"]).dt.strftime('%Y%m%d%H%M%S')"
   ]
  },
  {
   "cell_type": "code",
   "execution_count": 27,
   "metadata": {},
   "outputs": [
    {
     "data": {
      "text/html": [
       "<div>\n",
       "<style scoped>\n",
       "    .dataframe tbody tr th:only-of-type {\n",
       "        vertical-align: middle;\n",
       "    }\n",
       "\n",
       "    .dataframe tbody tr th {\n",
       "        vertical-align: top;\n",
       "    }\n",
       "\n",
       "    .dataframe thead th {\n",
       "        text-align: right;\n",
       "    }\n",
       "</style>\n",
       "<table border=\"1\" class=\"dataframe\">\n",
       "  <thead>\n",
       "    <tr style=\"text-align: right;\">\n",
       "      <th></th>\n",
       "      <th>0</th>\n",
       "      <th>rec_datetime</th>\n",
       "      <th>file_name</th>\n",
       "    </tr>\n",
       "  </thead>\n",
       "  <tbody>\n",
       "    <tr>\n",
       "      <th>19</th>\n",
       "      <td>0</td>\n",
       "      <td>20190722214336</td>\n",
       "      <td>1563803013.wav</td>\n",
       "    </tr>\n",
       "    <tr>\n",
       "      <th>20</th>\n",
       "      <td>0</td>\n",
       "      <td>20190722214845</td>\n",
       "      <td>1563803322.wav</td>\n",
       "    </tr>\n",
       "    <tr>\n",
       "      <th>21</th>\n",
       "      <td>0</td>\n",
       "      <td>20190722215356</td>\n",
       "      <td>1563803633.wav</td>\n",
       "    </tr>\n",
       "    <tr>\n",
       "      <th>22</th>\n",
       "      <td>0</td>\n",
       "      <td>20190722215905</td>\n",
       "      <td>1563803942.wav</td>\n",
       "    </tr>\n",
       "    <tr>\n",
       "      <th>23</th>\n",
       "      <td>0</td>\n",
       "      <td>20190722220413</td>\n",
       "      <td>1563804250.wav</td>\n",
       "    </tr>\n",
       "    <tr>\n",
       "      <th>24</th>\n",
       "      <td>1</td>\n",
       "      <td>20190722221443</td>\n",
       "      <td>1563804880.wav</td>\n",
       "    </tr>\n",
       "    <tr>\n",
       "      <th>25</th>\n",
       "      <td>1</td>\n",
       "      <td>20190722221958</td>\n",
       "      <td>1563805195.wav</td>\n",
       "    </tr>\n",
       "  </tbody>\n",
       "</table>\n",
       "</div>"
      ],
      "text/plain": [
       "    0    rec_datetime       file_name\n",
       "19  0  20190722214336  1563803013.wav\n",
       "20  0  20190722214845  1563803322.wav\n",
       "21  0  20190722215356  1563803633.wav\n",
       "22  0  20190722215905  1563803942.wav\n",
       "23  0  20190722220413  1563804250.wav\n",
       "24  1  20190722221443  1563804880.wav\n",
       "25  1  20190722221958  1563805195.wav"
      ]
     },
     "execution_count": 27,
     "metadata": {},
     "output_type": "execute_result"
    }
   ],
   "source": [
    "tempResult = result.tail(7)\n",
    "tempResult"
   ]
  },
  {
   "cell_type": "code",
   "execution_count": 6,
   "metadata": {},
   "outputs": [],
   "source": [
    "#複製資料\n",
    "src = \"Y:/\"\n",
    "des = \"C:/ACS/AI Team/code/error_voice\"\n",
    "utils.copyErrVoiceData(src, des, result)"
   ]
  },
  {
   "cell_type": "code",
   "execution_count": 19,
   "metadata": {
    "scrolled": true
   },
   "outputs": [
    {
     "data": {
      "image/png": "[encoded data removed]",
      "text/plain": [
       "<Figure size 936x72 with 1 Axes>"
      ]
     },
     "metadata": {},
     "output_type": "display_data"
    }
   ],
   "source": [
    "import matplotlib.pyplot as plt\n",
    "import numpy as np\n",
    "plt.figure(figsize=(13, 1))\n",
    "plt.plot(np.array(result.loc[:,\"rec_datetime\"]),np.array(result.loc[:,0]), marker='', color=\"grey\", linewidth=1, alpha=0.9)\n",
    "plt.show()"
   ]
  },
  {
   "cell_type": "markdown",
   "metadata": {},
   "source": [
    "# For Demo"
   ]
  },
  {
   "cell_type": "code",
   "execution_count": 52,
   "metadata": {},
   "outputs": [],
   "source": [
    "#prepare\n",
    "tempResult=pd.DataFrame()\n",
    "try:\n",
    "    tempResult = result.tail(6)\n",
    "except e:\n",
    "    pass\n",
    "\n",
    "import os\n",
    "import time\n",
    "import tkinter as tk\n",
    "from PIL import ImageTk, Image\n",
    "from winsound import *\n",
    "\n",
    "def play(file):\n",
    "    PlaySound(file, SND_FILENAME)\n",
    "\n",
    "window = tk.Tk()\n",
    "window.title('Voice Detection')\n",
    "\n",
    "#放置圖片\n",
    "#canvas = tk.Canvas(window,width=80, height=80)\n",
    "image = Image.open('blackbg.jpg')\n",
    "image = image.resize((300, 200))\n",
    "image_file = ImageTk.PhotoImage(image)\n",
    "l1=tk.Label(window,image=image_file)\n",
    "l1.pack()\n",
    "#image = canvas.create_image(250, 100, anchor='n',image=image_file) \n",
    "#canvas.pack()\n",
    "\n",
    "#放置label\n",
    "l = tk.Label(window, text='', font=('Arial', 12), width=30, height=2)\n",
    "l.pack()\n",
    "\n",
    "#放置Button\n",
    "def startDemo():\n",
    "    picPath=\"./forDemo/example_pics\"\n",
    "    voicePath=\"./forDemo/example_voice\"\n",
    "    if os.path.isdir(picPath) and os.path.isdir(voicePath):\n",
    "        if len(tempResult)>0:\n",
    "            start=0\n",
    "            \n",
    "            for index,row in tempResult.iterrows():\n",
    "                start+=1\n",
    "                if row[0]==1:\n",
    "                    l.config(text=\"異常狀態發生\", fg=\"red\")\n",
    "                else:\n",
    "                    l.config(text=\"無異常狀態\")\n",
    "                imagePath=picPath+\"/camera01-\"+str(start)+\".jpg\"\n",
    "                image = Image.open(imagePath)\n",
    "                image = image.resize((300, 200))\n",
    "                image_file = ImageTk.PhotoImage(image)\n",
    "                l1.configure(image=image_file)\n",
    "                l1.image = image_file\n",
    "                window.update()\n",
    "                print(voicePath+\"/\"+str(start)+\".wav\")\n",
    "                play(voicePath+\"/\"+str(start)+\".wav\")\n",
    "                l1.after(1000)\n",
    "                print(start)\n",
    "                \n",
    "        \"\"\"\n",
    "        for i in range(1,7):\n",
    "            if i >= 5:\n",
    "                l.config(text=\"異常狀態發生\", fg=\"red\")\n",
    "            else:\n",
    "                l.config(text=\"無異常狀態\")\n",
    "            imagePath=picPath+\"/camera01-\"+str(i)+\".jpg\"\n",
    "            image = Image.open(imagePath)\n",
    "            image = image.resize((300, 200))\n",
    "            image_file = ImageTk.PhotoImage(image)\n",
    "            l1.configure(image=image_file)\n",
    "            l1.image = image_file\n",
    "            window.update()\n",
    "            print(voicePath+\"/\"+str(i)+\".wav\")\n",
    "            play(voicePath+\"/\"+str(i)+\".wav\")\n",
    "            l1.after(1000)\n",
    "            print(i)\n",
    "        \"\"\"\n",
    "b = tk.Button(window, text='Start Demo', font=('Arial', 12), width=10, height=1, command=startDemo)\n",
    "b.pack()\n",
    "\n",
    "window.mainloop()\n",
    "\n",
    "#Window.destroy()\n"
   ]
  }
 ],
 "metadata": {
  "kernelspec": {
   "display_name": "Python 3",
   "language": "python",
   "name": "python3"
  },
  "language_info": {
   "codemirror_mode": {
    "name": "ipython",
    "version": 3
   },
   "file_extension": ".py",
   "mimetype": "text/x-python",
   "name": "python",
   "nbconvert_exporter": "python",
   "pygments_lexer": "ipython3",
   "version": "3.6.5"
  }
 },
 "nbformat": 4,
 "nbformat_minor": 2
}
