{
 "cells": [
  {
   "cell_type": "markdown",
   "metadata": {},
   "source": [
    "窗函數<br/>\n",
    "https://zhuanlan.zhihu.com/p/24318554#:~:targetText=%E7%9B%B8%E5%AF%B9%E8%80%8C%E8%A8%80%EF%BC%8C%E5%A6%82%E6%9E%9C%E6%97%81,%E5%88%86%E8%BE%A8%E8%83%BD%E5%8A%9B%E4%B9%9F%E4%B8%8D%E4%B8%80%E6%A0%B7%E3%80%82\n",
    "\n",
    "訊號處理<br/>\n",
    "https://zhuanlan.zhihu.com/p/69244471\n",
    "\n",
    "R-PCA<br/>\n",
    "https://www.itread01.com/content/1541479143.html\n",
    "\n",
    "梅爾頻率倒譜系數（MFCC）<br/>\n",
    "https://www.itread01.com/content/1548626964.html"
   ]
  },
  {
   "cell_type": "code",
   "execution_count": 5,
   "metadata": {},
   "outputs": [
    {
     "name": "stdout",
     "output_type": "stream",
     "text": [
      "Collecting soundfile\n",
      "  Downloading https://files.pythonhosted.org/packages/d7/72/1e80bc350b9a5e8f12fb0814a77d4f77f887382f076501fdaa89aa731b76/SoundFile-0.10.2-py2.py3.cp26.cp27.cp32.cp33.cp34.cp35.cp36.pp27.pp32.pp33-none-win_amd64.whl (692kB)\n",
      "Requirement already satisfied: cffi>=1.0 in c:\\software_installed\\anaconda3\\lib\\site-packages (from soundfile) (1.11.5)\n",
      "Requirement already satisfied: pycparser in c:\\software_installed\\anaconda3\\lib\\site-packages (from cffi>=1.0->soundfile) (2.18)\n",
      "Installing collected packages: soundfile\n",
      "Successfully installed soundfile-0.10.2\n"
     ]
    }
   ],
   "source": [
    "#!pip install soundfile"
   ]
  },
  {
   "cell_type": "markdown",
   "metadata": {},
   "source": [
    "# Import Data"
   ]
  },
  {
   "cell_type": "code",
   "execution_count": 2,
   "metadata": {},
   "outputs": [],
   "source": [
    "wav_file=\".\\\\forDemo\\\\example_voice\\\\6_new.wav\"\n",
    "import soundfile as sf\n",
    "data, sampling_rate = sf.read(wav_file)\n",
    "fs=sampling_rate"
   ]
  },
  {
   "cell_type": "code",
   "execution_count": 5,
   "metadata": {},
   "outputs": [
    {
     "data": {
      "image/png": "[encoded data removed]",
      "text/plain": [
       "<Figure size 432x288 with 1 Axes>"
      ]
     },
     "metadata": {},
     "output_type": "display_data"
    },
    {
     "name": "stdout",
     "output_type": "stream",
     "text": [
      "48000\n"
     ]
    }
   ],
   "source": [
    "import pylab as plt\n",
    "plt.plot(data)\n",
    "plt.show()\n",
    "print(sampling_rate)"
   ]
  },
  {
   "cell_type": "code",
   "execution_count": 4,
   "metadata": {},
   "outputs": [],
   "source": [
    "#增強訊號\n",
    "from scipy import signal\n",
    "b,a = signal.butter(1,1-0.97,'high')\n",
    "data = signal.filtfilt(b,a,data)"
   ]
  },
  {
   "cell_type": "code",
   "execution_count": 78,
   "metadata": {},
   "outputs": [],
   "source": [
    "import numpy as np\n",
    "#normalize\n",
    "max_sample = np.max(data)\n",
    "min_sample = np.min(data)\n",
    "scale = 2 * 0.925 / (max_sample-min_sample)\n",
    "data = [sample * scale for sample in data]"
   ]
  },
  {
   "cell_type": "code",
   "execution_count": 79,
   "metadata": {},
   "outputs": [
    {
     "name": "stdout",
     "output_type": "stream",
     "text": [
      "8192\n",
      "15\n"
     ]
    }
   ],
   "source": [
    "def enframe(wave_data, nw, inc, winfunc):\n",
    "    '''将音频信号转化为帧。\n",
    "    参数含义：\n",
    "    wave_data:原始音频型号\n",
    "    nw:每一帧的长度(这里指采样点的长度，即采样频率乘以时间间隔)\n",
    "    inc:相邻帧的间隔（同上定义）\n",
    "    '''\n",
    "    wlen=len(wave_data) #信号总长度\n",
    "    if wlen<=nw: #若信号长度小于一个帧的长度，则帧数定义为1\n",
    "        nf=1\n",
    "    else: #否则，计算帧的总长度\n",
    "        nf=int(np.ceil((1.0*wlen-nw+inc)/inc))\n",
    "    pad_length=int((nf-1)*inc+nw) #所有帧加起来总的铺平后的长度\n",
    "    zeros=np.zeros((pad_length-wlen,)) #不够的长度使用0填补，类似于FFT中的扩充数组操作\n",
    "    pad_signal=np.concatenate((wave_data,zeros)) #填补后的信号记为pad_signal\n",
    "    indices=np.tile(np.arange(0,nw),(nf,1))+np.tile(np.arange(0,nf*inc,inc),(nw,1)).T  #相当于对所有帧的时间点进行抽取，得到nf*nw长度的矩阵\n",
    "    indices=np.array(indices,dtype=np.int32) #将indices转化为矩阵\n",
    "    frames=pad_signal[indices] #得到帧信号\n",
    "    win=np.tile(winfunc,(nf,1))  #window窗函数，这里默认取1\n",
    "    return frames*win   #返回帧信号矩阵\n",
    "\n",
    "\n",
    "from scipy import signal\n",
    "#分帧、加窗 \n",
    "frame_length=32768\n",
    "frame_shift = round(float(frame_length) * (1 / 4))\n",
    "print(frame_shift)\n",
    "winfunc = signal.hamming(frame_length) \n",
    "X=enframe(data, frame_length, frame_shift, winfunc)    #转置的原因是分帧函数enframe的输出矩阵是帧数*帧长\n",
    "frameNum =X.shape[0] #返回矩阵行数18，获取帧数\n",
    "print(frameNum)"
   ]
  },
  {
   "cell_type": "code",
   "execution_count": 80,
   "metadata": {},
   "outputs": [],
   "source": [
    "Ds = []\n",
    "\n",
    "for i in range(frameNum):\n",
    "    y=X[i,:]\n",
    "    #fft\n",
    "    yf = np.abs(np.fft.fft(y)) \n",
    "    #print(yf.shape)\n",
    "    #谱线能量\n",
    "    yf = yf**2\n",
    "    #梅尔滤波器系数\n",
    "    nfilt = 24\n",
    "    low_freq_mel = 0\n",
    "    NFFT=256\n",
    "    high_freq_mel = (2595 * np.log10(1 + (fs / 2) / 700))  # 把 Hz 变成 Mel\n",
    "    mel_points = np.linspace(low_freq_mel, high_freq_mel, nfilt + 2)  # 将梅尔刻度等间隔\n",
    "    hz_points = (700 * (10**(mel_points / 2595) - 1))  # 把 Mel 变成 Hz\n",
    "    bin = np.floor((NFFT + 1) * hz_points / fs)\n",
    "    fbank = np.zeros((nfilt, int(np.floor(NFFT / 2 + 1))))\n",
    "    for m in range(1, nfilt + 1):\n",
    "        f_m_minus = int(bin[m - 1])   # left\n",
    "        f_m = int(bin[m])             # center\n",
    "        f_m_plus = int(bin[m + 1])    # right\n",
    "        for k in range(f_m_minus, f_m):\n",
    "            fbank[m - 1, k] = (k - bin[m - 1]) / (bin[m] - bin[m - 1])\n",
    "        for k in range(f_m, f_m_plus):\n",
    "            fbank[m - 1, k] = (bin[m + 1] - k) / (bin[m + 1] - bin[m])\n",
    "    filter_banks = np.dot(yf[0:129], fbank.T)\n",
    "    filter_banks = np.where(filter_banks == 0, np.finfo(float).eps, filter_banks)  # 数值稳定性\n",
    "    #filter_banks = 10 * np.log10(filter_banks)  # dB \n",
    "    #filter_banks -= (np.mean(filter_banks, axis=0) + 1e-8)\n",
    "    #print(filter_banks.shape)\n",
    "    d=np.array(filter_banks)\n",
    "    Ds.append(np.log(d))\n",
    "\n",
    "    '''\n",
    "    #DCT系数\n",
    "    num_ceps = 12\n",
    "    c2 = dct(filter_banks, type=2, axis=-1, norm='ortho')[ 1 : (num_ceps + 1)] # Keep 2-13\n",
    "    c2 = c2* lifts\n",
    "    print(c2)\n",
    "    plt.plot(c2)\n",
    "    plt.show()\n",
    "    '''\n",
    "    "
   ]
  },
  {
   "cell_type": "code",
   "execution_count": 81,
   "metadata": {},
   "outputs": [],
   "source": [
    "D = np.stack(Ds,axis=1)"
   ]
  },
  {
   "cell_type": "code",
   "execution_count": 82,
   "metadata": {
    "scrolled": true
   },
   "outputs": [
    {
     "name": "stdout",
     "output_type": "stream",
     "text": [
      "iteration: 1, error: 4.877433268472176\n",
      "iteration: 100, error: 0.0025024897134828263\n",
      "iteration: 200, error: 0.0013462787492460175\n",
      "iteration: 300, error: 0.0012236946162297643\n",
      "iteration: 400, error: 0.001179785966101943\n",
      "iteration: 500, error: 0.0011575165191695374\n",
      "iteration: 600, error: 0.0011438328848042086\n",
      "iteration: 700, error: 0.0005413259228249024\n",
      "iteration: 800, error: 0.00014641195371844923\n",
      "iteration: 900, error: 8.060254910275782e-05\n",
      "iteration: 1000, error: 5.3865082151951705e-05\n",
      "iteration: 1100, error: 3.810572833800897e-05\n",
      "iteration: 1200, error: 2.8440022184687595e-05\n",
      "iteration: 1300, error: 2.221758594793222e-05\n",
      "iteration: 1398, error: 1.8009279395257282e-05\n"
     ]
    }
   ],
   "source": [
    "from r_pca import *\n",
    "\n",
    "# use R_pca to estimate the degraded data as L + S, where L is low rank, and S is sparse\n",
    "rpca = R_pca(D)\n",
    "L, S = rpca.fit(max_iter=10000, iter_print=100)\n",
    "\n",
    "# visually inspect results (requires matplotlib)\n",
    "#rpca.plot_fit()\n",
    "#plt.show()"
   ]
  },
  {
   "cell_type": "code",
   "execution_count": 83,
   "metadata": {},
   "outputs": [
    {
     "data": {
      "image/png": "[encoded data removed]",
      "text/plain": [
       "<Figure size 432x288 with 1 Axes>"
      ]
     },
     "metadata": {},
     "output_type": "display_data"
    }
   ],
   "source": [
    "feature_value = np.sum(L, axis=1)\n",
    "plt.plot(feature_value)\n",
    "plt.show()"
   ]
  },
  {
   "cell_type": "code",
   "execution_count": 43,
   "metadata": {},
   "outputs": [
    {
     "data": {
      "image/png": "[encoded data removed]",
      "text/plain": [
       "<Figure size 432x288 with 1 Axes>"
      ]
     },
     "metadata": {},
     "output_type": "display_data"
    }
   ],
   "source": [
    "feature_value = np.sum(L, axis=1)\n",
    "plt.plot(feature_value)\n",
    "plt.show()"
   ]
  },
  {
   "cell_type": "markdown",
   "metadata": {},
   "source": [
    "rpca_example"
   ]
  },
  {
   "cell_type": "code",
   "execution_count": 25,
   "metadata": {},
   "outputs": [
    {
     "name": "stdout",
     "output_type": "stream",
     "text": [
      "100 120\n"
     ]
    }
   ],
   "source": [
    "from r_pca import *\n",
    "\n",
    "# generate low rank synthetic data\n",
    "N = 100\n",
    "num_groups = 3\n",
    "num_values_per_group = 40\n",
    "p_missing = 0.2\n",
    "\n",
    "Ds = []\n",
    "for k in range(num_groups):\n",
    "    d = np.ones((N, num_values_per_group)) * (k + 1) * 10\n",
    "    Ds.append(d)\n",
    "\n",
    "D = np.hstack(Ds)\n",
    "\n",
    "# decimate 20% of data \n",
    "n1, n2 = D.shape\n",
    "S = np.random.rand(n1, n2)\n",
    "D[S < 0.2] = 0\n",
    "\n",
    "# use R_pca to estimate the degraded data as L + S, where L is low rank, and S is sparse\n",
    "rpca = R_pca(D)\n",
    "L, S = rpca.fit(max_iter=10000, iter_print=100)\n",
    "\n",
    "# visually inspect results (requires matplotlib)\n",
    "rpca.plot_fit()\n",
    "plt.show()"
   ]
  },
  {
   "cell_type": "code",
   "execution_count": null,
   "metadata": {},
   "outputs": [],
   "source": []
  }
 ],
 "metadata": {
  "kernelspec": {
   "display_name": "Python 3",
   "language": "python",
   "name": "python3"
  },
  "language_info": {
   "codemirror_mode": {
    "name": "ipython",
    "version": 3
   },
   "file_extension": ".py",
   "mimetype": "text/x-python",
   "name": "python",
   "nbconvert_exporter": "python",
   "pygments_lexer": "ipython3",
   "version": "3.6.5"
  }
 },
 "nbformat": 4,
 "nbformat_minor": 2
}
