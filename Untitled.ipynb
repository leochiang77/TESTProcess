{
 "cells": [
  {
   "cell_type": "code",
   "execution_count": null,
   "id": "2627aaff",
   "metadata": {},
   "outputs": [],
   "source": [
    "# power數值為遞增趨勢與[累積時數-異常數量]相同，feature先不考慮\n",
    "# 判斷cooler與各層間的關係"
   ]
  },
  {
   "cell_type": "code",
   "execution_count": 1,
   "id": "0ac97878",
   "metadata": {},
   "outputs": [],
   "source": [
    "import numpy as np\n",
    "import pandas as pd\n",
    "import matplotlib.pyplot as plt\n",
    "from sklearn.svm import SVR, OneClassSVM"
   ]
  },
  {
   "cell_type": "code",
   "execution_count": 2,
   "id": "e2a20e22",
   "metadata": {
    "scrolled": true
   },
   "outputs": [
    {
     "data": {
      "text/html": [
       "<div>\n",
       "<style scoped>\n",
       "    .dataframe tbody tr th:only-of-type {\n",
       "        vertical-align: middle;\n",
       "    }\n",
       "\n",
       "    .dataframe tbody tr th {\n",
       "        vertical-align: top;\n",
       "    }\n",
       "\n",
       "    .dataframe thead th {\n",
       "        text-align: right;\n",
       "    }\n",
       "</style>\n",
       "<table border=\"1\" class=\"dataframe\">\n",
       "  <thead>\n",
       "    <tr style=\"text-align: right;\">\n",
       "      <th></th>\n",
       "      <th>date</th>\n",
       "      <th>oven_id</th>\n",
       "      <th>layer_id</th>\n",
       "      <th>lamp_id</th>\n",
       "      <th>anomaly_accumulation_hour</th>\n",
       "      <th>anomaly_total_number</th>\n",
       "    </tr>\n",
       "  </thead>\n",
       "  <tbody>\n",
       "    <tr>\n",
       "      <th>0</th>\n",
       "      <td>2021/12/27</td>\n",
       "      <td>1B0</td>\n",
       "      <td>5</td>\n",
       "      <td>26_49</td>\n",
       "      <td>5116</td>\n",
       "      <td>2</td>\n",
       "    </tr>\n",
       "    <tr>\n",
       "      <th>1</th>\n",
       "      <td>2021/12/27</td>\n",
       "      <td>1C0</td>\n",
       "      <td>3</td>\n",
       "      <td>45_91</td>\n",
       "      <td>4699</td>\n",
       "      <td>2</td>\n",
       "    </tr>\n",
       "    <tr>\n",
       "      <th>2</th>\n",
       "      <td>2021/12/27</td>\n",
       "      <td>1D0</td>\n",
       "      <td>14</td>\n",
       "      <td>64</td>\n",
       "      <td>3241</td>\n",
       "      <td>1</td>\n",
       "    </tr>\n",
       "    <tr>\n",
       "      <th>3</th>\n",
       "      <td>2021/12/27</td>\n",
       "      <td>1E0</td>\n",
       "      <td>1</td>\n",
       "      <td>96</td>\n",
       "      <td>4138</td>\n",
       "      <td>1</td>\n",
       "    </tr>\n",
       "    <tr>\n",
       "      <th>4</th>\n",
       "      <td>2021/12/27</td>\n",
       "      <td>1E0</td>\n",
       "      <td>8</td>\n",
       "      <td>51</td>\n",
       "      <td>3818</td>\n",
       "      <td>1</td>\n",
       "    </tr>\n",
       "  </tbody>\n",
       "</table>\n",
       "</div>"
      ],
      "text/plain": [
       "         date oven_id  layer_id lamp_id  anomaly_accumulation_hour  \\\n",
       "0  2021/12/27     1B0         5   26_49                       5116   \n",
       "1  2021/12/27     1C0         3   45_91                       4699   \n",
       "2  2021/12/27     1D0        14      64                       3241   \n",
       "3  2021/12/27     1E0         1      96                       4138   \n",
       "4  2021/12/27     1E0         8      51                       3818   \n",
       "\n",
       "   anomaly_total_number  \n",
       "0                     2  \n",
       "1                     2  \n",
       "2                     1  \n",
       "3                     1  \n",
       "4                     1  "
      ]
     },
     "execution_count": 2,
     "metadata": {},
     "output_type": "execute_result"
    }
   ],
   "source": [
    "df = pd.read_csv(r\"C:/Users/User/Desktop/competition_leo/決賽/data/anomaly_train1.csv\")\n",
    "df.head()"
   ]
  },
  {
   "cell_type": "code",
   "execution_count": 41,
   "id": "ffb9e1b4",
   "metadata": {},
   "outputs": [],
   "source": [
    "df_dummy =df.join(pd.get_dummies(df.date))"
   ]
  },
  {
   "cell_type": "code",
   "execution_count": 243,
   "id": "ed60aac8",
   "metadata": {
    "scrolled": true
   },
   "outputs": [
    {
     "name": "stdout",
     "output_type": "stream",
     "text": [
      "17.0\n"
     ]
    }
   ],
   "source": [
    "\n",
    "\n",
    "prerow = \"\"\n",
    "totalaccum = []\n",
    "intervalratio = []\n",
    "ovenid = \"1B0\"\n",
    "\n",
    "for num in range(4,5):\n",
    "    \n",
    "    df_dummy_temp = df_dummy[df_dummy.loc[:,\"oven_id\"]==ovenid]\n",
    "    df_dummy_temp_layer = df_dummy_temp[df_dummy_temp.loc[:,\"layer_id\"]==num].reset_index()\n",
    "    if num==1:\n",
    "        print(df_dummy_temp_layer)\n",
    "    \n",
    "    objid = ovenid+'_'+str(num)\n",
    "    tempfreq = resStd[objid][\"freq\"]\n",
    "    print(tempfreq)\n",
    "    \n",
    "    tempmodel = resmodel[ovenid]\n",
    "    for i, row in df_dummy_temp_layer.iterrows():\n",
    "\n",
    "        if i==0:\n",
    "            prerow = row\n",
    "        else:\n",
    "            intervalratio.append((row[\"anomaly_accumulation_hour\"]-prerow[\"anomaly_accumulation_hour\"])/tempfreq)\n",
    "\n",
    "            preRes = tempmodel.predict(np.array(prerow[\"anomaly_accumulation_hour\"]).reshape(-1,1))[0]\n",
    "            #print(preRes)\n",
    "            postRes = tempmodel.predict(np.array(row[\"anomaly_accumulation_hour\"]).reshape(-1,1))[0]\n",
    "            #print(postRes)\n",
    "            totalaccum.append(postRes-preRes)\n",
    "\n",
    "            prerow = row\n",
    "        #print(i)"
   ]
  },
  {
   "cell_type": "code",
   "execution_count": 244,
   "id": "58a28beb",
   "metadata": {},
   "outputs": [
    {
     "name": "stdout",
     "output_type": "stream",
     "text": [
      "[80.00934098270955, 7.475027945882175, 9.236845256877132, 6.830166100524366, 21.585009008296765, 19.290452773333527, 21.533114253543303, 1.917603354435414]\n",
      "[66.88235294117646, 5.0588235294117645, 6.0588235294117645, 4.352941176470588, 13.117647058823529, 11.0, 11.588235294117647, 1.0]\n"
     ]
    }
   ],
   "source": [
    "print(totalaccum)\n",
    "print(intervalratio)"
   ]
  },
  {
   "cell_type": "code",
   "execution_count": 245,
   "id": "9c913fb8",
   "metadata": {},
   "outputs": [
    {
     "data": {
      "text/plain": [
       "<matplotlib.collections.PathCollection at 0x144aa1bb400>"
      ]
     },
     "execution_count": 245,
     "metadata": {},
     "output_type": "execute_result"
    },
    {
     "data": {
      "image/png": "[encoded data removed]",
      "text/plain": [
       "<Figure size 432x288 with 1 Axes>"
      ]
     },
     "metadata": {
      "needs_background": "light"
     },
     "output_type": "display_data"
    }
   ],
   "source": [
    "plt.scatter(intervalratio,totalaccum)"
   ]
  },
  {
   "cell_type": "code",
   "execution_count": 246,
   "id": "a34bb2ca",
   "metadata": {},
   "outputs": [
    {
     "data": {
      "text/plain": [
       "<matplotlib.collections.PathCollection at 0x144aa32b910>"
      ]
     },
     "execution_count": 246,
     "metadata": {},
     "output_type": "execute_result"
    },
    {
     "data": {
      "image/png": "[encoded data removed]",
      "text/plain": [
       "<Figure size 432x288 with 1 Axes>"
      ]
     },
     "metadata": {
      "needs_background": "light"
     },
     "output_type": "display_data"
    }
   ],
   "source": [
    "plt.ylim(0,5)\n",
    "plt.xlim(0,50)\n",
    "plt.scatter(totalaccum,intervalratio)"
   ]
  },
  {
   "cell_type": "code",
   "execution_count": 247,
   "id": "b704f4f4",
   "metadata": {},
   "outputs": [
    {
     "data": {
      "text/plain": [
       "array([[80.00934098, 66.88235294],\n",
       "       [ 7.47502795,  5.05882353],\n",
       "       [ 9.23684526,  6.05882353],\n",
       "       [ 6.8301661 ,  4.35294118],\n",
       "       [21.58500901, 13.11764706],\n",
       "       [19.29045277, 11.        ],\n",
       "       [21.53311425, 11.58823529],\n",
       "       [ 1.91760335,  1.        ]])"
      ]
     },
     "execution_count": 247,
     "metadata": {},
     "output_type": "execute_result"
    }
   ],
   "source": [
    "x=np.c_[totalaccum,intervalratio]\n",
    "x\n"
   ]
  },
  {
   "cell_type": "code",
   "execution_count": 270,
   "id": "b43b69a3",
   "metadata": {},
   "outputs": [
    {
     "data": {
      "text/plain": [
       "LocalOutlierFactor(contamination=0.1, n_neighbors=2, novelty=True)"
      ]
     },
     "execution_count": 270,
     "metadata": {},
     "output_type": "execute_result"
    }
   ],
   "source": [
    "from sklearn.neighbors import LocalOutlierFactor\n",
    "lof = LocalOutlierFactor(n_neighbors=2, contamination=0.1, novelty=True)\n",
    "lof.fit(x)\n",
    "#y_pred = lof.fit_predict(x)"
   ]
  },
  {
   "cell_type": "code",
   "execution_count": 271,
   "id": "de4273ba",
   "metadata": {},
   "outputs": [
    {
     "data": {
      "text/plain": [
       "array([-1,  1,  1,  1,  1,  1,  1,  1])"
      ]
     },
     "execution_count": 271,
     "metadata": {},
     "output_type": "execute_result"
    }
   ],
   "source": [
    "#x_predict = np.c_[[0],[50]]\n",
    "x_predicted = lof.predict(x)\n",
    "x_predicted"
   ]
  },
  {
   "cell_type": "code",
   "execution_count": 272,
   "id": "40e35369",
   "metadata": {},
   "outputs": [
    {
     "data": {
      "text/plain": [
       "array([1])"
      ]
     },
     "execution_count": 272,
     "metadata": {},
     "output_type": "execute_result"
    }
   ],
   "source": [
    "x_temp = np.c_[[20],[6]]\n",
    "lof.predict(x_temp)"
   ]
  },
  {
   "cell_type": "code",
   "execution_count": 273,
   "id": "d954bb18",
   "metadata": {},
   "outputs": [],
   "source": [
    "from numpy import quantile, where\n",
    "lofs_index = where(y_pred==-1)\n",
    "values = x[lofs_index]"
   ]
  },
  {
   "cell_type": "code",
   "execution_count": 274,
   "id": "cb8cc543",
   "metadata": {},
   "outputs": [
    {
     "data": {
      "image/png": "[encoded data removed]",
      "text/plain": [
       "<Figure size 432x288 with 1 Axes>"
      ]
     },
     "metadata": {
      "needs_background": "light"
     },
     "output_type": "display_data"
    }
   ],
   "source": [
    "plt.scatter(x[:,0], x[:,1])\n",
    "plt.scatter(values[:,0],values[:,1], color='r')\n",
    "plt.show()"
   ]
  },
  {
   "cell_type": "code",
   "execution_count": 275,
   "id": "a3e89c39",
   "metadata": {},
   "outputs": [
    {
     "name": "stdout",
     "output_type": "stream",
     "text": [
      "[[  7.11750377   7.1535125    7.18126964 ... -12.50775232 -12.5665276\n",
      "  -12.62531318]\n",
      " [  7.1459764    7.17639299   7.19515126 ... -12.49469066 -12.55350012\n",
      "  -12.61231969]\n",
      " [  7.17093665   7.18998086   7.20888537 ... -12.48174353 -12.54058689\n",
      "  -12.59944019]\n",
      " ...\n",
      " [-13.61937868 -13.59560152 -13.57197951 ...  -5.90782768  -5.92013858\n",
      "   -5.93246533]\n",
      " [-13.67135638 -13.64763168 -13.62406189 ...  -5.9176576   -5.92995374\n",
      "   -5.94226574]\n",
      " [-13.72335199 -13.69967953 -13.67616176 ...  -5.92750122  -5.9397826\n",
      "   -5.95207988]]\n"
     ]
    },
    {
     "data": {
      "image/png": "[encoded data removed]",
      "text/plain": [
       "<Figure size 432x288 with 1 Axes>"
      ]
     },
     "metadata": {
      "needs_background": "light"
     },
     "output_type": "display_data"
    }
   ],
   "source": [
    "x_reduced = np.c_[totalaccum,intervalratio]\n",
    "\n",
    "x_min, x_max = x_reduced[:, 0].min() - 5, x_reduced[:, 0].max() + 5\n",
    "y_min, y_max = x_reduced[:, 1].min() - 5, x_reduced[:, 1].max() + 5\n",
    "\n",
    "x_ = np.linspace(x_min, x_max, 500)\n",
    "y_ = np.linspace(y_min, y_max, 500)\n",
    "\n",
    "xx, yy = np.meshgrid(x_, y_)\n",
    "z = lof.decision_function(np.c_[xx.ravel(), yy.ravel()])\n",
    "z = z.reshape(xx.shape)\n",
    "print(z)\n",
    "# plot the decision function and the reduced data\n",
    "plt.contourf(xx, yy, z, cmap=plt.cm.PuBu)\n",
    "a = plt.contour(xx, yy, z, levels=[0], linewidths=2, colors='darkred')\n",
    "b = plt.scatter(x_reduced[x_predicted == 1, 0], x_reduced[x_predicted == 1, 1], c='white', edgecolors='k')\n",
    "c = plt.scatter(x_reduced[x_predicted == -1, 0], x_reduced[x_predicted == -1, 1], c='gold', edgecolors='k')\n",
    "plt.legend([a.collections[0], b, c], ['learned frontier', 'regular observations', 'abnormal observations'], bbox_to_anchor=(1.05, 1))\n",
    "plt.axis('tight')\n",
    "plt.show()"
   ]
  },
  {
   "cell_type": "code",
   "execution_count": 260,
   "id": "07774302",
   "metadata": {},
   "outputs": [
    {
     "name": "stdout",
     "output_type": "stream",
     "text": [
      "[[80.00934098 66.88235294]\n",
      " [ 7.47502795  5.05882353]\n",
      " [ 9.23684526  6.05882353]\n",
      " [ 6.8301661   4.35294118]\n",
      " [21.58500901 13.11764706]\n",
      " [19.29045277 11.        ]\n",
      " [21.53311425 11.58823529]\n",
      " [ 1.91760335  1.        ]]\n",
      "[1 1 1 1 1 1 1 1]\n",
      "[-0.9810763  -0.99333206 -0.99688314 -0.991638   -1.02173843 -1.01616311\n",
      " -1.01980782 -0.9810763 ]\n",
      "[0.9810763  0.99333206 0.99688314 0.991638   1.02173843 1.01616311\n",
      " 1.01980782 0.9810763 ]\n"
     ]
    },
    {
     "name": "stderr",
     "output_type": "stream",
     "text": [
      "C:\\Users\\User\\anaconda3\\lib\\site-packages\\sklearn\\neighbors\\_lof.py:274: UserWarning: n_neighbors (20) is greater than the total number of samples (8). n_neighbors will be set to (n_samples - 1) for estimation.\n",
      "  warnings.warn(\"n_neighbors (%s) is greater than the \"\n"
     ]
    },
    {
     "data": {
      "image/png": "[encoded data removed]",
      "text/plain": [
       "<Figure size 432x288 with 1 Axes>"
      ]
     },
     "metadata": {
      "needs_background": "light"
     },
     "output_type": "display_data"
    }
   ],
   "source": [
    "lof = LocalOutlierFactor(n_neighbors=20, contamination=0.01, novelty=True)\n",
    "lof.fit(x)\n",
    "y_pred = lof.predict(x)\n",
    "#y_pred = lof.fit_predict(x)\n",
    "print(x)\n",
    "print(y_pred)\n",
    "#n_errors = (y_pred != ground_truth).sum()\n",
    "X_scores = lof.negative_outlier_factor_\n",
    "print(X_scores)\n",
    "\n",
    "\n",
    "plt.title('Locla Outlier Factor (LOF)')\n",
    "plt.scatter(x[:, 0], x[:, 1], color='k', s=3., label='Data points')\n",
    "# plot circles with radius proportional to thr outlier scores\n",
    "#radius = (X_scores.max() - X_scores) / (X_scores.max() - X_scores.min())\n",
    "radius = abs(X_scores)\n",
    "print(radius)\n",
    "plt.scatter(x[:, 0], x[:, 1], s=1000*radius, edgecolors='r',\n",
    "    facecolors='none', label='Outlier scores')\n",
    "plt.axis('tight')\n",
    "#plt.xlim((-5, 5))\n",
    "#plt.ylim((-5, 5))\n",
    "#plt.xlabel(\"prediction errors: %d\"%(n_errors))\n",
    "#legend = plt.legend(loc='upper left')\n",
    "#legend.legendHandles[0]._sizes = [10]\n",
    "#legend.legendHandles[1]._sizes = [20]\n",
    "plt.show()"
   ]
  },
  {
   "cell_type": "code",
   "execution_count": 277,
   "id": "f6cf5e4a",
   "metadata": {},
   "outputs": [
    {
     "data": {
      "text/plain": [
       "array([1])"
      ]
     },
     "execution_count": 277,
     "metadata": {},
     "output_type": "execute_result"
    }
   ],
   "source": [
    "x_predict = np.c_[[40],[20]]\n",
    "x_predicted = lof.predict(x_predict)\n",
    "x_predicted"
   ]
  },
  {
   "cell_type": "code",
   "execution_count": 202,
   "id": "ccdf6404",
   "metadata": {},
   "outputs": [
    {
     "data": {
      "text/plain": [
       "array([-1.07549822, -1.02200477, -1.00495897, -0.96104679, -0.96104679,\n",
       "       -0.98512264, -0.99822482])"
      ]
     },
     "execution_count": 202,
     "metadata": {},
     "output_type": "execute_result"
    }
   ],
   "source": [
    "X_scores"
   ]
  },
  {
   "cell_type": "markdown",
   "id": "c9d9d525",
   "metadata": {},
   "source": [
    "### SVN嘗試 (失敗)"
   ]
  },
  {
   "cell_type": "code",
   "execution_count": 163,
   "id": "a2339074",
   "metadata": {},
   "outputs": [
    {
     "data": {
      "text/plain": [
       "array([-1, -1, -1, -1, -1, -1, -1], dtype=int64)"
      ]
     },
     "execution_count": 163,
     "metadata": {},
     "output_type": "execute_result"
    }
   ],
   "source": [
    "svm = OneClassSVM(nu=0.52, kernel=\"rbf\", gamma=0.5)\n",
    "svm.fit(np.c_[totalaccum,intervalratio])\n",
    "x_predicted = clf.predict(np.c_[totalaccum,intervalratio])\n",
    "x_predicted"
   ]
  },
  {
   "cell_type": "code",
   "execution_count": 164,
   "id": "817bbf6e",
   "metadata": {},
   "outputs": [
    {
     "data": {
      "image/png": "[encoded data removed]",
      "text/plain": [
       "<Figure size 432x288 with 1 Axes>"
      ]
     },
     "metadata": {
      "needs_background": "light"
     },
     "output_type": "display_data"
    }
   ],
   "source": [
    "x_reduced = np.c_[totalaccum,intervalratio]\n",
    "\n",
    "x_min, x_max = x_reduced[:, 0].min() - 5, x_reduced[:, 0].max() + 5\n",
    "y_min, y_max = x_reduced[:, 1].min() - 5, x_reduced[:, 1].max() + 5\n",
    "\n",
    "x_ = np.linspace(x_min, x_max, 500)\n",
    "y_ = np.linspace(y_min, y_max, 500)\n",
    "\n",
    "xx, yy = np.meshgrid(x_, y_)\n",
    "z = svm.decision_function(np.c_[xx.ravel(), yy.ravel()])\n",
    "z = z.reshape(xx.shape)\n",
    "\n",
    "# plot the decision function and the reduced data\n",
    "plt.contourf(xx, yy, z, cmap=plt.cm.PuBu)\n",
    "a = plt.contour(xx, yy, z, levels=[0], linewidths=2, colors='darkred')\n",
    "b = plt.scatter(x_reduced[x_predicted == 1, 0], x_reduced[x_predicted == 1, 1], c='white', edgecolors='k')\n",
    "c = plt.scatter(x_reduced[x_predicted == -1, 0], x_reduced[x_predicted == -1, 1], c='gold', edgecolors='k')\n",
    "plt.legend([a.collections[0], b, c], ['learned frontier', 'regular observations', 'abnormal observations'], bbox_to_anchor=(1.05, 1))\n",
    "plt.axis('tight')\n",
    "plt.show()"
   ]
  },
  {
   "cell_type": "code",
   "execution_count": 189,
   "id": "0e2ec3a4",
   "metadata": {},
   "outputs": [],
   "source": [
    "ovenList = list(df[\"oven_id\"].unique())"
   ]
  },
  {
   "cell_type": "markdown",
   "id": "baabd942",
   "metadata": {},
   "source": [
    "## EDA"
   ]
  },
  {
   "cell_type": "code",
   "execution_count": 70,
   "id": "90d43dfb",
   "metadata": {},
   "outputs": [],
   "source": [
    "temp = df[df.loc[:,\"oven_id\"]==\"1B0\"].sort_values(by=[\"anomaly_accumulation_hour\"], ignore_index=True)"
   ]
  },
  {
   "cell_type": "code",
   "execution_count": 71,
   "id": "50d59eb4",
   "metadata": {},
   "outputs": [],
   "source": [
    "temp[\"anomaly_total_number_cumsum\"] = temp[\"anomaly_total_number\"].cumsum()"
   ]
  },
  {
   "cell_type": "code",
   "execution_count": 72,
   "id": "018cd5ff",
   "metadata": {
    "scrolled": true
   },
   "outputs": [
    {
     "data": {
      "text/html": [
       "<div>\n",
       "<style scoped>\n",
       "    .dataframe tbody tr th:only-of-type {\n",
       "        vertical-align: middle;\n",
       "    }\n",
       "\n",
       "    .dataframe tbody tr th {\n",
       "        vertical-align: top;\n",
       "    }\n",
       "\n",
       "    .dataframe thead th {\n",
       "        text-align: right;\n",
       "    }\n",
       "</style>\n",
       "<table border=\"1\" class=\"dataframe\">\n",
       "  <thead>\n",
       "    <tr style=\"text-align: right;\">\n",
       "      <th></th>\n",
       "      <th>date</th>\n",
       "      <th>oven_id</th>\n",
       "      <th>layer_id</th>\n",
       "      <th>lamp_id</th>\n",
       "      <th>anomaly_accumulation_hour</th>\n",
       "      <th>anomaly_total_number</th>\n",
       "      <th>anomaly_total_number_cumsum</th>\n",
       "    </tr>\n",
       "  </thead>\n",
       "  <tbody>\n",
       "    <tr>\n",
       "      <th>0</th>\n",
       "      <td>2022/1/14</td>\n",
       "      <td>1B0</td>\n",
       "      <td>2</td>\n",
       "      <td>38_116</td>\n",
       "      <td>4179</td>\n",
       "      <td>2</td>\n",
       "      <td>2</td>\n",
       "    </tr>\n",
       "    <tr>\n",
       "      <th>1</th>\n",
       "      <td>2022/1/4</td>\n",
       "      <td>1B0</td>\n",
       "      <td>4</td>\n",
       "      <td>31</td>\n",
       "      <td>4822</td>\n",
       "      <td>1</td>\n",
       "      <td>3</td>\n",
       "    </tr>\n",
       "    <tr>\n",
       "      <th>2</th>\n",
       "      <td>2022/2/19</td>\n",
       "      <td>1B0</td>\n",
       "      <td>2</td>\n",
       "      <td>51</td>\n",
       "      <td>4919</td>\n",
       "      <td>1</td>\n",
       "      <td>4</td>\n",
       "    </tr>\n",
       "    <tr>\n",
       "      <th>3</th>\n",
       "      <td>2022/1/9</td>\n",
       "      <td>1B0</td>\n",
       "      <td>18</td>\n",
       "      <td>47_50_120</td>\n",
       "      <td>5007</td>\n",
       "      <td>3</td>\n",
       "      <td>7</td>\n",
       "    </tr>\n",
       "    <tr>\n",
       "      <th>4</th>\n",
       "      <td>2022/1/4</td>\n",
       "      <td>1B0</td>\n",
       "      <td>7</td>\n",
       "      <td>59_89_109</td>\n",
       "      <td>5011</td>\n",
       "      <td>3</td>\n",
       "      <td>10</td>\n",
       "    </tr>\n",
       "    <tr>\n",
       "      <th>...</th>\n",
       "      <td>...</td>\n",
       "      <td>...</td>\n",
       "      <td>...</td>\n",
       "      <td>...</td>\n",
       "      <td>...</td>\n",
       "      <td>...</td>\n",
       "      <td>...</td>\n",
       "    </tr>\n",
       "    <tr>\n",
       "      <th>88</th>\n",
       "      <td>2022/4/29</td>\n",
       "      <td>1B0</td>\n",
       "      <td>6</td>\n",
       "      <td>27_32_63_117</td>\n",
       "      <td>7534</td>\n",
       "      <td>4</td>\n",
       "      <td>232</td>\n",
       "    </tr>\n",
       "    <tr>\n",
       "      <th>89</th>\n",
       "      <td>2022/4/22</td>\n",
       "      <td>1B0</td>\n",
       "      <td>1</td>\n",
       "      <td>55_64</td>\n",
       "      <td>7559</td>\n",
       "      <td>2</td>\n",
       "      <td>234</td>\n",
       "    </tr>\n",
       "    <tr>\n",
       "      <th>90</th>\n",
       "      <td>2022/5/4</td>\n",
       "      <td>1B0</td>\n",
       "      <td>10</td>\n",
       "      <td>15_37_117</td>\n",
       "      <td>7565</td>\n",
       "      <td>3</td>\n",
       "      <td>237</td>\n",
       "    </tr>\n",
       "    <tr>\n",
       "      <th>91</th>\n",
       "      <td>2022/4/24</td>\n",
       "      <td>1B0</td>\n",
       "      <td>3</td>\n",
       "      <td>43_6_67</td>\n",
       "      <td>7599</td>\n",
       "      <td>3</td>\n",
       "      <td>240</td>\n",
       "    </tr>\n",
       "    <tr>\n",
       "      <th>92</th>\n",
       "      <td>2022/5/2</td>\n",
       "      <td>1B0</td>\n",
       "      <td>1</td>\n",
       "      <td>45_71</td>\n",
       "      <td>7703</td>\n",
       "      <td>2</td>\n",
       "      <td>242</td>\n",
       "    </tr>\n",
       "  </tbody>\n",
       "</table>\n",
       "<p>93 rows × 7 columns</p>\n",
       "</div>"
      ],
      "text/plain": [
       "         date oven_id  layer_id       lamp_id  anomaly_accumulation_hour  \\\n",
       "0   2022/1/14     1B0         2        38_116                       4179   \n",
       "1    2022/1/4     1B0         4            31                       4822   \n",
       "2   2022/2/19     1B0         2            51                       4919   \n",
       "3    2022/1/9     1B0        18     47_50_120                       5007   \n",
       "4    2022/1/4     1B0         7     59_89_109                       5011   \n",
       "..        ...     ...       ...           ...                        ...   \n",
       "88  2022/4/29     1B0         6  27_32_63_117                       7534   \n",
       "89  2022/4/22     1B0         1         55_64                       7559   \n",
       "90   2022/5/4     1B0        10     15_37_117                       7565   \n",
       "91  2022/4/24     1B0         3       43_6_67                       7599   \n",
       "92   2022/5/2     1B0         1         45_71                       7703   \n",
       "\n",
       "    anomaly_total_number  anomaly_total_number_cumsum  \n",
       "0                      2                            2  \n",
       "1                      1                            3  \n",
       "2                      1                            4  \n",
       "3                      3                            7  \n",
       "4                      3                           10  \n",
       "..                   ...                          ...  \n",
       "88                     4                          232  \n",
       "89                     2                          234  \n",
       "90                     3                          237  \n",
       "91                     3                          240  \n",
       "92                     2                          242  \n",
       "\n",
       "[93 rows x 7 columns]"
      ]
     },
     "execution_count": 72,
     "metadata": {},
     "output_type": "execute_result"
    }
   ],
   "source": [
    "temp"
   ]
  },
  {
   "cell_type": "markdown",
   "id": "4b708dcb",
   "metadata": {},
   "source": [
    "### 查看各爐時數與壞掉個數之關係"
   ]
  },
  {
   "cell_type": "code",
   "execution_count": 39,
   "id": "84950ca8",
   "metadata": {},
   "outputs": [
    {
     "data": {
      "text/plain": [
       "SVR(kernel='poly')"
      ]
     },
     "execution_count": 39,
     "metadata": {},
     "output_type": "execute_result"
    }
   ],
   "source": [
    "svr = SVR(kernel='poly')\n",
    "svr.fit(temp[\"anomaly_accumulation_hour\"].values.reshape(-1,1),temp[\"anomaly_total_number_cumsum\"])"
   ]
  },
  {
   "cell_type": "code",
   "execution_count": 40,
   "id": "93b0939c",
   "metadata": {},
   "outputs": [
    {
     "data": {
      "text/plain": [
       "[<matplotlib.lines.Line2D at 0x144a9af1bb0>]"
      ]
     },
     "execution_count": 40,
     "metadata": {},
     "output_type": "execute_result"
    },
    {
     "data": {
      "image/png": "[encoded data removed]",
      "text/plain": [
       "<Figure size 432x288 with 1 Axes>"
      ]
     },
     "metadata": {
      "needs_background": "light"
     },
     "output_type": "display_data"
    }
   ],
   "source": [
    "plt.scatter(temp[\"anomaly_accumulation_hour\"],temp[\"anomaly_total_number_cumsum\"])\n",
    "plt.plot(temp[\"anomaly_accumulation_hour\"],svr.predict(temp[\"anomaly_accumulation_hour\"].values.reshape(-1,1)))"
   ]
  },
  {
   "cell_type": "markdown",
   "id": "e6685c66",
   "metadata": {},
   "source": [
    "### 查看各層累績時數與壞掉機率之關係 [note : 沒關係]"
   ]
  },
  {
   "cell_type": "code",
   "execution_count": 3,
   "id": "fe07375e",
   "metadata": {},
   "outputs": [
    {
     "data": {
      "text/html": [
       "<div>\n",
       "<style scoped>\n",
       "    .dataframe tbody tr th:only-of-type {\n",
       "        vertical-align: middle;\n",
       "    }\n",
       "\n",
       "    .dataframe tbody tr th {\n",
       "        vertical-align: top;\n",
       "    }\n",
       "\n",
       "    .dataframe thead th {\n",
       "        text-align: right;\n",
       "    }\n",
       "</style>\n",
       "<table border=\"1\" class=\"dataframe\">\n",
       "  <thead>\n",
       "    <tr style=\"text-align: right;\">\n",
       "      <th></th>\n",
       "      <th>date</th>\n",
       "      <th>oven_id</th>\n",
       "      <th>layer_id</th>\n",
       "      <th>accumulation_hour</th>\n",
       "    </tr>\n",
       "  </thead>\n",
       "  <tbody>\n",
       "    <tr>\n",
       "      <th>0</th>\n",
       "      <td>2022/5/4</td>\n",
       "      <td>1B0</td>\n",
       "      <td>1</td>\n",
       "      <td>7731</td>\n",
       "    </tr>\n",
       "    <tr>\n",
       "      <th>1</th>\n",
       "      <td>2022/5/4</td>\n",
       "      <td>1B0</td>\n",
       "      <td>2</td>\n",
       "      <td>6388</td>\n",
       "    </tr>\n",
       "    <tr>\n",
       "      <th>2</th>\n",
       "      <td>2022/5/4</td>\n",
       "      <td>1B0</td>\n",
       "      <td>3</td>\n",
       "      <td>7792</td>\n",
       "    </tr>\n",
       "    <tr>\n",
       "      <th>3</th>\n",
       "      <td>2022/5/4</td>\n",
       "      <td>1B0</td>\n",
       "      <td>4</td>\n",
       "      <td>6942</td>\n",
       "    </tr>\n",
       "    <tr>\n",
       "      <th>4</th>\n",
       "      <td>2022/5/4</td>\n",
       "      <td>1B0</td>\n",
       "      <td>5</td>\n",
       "      <td>7361</td>\n",
       "    </tr>\n",
       "  </tbody>\n",
       "</table>\n",
       "</div>"
      ],
      "text/plain": [
       "       date oven_id  layer_id  accumulation_hour\n",
       "0  2022/5/4     1B0         1               7731\n",
       "1  2022/5/4     1B0         2               6388\n",
       "2  2022/5/4     1B0         3               7792\n",
       "3  2022/5/4     1B0         4               6942\n",
       "4  2022/5/4     1B0         5               7361"
      ]
     },
     "execution_count": 3,
     "metadata": {},
     "output_type": "execute_result"
    }
   ],
   "source": [
    "hour1df = pd.read_csv(r\"C:/Users/User/Desktop/leo/competition_leo/決賽/data/accumulation_hour1.csv\")\n",
    "hour1df.head()"
   ]
  },
  {
   "cell_type": "code",
   "execution_count": 4,
   "id": "b2556d30",
   "metadata": {},
   "outputs": [
    {
     "ename": "NameError",
     "evalue": "name 'temp' is not defined",
     "output_type": "error",
     "traceback": [
      "\u001b[1;31m---------------------------------------------------------------------------\u001b[0m",
      "\u001b[1;31mNameError\u001b[0m                                 Traceback (most recent call last)",
      "\u001b[1;32m<ipython-input-4-8925af76cfc1>\u001b[0m in \u001b[0;36m<module>\u001b[1;34m\u001b[0m\n\u001b[1;32m----> 1\u001b[1;33m \u001b[0mtempcount\u001b[0m \u001b[1;33m=\u001b[0m \u001b[0mtemp\u001b[0m\u001b[1;33m.\u001b[0m\u001b[0mgroupby\u001b[0m\u001b[1;33m(\u001b[0m\u001b[1;33m[\u001b[0m\u001b[1;34m\"layer_id\"\u001b[0m\u001b[1;33m]\u001b[0m\u001b[1;33m)\u001b[0m\u001b[1;33m.\u001b[0m\u001b[0mcount\u001b[0m\u001b[1;33m(\u001b[0m\u001b[1;33m)\u001b[0m\u001b[1;33m[\u001b[0m\u001b[1;33m[\u001b[0m\u001b[1;34m\"date\"\u001b[0m\u001b[1;33m]\u001b[0m\u001b[1;33m]\u001b[0m\u001b[1;33m\u001b[0m\u001b[1;33m\u001b[0m\u001b[0m\n\u001b[0m",
      "\u001b[1;31mNameError\u001b[0m: name 'temp' is not defined"
     ]
    }
   ],
   "source": [
    "tempcount = temp.groupby([\"layer_id\"]).count()[[\"date\"]]"
   ]
  },
  {
   "cell_type": "code",
   "execution_count": 127,
   "id": "44cdd35c",
   "metadata": {},
   "outputs": [
    {
     "data": {
      "text/html": [
       "<div>\n",
       "<style scoped>\n",
       "    .dataframe tbody tr th:only-of-type {\n",
       "        vertical-align: middle;\n",
       "    }\n",
       "\n",
       "    .dataframe tbody tr th {\n",
       "        vertical-align: top;\n",
       "    }\n",
       "\n",
       "    .dataframe thead th {\n",
       "        text-align: right;\n",
       "    }\n",
       "</style>\n",
       "<table border=\"1\" class=\"dataframe\">\n",
       "  <thead>\n",
       "    <tr style=\"text-align: right;\">\n",
       "      <th></th>\n",
       "      <th>date</th>\n",
       "    </tr>\n",
       "    <tr>\n",
       "      <th>layer_id</th>\n",
       "      <th></th>\n",
       "    </tr>\n",
       "  </thead>\n",
       "  <tbody>\n",
       "    <tr>\n",
       "      <th>1</th>\n",
       "      <td>8</td>\n",
       "    </tr>\n",
       "    <tr>\n",
       "      <th>2</th>\n",
       "      <td>5</td>\n",
       "    </tr>\n",
       "    <tr>\n",
       "      <th>3</th>\n",
       "      <td>8</td>\n",
       "    </tr>\n",
       "    <tr>\n",
       "      <th>4</th>\n",
       "      <td>9</td>\n",
       "    </tr>\n",
       "    <tr>\n",
       "      <th>5</th>\n",
       "      <td>8</td>\n",
       "    </tr>\n",
       "    <tr>\n",
       "      <th>6</th>\n",
       "      <td>4</td>\n",
       "    </tr>\n",
       "    <tr>\n",
       "      <th>7</th>\n",
       "      <td>3</td>\n",
       "    </tr>\n",
       "    <tr>\n",
       "      <th>8</th>\n",
       "      <td>5</td>\n",
       "    </tr>\n",
       "    <tr>\n",
       "      <th>9</th>\n",
       "      <td>4</td>\n",
       "    </tr>\n",
       "    <tr>\n",
       "      <th>10</th>\n",
       "      <td>3</td>\n",
       "    </tr>\n",
       "    <tr>\n",
       "      <th>11</th>\n",
       "      <td>7</td>\n",
       "    </tr>\n",
       "    <tr>\n",
       "      <th>12</th>\n",
       "      <td>5</td>\n",
       "    </tr>\n",
       "    <tr>\n",
       "      <th>13</th>\n",
       "      <td>3</td>\n",
       "    </tr>\n",
       "    <tr>\n",
       "      <th>14</th>\n",
       "      <td>4</td>\n",
       "    </tr>\n",
       "    <tr>\n",
       "      <th>15</th>\n",
       "      <td>5</td>\n",
       "    </tr>\n",
       "    <tr>\n",
       "      <th>16</th>\n",
       "      <td>4</td>\n",
       "    </tr>\n",
       "    <tr>\n",
       "      <th>17</th>\n",
       "      <td>4</td>\n",
       "    </tr>\n",
       "    <tr>\n",
       "      <th>18</th>\n",
       "      <td>4</td>\n",
       "    </tr>\n",
       "  </tbody>\n",
       "</table>\n",
       "</div>"
      ],
      "text/plain": [
       "          date\n",
       "layer_id      \n",
       "1            8\n",
       "2            5\n",
       "3            8\n",
       "4            9\n",
       "5            8\n",
       "6            4\n",
       "7            3\n",
       "8            5\n",
       "9            4\n",
       "10           3\n",
       "11           7\n",
       "12           5\n",
       "13           3\n",
       "14           4\n",
       "15           5\n",
       "16           4\n",
       "17           4\n",
       "18           4"
      ]
     },
     "execution_count": 127,
     "metadata": {},
     "output_type": "execute_result"
    }
   ],
   "source": [
    "tempcount"
   ]
  },
  {
   "cell_type": "code",
   "execution_count": 128,
   "id": "04ec6ebd",
   "metadata": {},
   "outputs": [],
   "source": [
    "tempjoin = hour1df[hour1df.loc[:,\"oven_id\"]==\"1B0\"].set_index(\"layer_id\").join(tempcount,on=\"layer_id\", rsuffix=\"_r\")"
   ]
  },
  {
   "cell_type": "code",
   "execution_count": 135,
   "id": "c6cee6df",
   "metadata": {},
   "outputs": [],
   "source": [
    "tempjoin = tempjoin.fillna(0)"
   ]
  },
  {
   "cell_type": "code",
   "execution_count": 143,
   "id": "4086a14c",
   "metadata": {
    "scrolled": true
   },
   "outputs": [
    {
     "data": {
      "text/html": [
       "<div>\n",
       "<style scoped>\n",
       "    .dataframe tbody tr th:only-of-type {\n",
       "        vertical-align: middle;\n",
       "    }\n",
       "\n",
       "    .dataframe tbody tr th {\n",
       "        vertical-align: top;\n",
       "    }\n",
       "\n",
       "    .dataframe thead th {\n",
       "        text-align: right;\n",
       "    }\n",
       "</style>\n",
       "<table border=\"1\" class=\"dataframe\">\n",
       "  <thead>\n",
       "    <tr style=\"text-align: right;\">\n",
       "      <th></th>\n",
       "      <th>date</th>\n",
       "      <th>oven_id</th>\n",
       "      <th>accumulation_hour</th>\n",
       "      <th>date_r</th>\n",
       "    </tr>\n",
       "    <tr>\n",
       "      <th>layer_id</th>\n",
       "      <th></th>\n",
       "      <th></th>\n",
       "      <th></th>\n",
       "      <th></th>\n",
       "    </tr>\n",
       "  </thead>\n",
       "  <tbody>\n",
       "    <tr>\n",
       "      <th>1</th>\n",
       "      <td>2022/5/4</td>\n",
       "      <td>1B0</td>\n",
       "      <td>7731</td>\n",
       "      <td>8.0</td>\n",
       "    </tr>\n",
       "    <tr>\n",
       "      <th>2</th>\n",
       "      <td>2022/5/4</td>\n",
       "      <td>1B0</td>\n",
       "      <td>6388</td>\n",
       "      <td>5.0</td>\n",
       "    </tr>\n",
       "    <tr>\n",
       "      <th>3</th>\n",
       "      <td>2022/5/4</td>\n",
       "      <td>1B0</td>\n",
       "      <td>7792</td>\n",
       "      <td>8.0</td>\n",
       "    </tr>\n",
       "    <tr>\n",
       "      <th>4</th>\n",
       "      <td>2022/5/4</td>\n",
       "      <td>1B0</td>\n",
       "      <td>6942</td>\n",
       "      <td>9.0</td>\n",
       "    </tr>\n",
       "    <tr>\n",
       "      <th>5</th>\n",
       "      <td>2022/5/4</td>\n",
       "      <td>1B0</td>\n",
       "      <td>7361</td>\n",
       "      <td>8.0</td>\n",
       "    </tr>\n",
       "    <tr>\n",
       "      <th>6</th>\n",
       "      <td>2022/5/4</td>\n",
       "      <td>1B0</td>\n",
       "      <td>7622</td>\n",
       "      <td>4.0</td>\n",
       "    </tr>\n",
       "    <tr>\n",
       "      <th>7</th>\n",
       "      <td>2022/5/4</td>\n",
       "      <td>1B0</td>\n",
       "      <td>7344</td>\n",
       "      <td>3.0</td>\n",
       "    </tr>\n",
       "    <tr>\n",
       "      <th>8</th>\n",
       "      <td>2022/5/4</td>\n",
       "      <td>1B0</td>\n",
       "      <td>7562</td>\n",
       "      <td>5.0</td>\n",
       "    </tr>\n",
       "    <tr>\n",
       "      <th>9</th>\n",
       "      <td>2022/5/4</td>\n",
       "      <td>1B0</td>\n",
       "      <td>7407</td>\n",
       "      <td>4.0</td>\n",
       "    </tr>\n",
       "    <tr>\n",
       "      <th>10</th>\n",
       "      <td>2022/5/4</td>\n",
       "      <td>1B0</td>\n",
       "      <td>7565</td>\n",
       "      <td>3.0</td>\n",
       "    </tr>\n",
       "    <tr>\n",
       "      <th>11</th>\n",
       "      <td>2022/5/4</td>\n",
       "      <td>1B0</td>\n",
       "      <td>7497</td>\n",
       "      <td>7.0</td>\n",
       "    </tr>\n",
       "    <tr>\n",
       "      <th>12</th>\n",
       "      <td>2022/5/4</td>\n",
       "      <td>1B0</td>\n",
       "      <td>7455</td>\n",
       "      <td>5.0</td>\n",
       "    </tr>\n",
       "    <tr>\n",
       "      <th>13</th>\n",
       "      <td>2022/5/4</td>\n",
       "      <td>1B0</td>\n",
       "      <td>7487</td>\n",
       "      <td>3.0</td>\n",
       "    </tr>\n",
       "    <tr>\n",
       "      <th>14</th>\n",
       "      <td>2022/5/4</td>\n",
       "      <td>1B0</td>\n",
       "      <td>7322</td>\n",
       "      <td>4.0</td>\n",
       "    </tr>\n",
       "    <tr>\n",
       "      <th>15</th>\n",
       "      <td>2022/5/4</td>\n",
       "      <td>1B0</td>\n",
       "      <td>7350</td>\n",
       "      <td>5.0</td>\n",
       "    </tr>\n",
       "    <tr>\n",
       "      <th>16</th>\n",
       "      <td>2022/5/4</td>\n",
       "      <td>1B0</td>\n",
       "      <td>7359</td>\n",
       "      <td>4.0</td>\n",
       "    </tr>\n",
       "    <tr>\n",
       "      <th>17</th>\n",
       "      <td>2022/5/4</td>\n",
       "      <td>1B0</td>\n",
       "      <td>7403</td>\n",
       "      <td>4.0</td>\n",
       "    </tr>\n",
       "    <tr>\n",
       "      <th>18</th>\n",
       "      <td>2022/5/4</td>\n",
       "      <td>1B0</td>\n",
       "      <td>7229</td>\n",
       "      <td>4.0</td>\n",
       "    </tr>\n",
       "    <tr>\n",
       "      <th>19</th>\n",
       "      <td>2022/5/4</td>\n",
       "      <td>1B0</td>\n",
       "      <td>2702</td>\n",
       "      <td>0.0</td>\n",
       "    </tr>\n",
       "  </tbody>\n",
       "</table>\n",
       "</div>"
      ],
      "text/plain": [
       "              date oven_id  accumulation_hour  date_r\n",
       "layer_id                                             \n",
       "1         2022/5/4     1B0               7731     8.0\n",
       "2         2022/5/4     1B0               6388     5.0\n",
       "3         2022/5/4     1B0               7792     8.0\n",
       "4         2022/5/4     1B0               6942     9.0\n",
       "5         2022/5/4     1B0               7361     8.0\n",
       "6         2022/5/4     1B0               7622     4.0\n",
       "7         2022/5/4     1B0               7344     3.0\n",
       "8         2022/5/4     1B0               7562     5.0\n",
       "9         2022/5/4     1B0               7407     4.0\n",
       "10        2022/5/4     1B0               7565     3.0\n",
       "11        2022/5/4     1B0               7497     7.0\n",
       "12        2022/5/4     1B0               7455     5.0\n",
       "13        2022/5/4     1B0               7487     3.0\n",
       "14        2022/5/4     1B0               7322     4.0\n",
       "15        2022/5/4     1B0               7350     5.0\n",
       "16        2022/5/4     1B0               7359     4.0\n",
       "17        2022/5/4     1B0               7403     4.0\n",
       "18        2022/5/4     1B0               7229     4.0\n",
       "19        2022/5/4     1B0               2702     0.0"
      ]
     },
     "execution_count": 143,
     "metadata": {},
     "output_type": "execute_result"
    }
   ],
   "source": [
    "tempjoin"
   ]
  },
  {
   "cell_type": "code",
   "execution_count": 145,
   "id": "c7e0075e",
   "metadata": {},
   "outputs": [
    {
     "data": {
      "image/png": "[encoded data removed]",
      "text/plain": [
       "<Figure size 432x288 with 1 Axes>"
      ]
     },
     "metadata": {
      "needs_background": "light"
     },
     "output_type": "display_data"
    }
   ],
   "source": [
    "plt.bar(list(tempjoin.index),tempjoin[\"date_r\"])\n",
    "#plt.scatter(list(tempjoin.index),tempjoin[\"accumulation_hour\"])\n",
    "plt.show()"
   ]
  },
  {
   "cell_type": "markdown",
   "id": "58c7450c",
   "metadata": {},
   "source": [
    "### 取得各層發生頻率及發生次數"
   ]
  },
  {
   "cell_type": "code",
   "execution_count": 207,
   "id": "bc35b92b",
   "metadata": {},
   "outputs": [
    {
     "data": {
      "text/html": [
       "<div>\n",
       "<style scoped>\n",
       "    .dataframe tbody tr th:only-of-type {\n",
       "        vertical-align: middle;\n",
       "    }\n",
       "\n",
       "    .dataframe tbody tr th {\n",
       "        vertical-align: top;\n",
       "    }\n",
       "\n",
       "    .dataframe thead th {\n",
       "        text-align: right;\n",
       "    }\n",
       "</style>\n",
       "<table border=\"1\" class=\"dataframe\">\n",
       "  <thead>\n",
       "    <tr style=\"text-align: right;\">\n",
       "      <th></th>\n",
       "      <th>date</th>\n",
       "      <th>oven_id</th>\n",
       "      <th>layer_id</th>\n",
       "      <th>lamp_id</th>\n",
       "      <th>anomaly_accumulation_hour</th>\n",
       "      <th>anomaly_total_number</th>\n",
       "      <th>anomaly_total_number_cumsum</th>\n",
       "    </tr>\n",
       "  </thead>\n",
       "  <tbody>\n",
       "    <tr>\n",
       "      <th>1</th>\n",
       "      <td>2022/4/18</td>\n",
       "      <td>2G0</td>\n",
       "      <td>8</td>\n",
       "      <td>42_57_60</td>\n",
       "      <td>4140</td>\n",
       "      <td>3</td>\n",
       "      <td>6</td>\n",
       "    </tr>\n",
       "  </tbody>\n",
       "</table>\n",
       "</div>"
      ],
      "text/plain": [
       "        date oven_id  layer_id   lamp_id  anomaly_accumulation_hour  \\\n",
       "1  2022/4/18     2G0         8  42_57_60                       4140   \n",
       "\n",
       "   anomaly_total_number  anomaly_total_number_cumsum  \n",
       "1                     3                            6  "
      ]
     },
     "execution_count": 207,
     "metadata": {},
     "output_type": "execute_result"
    }
   ],
   "source": [
    "temp[temp.loc[:,\"layer_id\"]==8]"
   ]
  },
  {
   "cell_type": "code",
   "execution_count": 208,
   "id": "c11860e0",
   "metadata": {},
   "outputs": [
    {
     "data": {
      "text/plain": [
       "Series([], Name: anomaly_accumulation_hour, dtype: float64)"
      ]
     },
     "execution_count": 208,
     "metadata": {},
     "output_type": "execute_result"
    }
   ],
   "source": [
    "temp[temp.loc[:,\"layer_id\"]==18][\"anomaly_accumulation_hour\"].diff()"
   ]
  },
  {
   "cell_type": "code",
   "execution_count": 163,
   "id": "5485cb34",
   "metadata": {},
   "outputs": [
    {
     "name": "stdout",
     "output_type": "stream",
     "text": [
      "316.7142857142857\n",
      "133.71153843331575\n"
     ]
    }
   ],
   "source": [
    "print()\n",
    "print()\n",
    "#plt.scatter(tempdf[\"date\"],tempdf[\"anomaly_total_number\"])"
   ]
  },
  {
   "cell_type": "code",
   "execution_count": 238,
   "id": "1717c6f7",
   "metadata": {},
   "outputs": [],
   "source": [
    "resStd = {}\n",
    "\n",
    "for i in range(1,20):\n",
    "    resStd[i]={}\n",
    "    tempdf = temp[temp.loc[:,\"layer_id\"]==i]\n",
    "    if len(tempdf) > 3 :\n",
    "        tempdata = tempdf[\"anomaly_accumulation_hour\"].diff().dropna().values\n",
    "        tempmean = np.mean(tempdata)\n",
    "        tempstd  = np.std(tempdata)\n",
    "        if (tempmean-tempstd)<0: #代表 久久發生一次,但一發生會頻繁發生\n",
    "            resStd[i][\"freq\"] = np.min(tempdata)\n",
    "        else:\n",
    "            resStd[i][\"freq\"]=tempmean-tempstd\n",
    "        \n",
    "        resStd[i][\"avgcount\"] = round(np.mean(tempdf[\"anomaly_total_number\"].values))\n",
    "    else:\n",
    "        resStd[i][\"freq\"]=0\n",
    "        resStd[i][\"avgcount\"]=0\n",
    "    "
   ]
  },
  {
   "cell_type": "code",
   "execution_count": 239,
   "id": "e11ee77b",
   "metadata": {},
   "outputs": [
    {
     "data": {
      "text/plain": [
       "{1: {'freq': 0, 'avgcount': 0},\n",
       " 2: {'freq': 0, 'avgcount': 0},\n",
       " 3: {'freq': 0, 'avgcount': 0},\n",
       " 4: {'freq': 0, 'avgcount': 0},\n",
       " 5: {'freq': 0, 'avgcount': 0},\n",
       " 6: {'freq': 0, 'avgcount': 0},\n",
       " 7: {'freq': 0, 'avgcount': 0},\n",
       " 8: {'freq': 0, 'avgcount': 0},\n",
       " 9: {'freq': 0, 'avgcount': 0},\n",
       " 10: {'freq': 0, 'avgcount': 0},\n",
       " 11: {'freq': 0, 'avgcount': 0},\n",
       " 12: {'freq': 0, 'avgcount': 0},\n",
       " 13: {'freq': 0, 'avgcount': 0},\n",
       " 14: {'freq': 0, 'avgcount': 0},\n",
       " 15: {'freq': 0, 'avgcount': 0},\n",
       " 16: {'freq': 0, 'avgcount': 0},\n",
       " 17: {'freq': 0, 'avgcount': 0},\n",
       " 18: {'freq': 0, 'avgcount': 0},\n",
       " 19: {'freq': 0, 'avgcount': 0}}"
      ]
     },
     "execution_count": 239,
     "metadata": {},
     "output_type": "execute_result"
    }
   ],
   "source": [
    "resStd"
   ]
  },
  {
   "cell_type": "code",
   "execution_count": 179,
   "id": "b0d67311",
   "metadata": {},
   "outputs": [
    {
     "data": {
      "text/plain": [
       "{1: {'freq': 170.14809899439626, 'avgcount': 2.625},\n",
       " 2: {'freq': 246.59088343936088, 'avgcount': 2.2},\n",
       " 3: {'freq': 155.03625744482122, 'avgcount': 2.875},\n",
       " 4: {'freq': -87.58295612082526, 'avgcount': 1.3333333333333333},\n",
       " 5: {'freq': 183.00274728096997, 'avgcount': 2.375},\n",
       " 6: {'freq': 311.4425161205584, 'avgcount': 3.25},\n",
       " 7: {'freq': 885.5, 'avgcount': 3.0},\n",
       " 8: {'freq': 150.87543895233426, 'avgcount': 3.0},\n",
       " 9: {'freq': -142.22813336117133, 'avgcount': 1.75},\n",
       " 10: {'freq': 968.5, 'avgcount': 3.0},\n",
       " 11: {'freq': 159.5487673305309, 'avgcount': 2.857142857142857},\n",
       " 12: {'freq': 312.9652532960105, 'avgcount': 2.6},\n",
       " 13: {'freq': 387.5, 'avgcount': 3.0},\n",
       " 14: {'freq': 92.53876770530883, 'avgcount': 2.75},\n",
       " 15: {'freq': 71.98748350923557, 'avgcount': 3.0},\n",
       " 16: {'freq': 215.94001821989707, 'avgcount': 3.0},\n",
       " 17: {'freq': 328.4583165573837, 'avgcount': 2.75},\n",
       " 18: {'freq': 387.0698125223715, 'avgcount': 3.0}}"
      ]
     },
     "execution_count": 179,
     "metadata": {},
     "output_type": "execute_result"
    }
   ],
   "source": [
    "#只有兩筆地取平均值, freq結果為負時的代表發生頻率低,但一發生會不斷發生\n",
    "resStd"
   ]
  },
  {
   "cell_type": "code",
   "execution_count": 25,
   "id": "0847d9d3",
   "metadata": {},
   "outputs": [],
   "source": [
    "#[各爐]有哪幾支比較容易壞?\n",
    "#[整體]date interval 和 anomaly_accumulation_hour差越多(停機時間越長)是否容易壞?"
   ]
  },
  {
   "cell_type": "markdown",
   "id": "2102a692",
   "metadata": {},
   "source": [
    "## modeling"
   ]
  },
  {
   "cell_type": "code",
   "execution_count": 3,
   "id": "c8e8fd5e",
   "metadata": {},
   "outputs": [],
   "source": [
    "#取得各爐預測燈管壞掉數量之模型\n",
    "resmodel = {}\n",
    "ovenList = list(df[\"oven_id\"].unique())\n",
    "\n",
    "for i in ovenList:\n",
    "    temp = df[df.loc[:,\"oven_id\"]==i].sort_values(by=[\"anomaly_accumulation_hour\"], ignore_index=True)\n",
    "    temp[\"anomaly_total_number_cumsum\"] = temp[\"anomaly_total_number\"].cumsum()\n",
    "    svr = SVR(kernel='poly')\n",
    "    resmodel[i] = svr.fit(temp[\"anomaly_accumulation_hour\"].values.reshape(-1,1),temp[\"anomaly_total_number_cumsum\"])"
   ]
  },
  {
   "cell_type": "code",
   "execution_count": 240,
   "id": "e981afad",
   "metadata": {
    "scrolled": true
   },
   "outputs": [],
   "source": [
    "# 取得各爐各層之異常發生頻率(84%異常資料)、個數及最大使用時數\n",
    "\n",
    "resStd = {}\n",
    "for ovenid in resmodel:\n",
    "    \n",
    "    #print(ovenid)\n",
    "    temp = df[df.loc[:,\"oven_id\"]==ovenid].sort_values(by=[\"anomaly_accumulation_hour\"], ignore_index=True)\n",
    "    for i in range(1,19):\n",
    "        \n",
    "        objid = ovenid+'_'+str(i)\n",
    "        resStd[objid]={}\n",
    "        tempdf = temp[temp.loc[:,\"layer_id\"]==i]\n",
    "        \n",
    "        if len(tempdf) > 3 :\n",
    "            tempdata = tempdf[\"anomaly_accumulation_hour\"].diff().dropna().values\n",
    "            resStd[objid][\"accumulation\"] = tempdf[\"anomaly_accumulation_hour\"].iloc[-1]\n",
    "            tempmean = np.mean(tempdata)\n",
    "            \n",
    "            tempstd  = np.std(tempdata)\n",
    "            if (tempmean-tempstd)<0: #代表 久久發生一次,但一發生會頻繁發生\n",
    "                resStd[objid][\"freq\"] = np.min(tempdata)\n",
    "            else:\n",
    "                resStd[objid][\"freq\"]=tempmean-tempstd\n",
    "            \n",
    "            resStd[objid][\"avgcount\"] = round(np.mean(tempdf[\"anomaly_total_number\"].values))\n",
    "        else:\n",
    "            resStd[objid][\"accumulation\"]=0\n",
    "            resStd[objid][\"freq\"]=0\n",
    "            resStd[objid][\"avgcount\"]=0"
   ]
  },
  {
   "cell_type": "code",
   "execution_count": null,
   "id": "ec357c73",
   "metadata": {},
   "outputs": [],
   "source": [
    "# 整體預測性, 時間間隔/頻率 => 是否發生"
   ]
  },
  {
   "cell_type": "code",
   "execution_count": 241,
   "id": "a20f8362",
   "metadata": {
    "scrolled": true
   },
   "outputs": [
    {
     "data": {
      "text/plain": [
       "{'1B0_1': {'accumulation': 7703, 'freq': 170.14809899439626, 'avgcount': 3},\n",
       " '1B0_2': {'accumulation': 6293, 'freq': 246.59088343936088, 'avgcount': 2},\n",
       " '1B0_3': {'accumulation': 7599, 'freq': 155.03625744482122, 'avgcount': 3},\n",
       " '1B0_4': {'accumulation': 6846, 'freq': 17.0, 'avgcount': 1},\n",
       " '1B0_5': {'accumulation': 7333, 'freq': 183.00274728096997, 'avgcount': 2},\n",
       " '1B0_6': {'accumulation': 7534, 'freq': 311.4425161205584, 'avgcount': 3},\n",
       " '1B0_7': {'accumulation': 0, 'freq': 0, 'avgcount': 0},\n",
       " '1B0_8': {'accumulation': 7469, 'freq': 150.87543895233426, 'avgcount': 3},\n",
       " '1B0_9': {'accumulation': 7183, 'freq': 36.0, 'avgcount': 2},\n",
       " '1B0_10': {'accumulation': 0, 'freq': 0, 'avgcount': 0},\n",
       " '1B0_11': {'accumulation': 7340, 'freq': 159.5487673305309, 'avgcount': 3},\n",
       " '1B0_12': {'accumulation': 7417, 'freq': 312.9652532960105, 'avgcount': 3},\n",
       " '1B0_13': {'accumulation': 0, 'freq': 0, 'avgcount': 0},\n",
       " '1B0_14': {'accumulation': 7025, 'freq': 92.53876770530883, 'avgcount': 3},\n",
       " '1B0_15': {'accumulation': 7350, 'freq': 71.98748350923557, 'avgcount': 3},\n",
       " '1B0_16': {'accumulation': 7330, 'freq': 215.94001821989707, 'avgcount': 3},\n",
       " '1B0_17': {'accumulation': 7406, 'freq': 328.4583165573837, 'avgcount': 3},\n",
       " '1B0_18': {'accumulation': 7018, 'freq': 387.0698125223715, 'avgcount': 3},\n",
       " '1C0_1': {'accumulation': 6633, 'freq': 2.0, 'avgcount': 2},\n",
       " '1C0_2': {'accumulation': 7317, 'freq': 30.0, 'avgcount': 2},\n",
       " '1C0_3': {'accumulation': 7129, 'freq': 24.0, 'avgcount': 2},\n",
       " '1C0_4': {'accumulation': 7261, 'freq': 37.0, 'avgcount': 2},\n",
       " '1C0_5': {'accumulation': 7178, 'freq': 510.9181697087721, 'avgcount': 2},\n",
       " '1C0_6': {'accumulation': 7075, 'freq': 136.64546056720036, 'avgcount': 2},\n",
       " '1C0_7': {'accumulation': 7225, 'freq': 240.42735761308094, 'avgcount': 2},\n",
       " '1C0_8': {'accumulation': 7107, 'freq': 96.59998144540344, 'avgcount': 2},\n",
       " '1C0_9': {'accumulation': 0, 'freq': 0, 'avgcount': 0},\n",
       " '1C0_10': {'accumulation': 6942, 'freq': 89.27102642281017, 'avgcount': 2},\n",
       " '1C0_11': {'accumulation': 6815, 'freq': 153.57891101917195, 'avgcount': 2},\n",
       " '1C0_12': {'accumulation': 0, 'freq': 0, 'avgcount': 0},\n",
       " '1C0_13': {'accumulation': 0, 'freq': 0, 'avgcount': 0},\n",
       " '1C0_14': {'accumulation': 0, 'freq': 0, 'avgcount': 0},\n",
       " '1C0_15': {'accumulation': 0, 'freq': 0, 'avgcount': 0},\n",
       " '1C0_16': {'accumulation': 0, 'freq': 0, 'avgcount': 0},\n",
       " '1C0_17': {'accumulation': 0, 'freq': 0, 'avgcount': 0},\n",
       " '1C0_18': {'accumulation': 0, 'freq': 0, 'avgcount': 0},\n",
       " '1D0_1': {'accumulation': 6110, 'freq': 24.925641955593818, 'avgcount': 2},\n",
       " '1D0_2': {'accumulation': 6784, 'freq': 132.6390363952862, 'avgcount': 2},\n",
       " '1D0_3': {'accumulation': 0, 'freq': 0, 'avgcount': 0},\n",
       " '1D0_4': {'accumulation': 0, 'freq': 0, 'avgcount': 0},\n",
       " '1D0_5': {'accumulation': 0, 'freq': 0, 'avgcount': 0},\n",
       " '1D0_6': {'accumulation': 0, 'freq': 0, 'avgcount': 0},\n",
       " '1D0_7': {'accumulation': 0, 'freq': 0, 'avgcount': 0},\n",
       " '1D0_8': {'accumulation': 0, 'freq': 0, 'avgcount': 0},\n",
       " '1D0_9': {'accumulation': 0, 'freq': 0, 'avgcount': 0},\n",
       " '1D0_10': {'accumulation': 0, 'freq': 0, 'avgcount': 0},\n",
       " '1D0_11': {'accumulation': 0, 'freq': 0, 'avgcount': 0},\n",
       " '1D0_12': {'accumulation': 6060, 'freq': 136.14380536892645, 'avgcount': 2},\n",
       " '1D0_13': {'accumulation': 6097, 'freq': 202.87655822694904, 'avgcount': 2},\n",
       " '1D0_14': {'accumulation': 0, 'freq': 0, 'avgcount': 0},\n",
       " '1D0_15': {'accumulation': 0, 'freq': 0, 'avgcount': 0},\n",
       " '1D0_16': {'accumulation': 0, 'freq': 0, 'avgcount': 0},\n",
       " '1D0_17': {'accumulation': 5938, 'freq': 64.97072361635125, 'avgcount': 2},\n",
       " '1D0_18': {'accumulation': 0, 'freq': 0, 'avgcount': 0},\n",
       " '1E0_1': {'accumulation': 6045, 'freq': 343.6274759937556, 'avgcount': 2},\n",
       " '1E0_2': {'accumulation': 0, 'freq': 0, 'avgcount': 0},\n",
       " '1E0_3': {'accumulation': 0, 'freq': 0, 'avgcount': 0},\n",
       " '1E0_4': {'accumulation': 0, 'freq': 0, 'avgcount': 0},\n",
       " '1E0_5': {'accumulation': 0, 'freq': 0, 'avgcount': 0},\n",
       " '1E0_6': {'accumulation': 0, 'freq': 0, 'avgcount': 0},\n",
       " '1E0_7': {'accumulation': 0, 'freq': 0, 'avgcount': 0},\n",
       " '1E0_8': {'accumulation': 0, 'freq': 0, 'avgcount': 0},\n",
       " '1E0_9': {'accumulation': 0, 'freq': 0, 'avgcount': 0},\n",
       " '1E0_10': {'accumulation': 0, 'freq': 0, 'avgcount': 0},\n",
       " '1E0_11': {'accumulation': 0, 'freq': 0, 'avgcount': 0},\n",
       " '1E0_12': {'accumulation': 0, 'freq': 0, 'avgcount': 0},\n",
       " '1E0_13': {'accumulation': 0, 'freq': 0, 'avgcount': 0},\n",
       " '1E0_14': {'accumulation': 0, 'freq': 0, 'avgcount': 0},\n",
       " '1E0_15': {'accumulation': 0, 'freq': 0, 'avgcount': 0},\n",
       " '1E0_16': {'accumulation': 5022, 'freq': 1.17139022571061, 'avgcount': 1},\n",
       " '1E0_17': {'accumulation': 0, 'freq': 0, 'avgcount': 0},\n",
       " '1E0_18': {'accumulation': 0, 'freq': 0, 'avgcount': 0},\n",
       " '2B0_1': {'accumulation': 0, 'freq': 0, 'avgcount': 0},\n",
       " '2B0_2': {'accumulation': 0, 'freq': 0, 'avgcount': 0},\n",
       " '2B0_3': {'accumulation': 0, 'freq': 0, 'avgcount': 0},\n",
       " '2B0_4': {'accumulation': 0, 'freq': 0, 'avgcount': 0},\n",
       " '2B0_5': {'accumulation': 0, 'freq': 0, 'avgcount': 0},\n",
       " '2B0_6': {'accumulation': 0, 'freq': 0, 'avgcount': 0},\n",
       " '2B0_7': {'accumulation': 0, 'freq': 0, 'avgcount': 0},\n",
       " '2B0_8': {'accumulation': 0, 'freq': 0, 'avgcount': 0},\n",
       " '2B0_9': {'accumulation': 0, 'freq': 0, 'avgcount': 0},\n",
       " '2B0_10': {'accumulation': 0, 'freq': 0, 'avgcount': 0},\n",
       " '2B0_11': {'accumulation': 0, 'freq': 0, 'avgcount': 0},\n",
       " '2B0_12': {'accumulation': 0, 'freq': 0, 'avgcount': 0},\n",
       " '2B0_13': {'accumulation': 0, 'freq': 0, 'avgcount': 0},\n",
       " '2B0_14': {'accumulation': 0, 'freq': 0, 'avgcount': 0},\n",
       " '2B0_15': {'accumulation': 0, 'freq': 0, 'avgcount': 0},\n",
       " '2B0_16': {'accumulation': 0, 'freq': 0, 'avgcount': 0},\n",
       " '2B0_17': {'accumulation': 0, 'freq': 0, 'avgcount': 0},\n",
       " '2B0_18': {'accumulation': 0, 'freq': 0, 'avgcount': 0},\n",
       " '2C0_1': {'accumulation': 5607, 'freq': 169.3122178055112, 'avgcount': 2},\n",
       " '2C0_2': {'accumulation': 0, 'freq': 0, 'avgcount': 0},\n",
       " '2C0_3': {'accumulation': 0, 'freq': 0, 'avgcount': 0},\n",
       " '2C0_4': {'accumulation': 0, 'freq': 0, 'avgcount': 0},\n",
       " '2C0_5': {'accumulation': 0, 'freq': 0, 'avgcount': 0},\n",
       " '2C0_6': {'accumulation': 0, 'freq': 0, 'avgcount': 0},\n",
       " '2C0_7': {'accumulation': 0, 'freq': 0, 'avgcount': 0},\n",
       " '2C0_8': {'accumulation': 0, 'freq': 0, 'avgcount': 0},\n",
       " '2C0_9': {'accumulation': 0, 'freq': 0, 'avgcount': 0},\n",
       " '2C0_10': {'accumulation': 0, 'freq': 0, 'avgcount': 0},\n",
       " '2C0_11': {'accumulation': 0, 'freq': 0, 'avgcount': 0},\n",
       " '2C0_12': {'accumulation': 0, 'freq': 0, 'avgcount': 0},\n",
       " '2C0_13': {'accumulation': 0, 'freq': 0, 'avgcount': 0},\n",
       " '2C0_14': {'accumulation': 0, 'freq': 0, 'avgcount': 0},\n",
       " '2C0_15': {'accumulation': 0, 'freq': 0, 'avgcount': 0},\n",
       " '2C0_16': {'accumulation': 0, 'freq': 0, 'avgcount': 0},\n",
       " '2C0_17': {'accumulation': 0, 'freq': 0, 'avgcount': 0},\n",
       " '2C0_18': {'accumulation': 0, 'freq': 0, 'avgcount': 0},\n",
       " '2D0_1': {'accumulation': 0, 'freq': 0, 'avgcount': 0},\n",
       " '2D0_2': {'accumulation': 0, 'freq': 0, 'avgcount': 0},\n",
       " '2D0_3': {'accumulation': 0, 'freq': 0, 'avgcount': 0},\n",
       " '2D0_4': {'accumulation': 0, 'freq': 0, 'avgcount': 0},\n",
       " '2D0_5': {'accumulation': 0, 'freq': 0, 'avgcount': 0},\n",
       " '2D0_6': {'accumulation': 0, 'freq': 0, 'avgcount': 0},\n",
       " '2D0_7': {'accumulation': 0, 'freq': 0, 'avgcount': 0},\n",
       " '2D0_8': {'accumulation': 0, 'freq': 0, 'avgcount': 0},\n",
       " '2D0_9': {'accumulation': 0, 'freq': 0, 'avgcount': 0},\n",
       " '2D0_10': {'accumulation': 0, 'freq': 0, 'avgcount': 0},\n",
       " '2D0_11': {'accumulation': 0, 'freq': 0, 'avgcount': 0},\n",
       " '2D0_12': {'accumulation': 0, 'freq': 0, 'avgcount': 0},\n",
       " '2D0_13': {'accumulation': 0, 'freq': 0, 'avgcount': 0},\n",
       " '2D0_14': {'accumulation': 0, 'freq': 0, 'avgcount': 0},\n",
       " '2D0_15': {'accumulation': 0, 'freq': 0, 'avgcount': 0},\n",
       " '2D0_16': {'accumulation': 0, 'freq': 0, 'avgcount': 0},\n",
       " '2D0_17': {'accumulation': 0, 'freq': 0, 'avgcount': 0},\n",
       " '2D0_18': {'accumulation': 0, 'freq': 0, 'avgcount': 0},\n",
       " '2E0_1': {'accumulation': 0, 'freq': 0, 'avgcount': 0},\n",
       " '2E0_2': {'accumulation': 0, 'freq': 0, 'avgcount': 0},\n",
       " '2E0_3': {'accumulation': 0, 'freq': 0, 'avgcount': 0},\n",
       " '2E0_4': {'accumulation': 0, 'freq': 0, 'avgcount': 0},\n",
       " '2E0_5': {'accumulation': 0, 'freq': 0, 'avgcount': 0},\n",
       " '2E0_6': {'accumulation': 0, 'freq': 0, 'avgcount': 0},\n",
       " '2E0_7': {'accumulation': 0, 'freq': 0, 'avgcount': 0},\n",
       " '2E0_8': {'accumulation': 0, 'freq': 0, 'avgcount': 0},\n",
       " '2E0_9': {'accumulation': 0, 'freq': 0, 'avgcount': 0},\n",
       " '2E0_10': {'accumulation': 0, 'freq': 0, 'avgcount': 0},\n",
       " '2E0_11': {'accumulation': 0, 'freq': 0, 'avgcount': 0},\n",
       " '2E0_12': {'accumulation': 0, 'freq': 0, 'avgcount': 0},\n",
       " '2E0_13': {'accumulation': 0, 'freq': 0, 'avgcount': 0},\n",
       " '2E0_14': {'accumulation': 0, 'freq': 0, 'avgcount': 0},\n",
       " '2E0_15': {'accumulation': 0, 'freq': 0, 'avgcount': 0},\n",
       " '2E0_16': {'accumulation': 0, 'freq': 0, 'avgcount': 0},\n",
       " '2E0_17': {'accumulation': 0, 'freq': 0, 'avgcount': 0},\n",
       " '2E0_18': {'accumulation': 0, 'freq': 0, 'avgcount': 0},\n",
       " '1G0_1': {'accumulation': 0, 'freq': 0, 'avgcount': 0},\n",
       " '1G0_2': {'accumulation': 0, 'freq': 0, 'avgcount': 0},\n",
       " '1G0_3': {'accumulation': 0, 'freq': 0, 'avgcount': 0},\n",
       " '1G0_4': {'accumulation': 0, 'freq': 0, 'avgcount': 0},\n",
       " '1G0_5': {'accumulation': 0, 'freq': 0, 'avgcount': 0},\n",
       " '1G0_6': {'accumulation': 0, 'freq': 0, 'avgcount': 0},\n",
       " '1G0_7': {'accumulation': 0, 'freq': 0, 'avgcount': 0},\n",
       " '1G0_8': {'accumulation': 0, 'freq': 0, 'avgcount': 0},\n",
       " '1G0_9': {'accumulation': 0, 'freq': 0, 'avgcount': 0},\n",
       " '1G0_10': {'accumulation': 0, 'freq': 0, 'avgcount': 0},\n",
       " '1G0_11': {'accumulation': 0, 'freq': 0, 'avgcount': 0},\n",
       " '1G0_12': {'accumulation': 0, 'freq': 0, 'avgcount': 0},\n",
       " '1G0_13': {'accumulation': 0, 'freq': 0, 'avgcount': 0},\n",
       " '1G0_14': {'accumulation': 0, 'freq': 0, 'avgcount': 0},\n",
       " '1G0_15': {'accumulation': 0, 'freq': 0, 'avgcount': 0},\n",
       " '1G0_16': {'accumulation': 0, 'freq': 0, 'avgcount': 0},\n",
       " '1G0_17': {'accumulation': 0, 'freq': 0, 'avgcount': 0},\n",
       " '1G0_18': {'accumulation': 0, 'freq': 0, 'avgcount': 0},\n",
       " '2G0_1': {'accumulation': 0, 'freq': 0, 'avgcount': 0},\n",
       " '2G0_2': {'accumulation': 0, 'freq': 0, 'avgcount': 0},\n",
       " '2G0_3': {'accumulation': 0, 'freq': 0, 'avgcount': 0},\n",
       " '2G0_4': {'accumulation': 0, 'freq': 0, 'avgcount': 0},\n",
       " '2G0_5': {'accumulation': 0, 'freq': 0, 'avgcount': 0},\n",
       " '2G0_6': {'accumulation': 0, 'freq': 0, 'avgcount': 0},\n",
       " '2G0_7': {'accumulation': 0, 'freq': 0, 'avgcount': 0},\n",
       " '2G0_8': {'accumulation': 0, 'freq': 0, 'avgcount': 0},\n",
       " '2G0_9': {'accumulation': 0, 'freq': 0, 'avgcount': 0},\n",
       " '2G0_10': {'accumulation': 0, 'freq': 0, 'avgcount': 0},\n",
       " '2G0_11': {'accumulation': 0, 'freq': 0, 'avgcount': 0},\n",
       " '2G0_12': {'accumulation': 0, 'freq': 0, 'avgcount': 0},\n",
       " '2G0_13': {'accumulation': 0, 'freq': 0, 'avgcount': 0},\n",
       " '2G0_14': {'accumulation': 0, 'freq': 0, 'avgcount': 0},\n",
       " '2G0_15': {'accumulation': 0, 'freq': 0, 'avgcount': 0},\n",
       " '2G0_16': {'accumulation': 0, 'freq': 0, 'avgcount': 0},\n",
       " '2G0_17': {'accumulation': 0, 'freq': 0, 'avgcount': 0},\n",
       " '2G0_18': {'accumulation': 0, 'freq': 0, 'avgcount': 0}}"
      ]
     },
     "execution_count": 241,
     "metadata": {},
     "output_type": "execute_result"
    }
   ],
   "source": [
    "resStd"
   ]
  },
  {
   "cell_type": "code",
   "execution_count": 19,
   "id": "c434b1c6",
   "metadata": {},
   "outputs": [
    {
     "data": {
      "text/plain": [
       "7703"
      ]
     },
     "execution_count": 19,
     "metadata": {},
     "output_type": "execute_result"
    }
   ],
   "source": [
    "temp = df[df.loc[:,\"oven_id\"]==\"1B0\"].sort_values(by=[\"anomaly_accumulation_hour\"], ignore_index=True)\n",
    "tempdf = temp[temp.loc[:,\"layer_id\"]==1]\n",
    "tempdf[\"anomaly_accumulation_hour\"].iloc[-1]"
   ]
  },
  {
   "cell_type": "markdown",
   "id": "8a9a24e3",
   "metadata": {},
   "source": [
    "## inference"
   ]
  },
  {
   "cell_type": "code",
   "execution_count": 6,
   "id": "6c880acb",
   "metadata": {},
   "outputs": [],
   "source": [
    "hour1df = pd.read_csv(r\"C:/Users/User/Desktop/competition_leo/決賽/data/accumulation_hour1.csv\")"
   ]
  },
  {
   "cell_type": "code",
   "execution_count": 7,
   "id": "28c03750",
   "metadata": {},
   "outputs": [
    {
     "name": "stdout",
     "output_type": "stream",
     "text": [
      "[[7731]]\n"
     ]
    }
   ],
   "source": [
    "for key , row in hour1df.iterrows():\n",
    "    print(np.array(row[\"accumulation_hour\"]).reshape(-1,1))\n",
    "    break"
   ]
  },
  {
   "cell_type": "code",
   "execution_count": 28,
   "id": "4f93ba81",
   "metadata": {},
   "outputs": [
    {
     "name": "stdout",
     "output_type": "stream",
     "text": [
      "1B0\n",
      "7703\n",
      "7731\n",
      "[4.02318928]\n"
     ]
    }
   ],
   "source": [
    "#預測整爐有幾個 -> 尋找上次使用時間-> 各層使用時間是否超過標準有即預測\n",
    "restotal = {}\n",
    "for i in ovenList:\n",
    "    preRes = resmodel[i].predict(np.array(row[\"accumulation_hour\"]-720).reshape(-1,1))\n",
    "    postRes = resmodel[i].predict(np.array(row[\"accumulation_hour\"]).reshape(-1,1))\n",
    "\n",
    "res={}\n",
    "for key , row in hour1df.iterrows():\n",
    "    print(row[\"oven_id\"])\n",
    "    pretime = resStd[row[\"oven_id\"]+'_'+str(row[\"layer_id\"])][\"accumulation\"]\n",
    "    print(pretime)\n",
    "    print(row[\"accumulation_hour\"])\n",
    "    preRes = resmodel[row[\"oven_id\"]].predict(np.array(pretime).reshape(-1,1))\n",
    "    postRes = resmodel[row[\"oven_id\"]].predict(np.array(row[\"accumulation_hour\"]).reshape(-1,1))\n",
    "    totalAccum = postRes-preRes\n",
    "    print(totalAccum)\n",
    "    break"
   ]
  }
 ],
 "metadata": {
  "kernelspec": {
   "display_name": "Python 3",
   "language": "python",
   "name": "python3"
  },
  "language_info": {
   "codemirror_mode": {
    "name": "ipython",
    "version": 3
   },
   "file_extension": ".py",
   "mimetype": "text/x-python",
   "name": "python",
   "nbconvert_exporter": "python",
   "pygments_lexer": "ipython3",
   "version": "3.8.8"
  }
 },
 "nbformat": 4,
 "nbformat_minor": 5
}
