{
 "cells": [
  {
   "cell_type": "markdown",
   "metadata": {},
   "source": [
    "# 玉山人工智慧公開挑戰賽#1 - 金融商品交易預測\n",
    "\n",
    "1. 訓練資料集時間為 9447+1 (9448) ~ 9447+120 (9567) 之間，共120日之間產品交易/申請資訊<br/>\n",
    "2. 本次比賽是請參賽者預測在9447+121 (9568) ~ 9447+150 (9597) 時間區間內（共30日），顧客在四個產品線CC_IND, FX_IND, LN_IND, WM_IND是否會進行交易，若預測顧客該時間內於任一產品線交易一次以上，該產品線的預測值為1，否則為0．例如: 顧客序號12345，預測信用卡核卡1次，外匯交易2次，沒有信貸申請，信託交易3次，該筆預測資料應為: 12345,1,1,0,1 ．<br/>\n",
    "3. TBN_Y_ZERO.csv則是提供給參賽者做為上傳範例資料檔使用，內部預設值是全部為0．"
   ]
  },
  {
   "cell_type": "markdown",
   "metadata": {},
   "source": [
    "### 問題聚焦\n",
    "得分方式(f1_score):<br/>\n",
    "產品權重:外匯=1, 信用卡=10, 信託類產品=20, 信貸=20\n",
    "(產品權重)*各產品預測結果的 f1_score 總和\n",
    "\n",
    "Score = FX_f1\\*1 + CC_f1\\*10 + WM_f1\\*20 + LN_f1\\*20"
   ]
  },
  {
   "cell_type": "code",
   "execution_count": 416,
   "metadata": {},
   "outputs": [],
   "source": [
    "import pandas as pd\n",
    "import numpy as np\n",
    "import matplotlib.pyplot as plt\n",
    "%matplotlib inline\n",
    "import seaborn as sns"
   ]
  },
  {
   "cell_type": "markdown",
   "metadata": {},
   "source": [
    "## 匯入檔案"
   ]
  },
  {
   "cell_type": "code",
   "execution_count": 417,
   "metadata": {},
   "outputs": [],
   "source": [
    "df_CIF = pd.read_csv(\"/home/jovyan/TBN bank predict/TBN_CIF.csv\")\n",
    "df_CUST_BEHAVIOR = pd.read_csv(\"/home/jovyan/TBN bank predict/TBN_CUST_BEHAVIOR.csv\")\n",
    "df_RECENT_DT = pd.read_csv(\"/home/jovyan/TBN bank predict/TBN_RECENT_DT.csv\")\n",
    "#前三個月當作訓練資料\n",
    "train_test_interval =9537\n",
    "\n",
    "df_CC_APPLY = pd.read_csv(\"/home/jovyan/TBN bank predict/TBN_CC_APPLY.csv\")\n",
    "df_FX_TXN = pd.read_csv(\"/home/jovyan/TBN bank predict/TBN_FX_TXN.csv\")\n",
    "df_LN_APPLY = pd.read_csv(\"/home/jovyan/TBN bank predict/TBN_LN_APPLY.csv\")\n",
    "df_WM_TXN = pd.read_csv(\"/home/jovyan/TBN bank predict/TBN_WM_TXN.csv\")\n",
    "\n",
    "df_TBN_Y_ZERO = pd.read_csv(\"/home/jovyan/TBN bank predict/TBN_Y_ZERO.csv\")"
   ]
  },
  {
   "cell_type": "markdown",
   "metadata": {},
   "source": [
    "## 處理資料遺失值及彙整"
   ]
  },
  {
   "cell_type": "markdown",
   "metadata": {},
   "source": [
    "step1. 處理df_CIF <br/>\n",
    "step2. 將df_CIF  df_TBN_Y_ZERO 結合成result <br/>\n",
    "step3. 處理df_CUST_BEHAVIOR <br/>\n",
    "step4. 處理df_RECENT_DT <br/>\n",
    "step5. 將df_CUST_BEHAVIOR,df_RECENT_DT 與result合併 <br/>\n",
    "step6. 處理 df_CC_APPLY,df_FX_TXN, df_LN_APPLY, df_WM_TXN <br/>\n",
    "step7. df_CC_APPLY_train,df_FX_TXN_train, df_LN_APPLY_train, df_WM_TXN_train 與result合併 <br/>\n",
    "step8. 處理df_CC_APPLY_test,df_FX_TXN_test, df_LN_APPLY_test, df_WM_TXN_test"
   ]
  },
  {
   "cell_type": "code",
   "execution_count": 418,
   "metadata": {},
   "outputs": [],
   "source": [
    "# step1.處理df_CIF\n",
    "df_CIF[\"CHILDREN_CNT\"] = df_CIF[\"CHILDREN_CNT\"].fillna(df_CIF[\"CHILDREN_CNT\"].mode()[0])\n",
    "\n",
    "df_CIF.loc[(df_CIF[\"INCOME_RANGE_CODE\"].isnull()) & (df_CIF[\"CUST_START_DT\"]>=6479),\"INCOME_RANGE_CODE\"] = 1.0\n",
    "df_CIF.loc[(df_CIF[\"INCOME_RANGE_CODE\"].isnull()) & (df_CIF[\"CUST_START_DT\"]<6479)& (df_CIF[\"CUST_START_DT\"]>=5245),\"INCOME_RANGE_CODE\"] = 2.0\n",
    "df_CIF.loc[(df_CIF[\"INCOME_RANGE_CODE\"].isnull()) & (df_CIF[\"CUST_START_DT\"]<5245)& (df_CIF[\"CUST_START_DT\"]>=4812),\"INCOME_RANGE_CODE\"] = 3.0\n",
    "df_CIF.loc[(df_CIF[\"INCOME_RANGE_CODE\"].isnull()) & (df_CIF[\"CUST_START_DT\"]<4812),\"INCOME_RANGE_CODE\"] = 4.0\n",
    "\n",
    "# EDU_CODE >3設為女性 , 其餘為男性\n",
    "df_CIF.loc[(df_CIF[\"GENDER_CODE\"].isnull()) & (df_CIF[\"EDU_CODE\"]>=3),\"GENDER_CODE\"] = 'F'\n",
    "df_CIF[\"GENDER_CODE\"]= df_CIF[\"GENDER_CODE\"].fillna('M')\n",
    "\n",
    "# WORK_MTHS=2 map到 年齡4 \n",
    "df_CIF.loc[(df_CIF[\"WORK_MTHS\"].isnull()) & (df_CIF[\"AGE\"]==4 ),\"WORK_MTHS\"] =2\n",
    "# WORK_MTHS=2 map到 EDU_CODE >4 \n",
    "df_CIF.loc[(df_CIF[\"WORK_MTHS\"].isnull()) & (df_CIF[\"EDU_CODE\"]>4 ),\"WORK_MTHS\"] =2\n",
    "# WORK_MTHS=2 map到 CHILDREN_CNT >0 \n",
    "df_CIF.loc[(df_CIF[\"WORK_MTHS\"].isnull()) & (df_CIF[\"CHILDREN_CNT\"]>0 ),\"WORK_MTHS\"] =2\n",
    "# WORK_MTHS=2 map到 CHILDREN_CNT >0 \n",
    "df_CIF.loc[(df_CIF[\"WORK_MTHS\"].isnull()) & (df_CIF[\"CUST_START_DT\"]<5000 ),\"WORK_MTHS\"] =2\n",
    "# WORK_MTHS=2 map到 CHILDREN_CNT >0 \n",
    "df_CIF.loc[(df_CIF[\"WORK_MTHS\"].isnull()) & (df_CIF[\"INCOME_RANGE_CODE\"]>1 ),\"WORK_MTHS\"] =2\n",
    "#其餘的填入 WORK_MTHS=1\n",
    "df_CIF[\"WORK_MTHS\"]= df_CIF[\"WORK_MTHS\"].fillna(df_CIF[\"WORK_MTHS\"].mode()[0])\n",
    "\n",
    "\n",
    "# EDU_CODE=1 map到 INCOME_RANGE_CODE >1 \n",
    "df_CIF.loc[(df_CIF[\"EDU_CODE\"].isnull()) & (df_CIF[\"INCOME_RANGE_CODE\"]>1 ),\"EDU_CODE\"] =1\n",
    "# EDU_CODE=6 map到 CUST_START_DT >7000\n",
    "df_CIF.loc[(df_CIF[\"EDU_CODE\"].isnull()) & (df_CIF[\"CUST_START_DT\"]>7000 ),\"EDU_CODE\"] =6\n",
    "# EDU_CODE=4 map到 AGE >3 可以推斷為EDU_CODE為1 or 4,但4樣本數較多 \n",
    "df_CIF.loc[(df_CIF[\"EDU_CODE\"].isnull()) & (df_CIF[\"AGE\"]>2 ),\"EDU_CODE\"] =4\n",
    "#其餘的填入 WORK_MTHS=mode\n",
    "df_CIF[\"EDU_CODE\"]= df_CIF[\"EDU_CODE\"].fillna(df_CIF[\"EDU_CODE\"].mode()[0])"
   ]
  },
  {
   "cell_type": "code",
   "execution_count": 419,
   "metadata": {},
   "outputs": [
    {
     "data": {
      "text/plain": [
       "CUST_NO              0\n",
       "AGE                  0\n",
       "CHILDREN_CNT         0\n",
       "CUST_START_DT        0\n",
       "EDU_CODE             0\n",
       "GENDER_CODE          0\n",
       "INCOME_RANGE_CODE    0\n",
       "WORK_MTHS            0\n",
       "dtype: int64"
      ]
     },
     "execution_count": 419,
     "metadata": {},
     "output_type": "execute_result"
    }
   ],
   "source": [
    "df_CIF.isnull().sum()"
   ]
  },
  {
   "cell_type": "code",
   "execution_count": 420,
   "metadata": {},
   "outputs": [],
   "source": [
    "# step2. 將df_CIF  df_TBN_Y_ZERO 結合成result\n",
    "result = pd.merge(df_TBN_Y_ZERO[[\"CUST_NO\"]], df_CIF, how='left', on=['CUST_NO'])"
   ]
  },
  {
   "cell_type": "code",
   "execution_count": 421,
   "metadata": {},
   "outputs": [
    {
     "data": {
      "text/plain": [
       "CUST_NO              0\n",
       "AGE                  0\n",
       "CHILDREN_CNT         0\n",
       "CUST_START_DT        0\n",
       "EDU_CODE             0\n",
       "GENDER_CODE          0\n",
       "INCOME_RANGE_CODE    0\n",
       "WORK_MTHS            0\n",
       "dtype: int64"
      ]
     },
     "execution_count": 421,
     "metadata": {},
     "output_type": "execute_result"
    }
   ],
   "source": [
    "for i in result.columns:\n",
    "    result[i]=result[i].fillna(result[i].mode()[0])\n",
    "result.isnull().sum()"
   ]
  },
  {
   "cell_type": "code",
   "execution_count": 422,
   "metadata": {},
   "outputs": [],
   "source": [
    "#step3. 處理df_CUST_BEHAVIOR\n",
    "df_CUST_BEHAVIOR_train = df_CUST_BEHAVIOR[df_CUST_BEHAVIOR[\"VISITDATE\"].values<train_test_interval]\n",
    "df_CUST_BEHAVIOR_train =df_CUST_BEHAVIOR_train.groupby(\"CUST_NO\").count()[[\"VISITDATE\"]]\n",
    "df_CUST_BEHAVIOR_train['CUST_NO'] = df_CUST_BEHAVIOR_train.index\n",
    "df_CUST_BEHAVIOR_train = df_CUST_BEHAVIOR_train.reset_index(drop=True)"
   ]
  },
  {
   "cell_type": "code",
   "execution_count": 423,
   "metadata": {},
   "outputs": [],
   "source": [
    "#step4. 處理df_RECENT_DT\n",
    "for i in df_RECENT_DT.columns[1:]:\n",
    "    df_RECENT_DT.loc[df_RECENT_DT[i]>0,i] = 1\n",
    "    df_RECENT_DT[i] = df_RECENT_DT[i].fillna(0)"
   ]
  },
  {
   "cell_type": "code",
   "execution_count": 424,
   "metadata": {},
   "outputs": [
    {
     "data": {
      "text/plain": [
       "195000"
      ]
     },
     "execution_count": 424,
     "metadata": {},
     "output_type": "execute_result"
    }
   ],
   "source": [
    "#判斷df_RECENT_DT中cust沒有重複\n",
    "df_RECENT_DT.count()\n",
    "len(set(df_RECENT_DT[\"CUST_NO\"]))"
   ]
  },
  {
   "cell_type": "code",
   "execution_count": 425,
   "metadata": {},
   "outputs": [],
   "source": [
    "# 將df_CUST_BEHAVIOR,df_RECENT_DT 與result合併\n",
    "result = pd.merge(result, df_CUST_BEHAVIOR_train, how='left', on=['CUST_NO'])\n",
    "result = pd.merge(result, df_RECENT_DT, how='left', on=['CUST_NO'])"
   ]
  },
  {
   "cell_type": "code",
   "execution_count": 426,
   "metadata": {},
   "outputs": [
    {
     "data": {
      "text/plain": [
       "CUST_NO                  0\n",
       "AGE                      0\n",
       "CHILDREN_CNT             0\n",
       "CUST_START_DT            0\n",
       "EDU_CODE                 0\n",
       "GENDER_CODE              0\n",
       "INCOME_RANGE_CODE        0\n",
       "WORK_MTHS                0\n",
       "VISITDATE            15134\n",
       "CC_RECENT_DT             0\n",
       "FX_RECENT_DT             0\n",
       "LN_RECENT_DT             0\n",
       "WM_RECENT_DT             0\n",
       "dtype: int64"
      ]
     },
     "execution_count": 426,
     "metadata": {},
     "output_type": "execute_result"
    }
   ],
   "source": [
    "result.isnull().sum()"
   ]
  },
  {
   "cell_type": "code",
   "execution_count": 427,
   "metadata": {},
   "outputs": [],
   "source": [
    "result[\"VISITDATE\"] = result[\"VISITDATE\"].fillna(0)\n",
    "result = result.rename(index=str, columns={\"VISITDATE\": \"VISIT_TIMES\"})"
   ]
  },
  {
   "cell_type": "code",
   "execution_count": 428,
   "metadata": {},
   "outputs": [
    {
     "data": {
      "text/plain": [
       "CUST_NO              0\n",
       "AGE                  0\n",
       "CHILDREN_CNT         0\n",
       "CUST_START_DT        0\n",
       "EDU_CODE             0\n",
       "GENDER_CODE          0\n",
       "INCOME_RANGE_CODE    0\n",
       "WORK_MTHS            0\n",
       "VISIT_TIMES          0\n",
       "CC_RECENT_DT         0\n",
       "FX_RECENT_DT         0\n",
       "LN_RECENT_DT         0\n",
       "WM_RECENT_DT         0\n",
       "dtype: int64"
      ]
     },
     "execution_count": 428,
     "metadata": {},
     "output_type": "execute_result"
    }
   ],
   "source": [
    "result.isnull().sum()"
   ]
  },
  {
   "cell_type": "code",
   "execution_count": 429,
   "metadata": {},
   "outputs": [],
   "source": [
    "# step6. 處理 df_CC_APPLY,df_FX_TXN, df_LN_APPLY, df_WM_TXN\n",
    "df_CC_APPLY_train = df_CC_APPLY[df_CC_APPLY[\"TXN_DT\"].values<train_test_interval]\n",
    "df_FX_TXN_train = df_FX_TXN[df_FX_TXN[\"TXN_DT\"].values<train_test_interval]\n",
    "df_LN_APPLY_train = df_LN_APPLY[df_LN_APPLY[\"TXN_DT\"].values<train_test_interval]\n",
    "df_WM_TXN_train = df_WM_TXN[df_WM_TXN[\"TXN_DT\"].values<train_test_interval]"
   ]
  },
  {
   "cell_type": "code",
   "execution_count": 430,
   "metadata": {},
   "outputs": [],
   "source": [
    "#step7. df_CC_APPLY,df_FX_TXN, df_LN_APPLY, df_WM_TXN 與result合併\n",
    "\n",
    "result = pd.merge(result, df_CC_APPLY_train.groupby(\"CUST_NO\").count()[[\"TXN_DT\"]], how='left', on=['CUST_NO'])\n",
    "result = result.rename(index=str, columns={\"TXN_DT\": \"CC_Applied_Nums\"})\n",
    "\n",
    "result = pd.merge(result, df_FX_TXN_train.groupby(\"CUST_NO\").count()[[\"TXN_DT\"]], how='left', on=['CUST_NO'])\n",
    "result = result.rename(index=str, columns={\"TXN_DT\": \"FX_Applied_Nums\"})\n",
    "\n",
    "result = pd.merge(result, df_LN_APPLY_train.groupby(\"CUST_NO\").count()[[\"TXN_DT\"]], how='left', on=['CUST_NO'])\n",
    "result = result.rename(index=str, columns={\"TXN_DT\": \"LN_Applied_Nums\"})\n",
    "\n",
    "result = pd.merge(result, df_WM_TXN_train.groupby(\"CUST_NO\").count()[[\"TXN_DT\"]], how='left', on=['CUST_NO'])\n",
    "result = result.rename(index=str, columns={\"TXN_DT\": \"WM_Applied_Nums\"})"
   ]
  },
  {
   "cell_type": "code",
   "execution_count": 431,
   "metadata": {},
   "outputs": [
    {
     "data": {
      "text/plain": [
       "CUST_NO              0\n",
       "AGE                  0\n",
       "CHILDREN_CNT         0\n",
       "CUST_START_DT        0\n",
       "EDU_CODE             0\n",
       "GENDER_CODE          0\n",
       "INCOME_RANGE_CODE    0\n",
       "WORK_MTHS            0\n",
       "VISIT_TIMES          0\n",
       "CC_RECENT_DT         0\n",
       "FX_RECENT_DT         0\n",
       "LN_RECENT_DT         0\n",
       "WM_RECENT_DT         0\n",
       "CC_Applied_Nums      0\n",
       "FX_Applied_Nums      0\n",
       "LN_Applied_Nums      0\n",
       "WM_Applied_Nums      0\n",
       "dtype: int64"
      ]
     },
     "execution_count": 431,
     "metadata": {},
     "output_type": "execute_result"
    }
   ],
   "source": [
    "applied_nums = [\"CC_Applied_Nums\", \"FX_Applied_Nums\", \"LN_Applied_Nums\", \"WM_Applied_Nums\"]\n",
    "\n",
    "for i in applied_nums:\n",
    "    result[i] = result[i].fillna(0)\n",
    "\n",
    "result.isnull().sum()"
   ]
  },
  {
   "cell_type": "code",
   "execution_count": 432,
   "metadata": {},
   "outputs": [],
   "source": [
    "#step8. 處理df_CC_APPLY_test,df_FX_TXN_test, df_LN_APPLY_test, df_WM_TXN_test\n",
    "df_CC_APPLY_test = df_CC_APPLY[df_CC_APPLY[\"TXN_DT\"].values>train_test_interval]\n",
    "df_FX_TXN_test = df_FX_TXN[df_FX_TXN[\"TXN_DT\"].values>train_test_interval]\n",
    "df_LN_APPLY_test = df_LN_APPLY[df_LN_APPLY[\"TXN_DT\"].values>train_test_interval]\n",
    "df_WM_TXN_test = df_WM_TXN[df_WM_TXN[\"TXN_DT\"].values>train_test_interval]\n",
    "\n",
    "df_CC_APPLY_test_groupby = df_CC_APPLY_test.groupby(\"CUST_NO\").count()\n",
    "df_CC_APPLY_test_groupby[\"Next_Applied\"]=1\n",
    "\n",
    "df_FX_APPLY_test_groupby = df_FX_TXN_test.groupby(\"CUST_NO\").count()\n",
    "df_FX_APPLY_test_groupby[\"Next_Applied\"]=1\n",
    "\n",
    "df_LN_APPLY_test_groupby = df_LN_APPLY_test.groupby(\"CUST_NO\").count()\n",
    "df_LN_APPLY_test_groupby[\"Next_Applied\"]=1\n",
    "\n",
    "df_WM_APPLY_test_groupby = df_WM_TXN_test.groupby(\"CUST_NO\").count()\n",
    "df_WM_APPLY_test_groupby[\"Next_Applied\"]=1\n"
   ]
  },
  {
   "cell_type": "code",
   "execution_count": 433,
   "metadata": {},
   "outputs": [
    {
     "data": {
      "text/html": [
       "<div>\n",
       "<style scoped>\n",
       "    .dataframe tbody tr th:only-of-type {\n",
       "        vertical-align: middle;\n",
       "    }\n",
       "\n",
       "    .dataframe tbody tr th {\n",
       "        vertical-align: top;\n",
       "    }\n",
       "\n",
       "    .dataframe thead th {\n",
       "        text-align: right;\n",
       "    }\n",
       "</style>\n",
       "<table border=\"1\" class=\"dataframe\">\n",
       "  <thead>\n",
       "    <tr style=\"text-align: right;\">\n",
       "      <th></th>\n",
       "      <th>TXN_DT</th>\n",
       "      <th>LN_AMT</th>\n",
       "      <th>LN_USE</th>\n",
       "      <th>Next_Applied</th>\n",
       "    </tr>\n",
       "    <tr>\n",
       "      <th>CUST_NO</th>\n",
       "      <th></th>\n",
       "      <th></th>\n",
       "      <th></th>\n",
       "      <th></th>\n",
       "    </tr>\n",
       "  </thead>\n",
       "  <tbody>\n",
       "    <tr>\n",
       "      <th>-1D9VBLTGBVOWGVK</th>\n",
       "      <td>1</td>\n",
       "      <td>1</td>\n",
       "      <td>1</td>\n",
       "      <td>1</td>\n",
       "    </tr>\n",
       "    <tr>\n",
       "      <th>-2OG-Z-JBNTWCIOQ</th>\n",
       "      <td>1</td>\n",
       "      <td>1</td>\n",
       "      <td>1</td>\n",
       "      <td>1</td>\n",
       "    </tr>\n",
       "    <tr>\n",
       "      <th>-3TAWCZ1OHDAO9MQ</th>\n",
       "      <td>1</td>\n",
       "      <td>1</td>\n",
       "      <td>1</td>\n",
       "      <td>1</td>\n",
       "    </tr>\n",
       "    <tr>\n",
       "      <th>-3WN3QQOSUM2LD2G</th>\n",
       "      <td>1</td>\n",
       "      <td>1</td>\n",
       "      <td>1</td>\n",
       "      <td>1</td>\n",
       "    </tr>\n",
       "    <tr>\n",
       "      <th>-4W45IG-WUPNVV1A</th>\n",
       "      <td>1</td>\n",
       "      <td>1</td>\n",
       "      <td>1</td>\n",
       "      <td>1</td>\n",
       "    </tr>\n",
       "  </tbody>\n",
       "</table>\n",
       "</div>"
      ],
      "text/plain": [
       "                  TXN_DT  LN_AMT  LN_USE  Next_Applied\n",
       "CUST_NO                                               \n",
       "-1D9VBLTGBVOWGVK       1       1       1             1\n",
       "-2OG-Z-JBNTWCIOQ       1       1       1             1\n",
       "-3TAWCZ1OHDAO9MQ       1       1       1             1\n",
       "-3WN3QQOSUM2LD2G       1       1       1             1\n",
       "-4W45IG-WUPNVV1A       1       1       1             1"
      ]
     },
     "execution_count": 433,
     "metadata": {},
     "output_type": "execute_result"
    }
   ],
   "source": [
    "df_LN_APPLY_test_groupby.head()"
   ]
  },
  {
   "cell_type": "code",
   "execution_count": 434,
   "metadata": {},
   "outputs": [
    {
     "data": {
      "text/plain": [
       "Next_Applied    5310\n",
       "dtype: int64"
      ]
     },
     "execution_count": 434,
     "metadata": {},
     "output_type": "execute_result"
    }
   ],
   "source": [
    "df_WM_APPLY_test_groupby[[\"Next_Applied\"]].count()"
   ]
  },
  {
   "cell_type": "code",
   "execution_count": 435,
   "metadata": {},
   "outputs": [],
   "source": [
    "df_CC_APPLY_test_y = pd.merge(df_TBN_Y_ZERO[[\"CUST_NO\"]], df_CC_APPLY_test_groupby[[\"Next_Applied\"]], how='left', on=['CUST_NO'])\n",
    "df_FX_APPLY_test_y = pd.merge(df_TBN_Y_ZERO[[\"CUST_NO\"]], df_FX_APPLY_test_groupby[[\"Next_Applied\"]], how='left', on=['CUST_NO'])\n",
    "df_LN_APPLY_test_y = pd.merge(df_TBN_Y_ZERO[[\"CUST_NO\"]], df_LN_APPLY_test_groupby[[\"Next_Applied\"]], how='left', on=['CUST_NO'])\n",
    "df_WM_APPLY_test_y = pd.merge(df_TBN_Y_ZERO[[\"CUST_NO\"]], df_WM_APPLY_test_groupby[[\"Next_Applied\"]], how='left', on=['CUST_NO'])\n",
    "\n",
    "all_test_y=[df_CC_APPLY_test_y,df_FX_APPLY_test_y, df_LN_APPLY_test_y, df_WM_APPLY_test_y ]"
   ]
  },
  {
   "cell_type": "code",
   "execution_count": 436,
   "metadata": {},
   "outputs": [
    {
     "data": {
      "text/plain": [
       "CUST_NO         30000\n",
       "Next_Applied      238\n",
       "dtype: int64"
      ]
     },
     "execution_count": 436,
     "metadata": {},
     "output_type": "execute_result"
    }
   ],
   "source": [
    "df_LN_APPLY_test_y.count()"
   ]
  },
  {
   "cell_type": "code",
   "execution_count": 437,
   "metadata": {},
   "outputs": [],
   "source": [
    "for i in all_test_y:\n",
    "    i[\"Next_Applied\"] = i[\"Next_Applied\"].fillna(0)"
   ]
  },
  {
   "cell_type": "markdown",
   "metadata": {},
   "source": [
    "## 處理skewness及正則化"
   ]
  },
  {
   "cell_type": "code",
   "execution_count": 438,
   "metadata": {},
   "outputs": [
    {
     "data": {
      "text/html": [
       "<div>\n",
       "<style scoped>\n",
       "    .dataframe tbody tr th:only-of-type {\n",
       "        vertical-align: middle;\n",
       "    }\n",
       "\n",
       "    .dataframe tbody tr th {\n",
       "        vertical-align: top;\n",
       "    }\n",
       "\n",
       "    .dataframe thead th {\n",
       "        text-align: right;\n",
       "    }\n",
       "</style>\n",
       "<table border=\"1\" class=\"dataframe\">\n",
       "  <thead>\n",
       "    <tr style=\"text-align: right;\">\n",
       "      <th></th>\n",
       "      <th>CUST_NO</th>\n",
       "      <th>AGE</th>\n",
       "      <th>CHILDREN_CNT</th>\n",
       "      <th>CUST_START_DT</th>\n",
       "      <th>EDU_CODE</th>\n",
       "      <th>GENDER_CODE</th>\n",
       "      <th>INCOME_RANGE_CODE</th>\n",
       "      <th>WORK_MTHS</th>\n",
       "      <th>VISIT_TIMES</th>\n",
       "      <th>CC_RECENT_DT</th>\n",
       "      <th>FX_RECENT_DT</th>\n",
       "      <th>LN_RECENT_DT</th>\n",
       "      <th>WM_RECENT_DT</th>\n",
       "      <th>CC_Applied_Nums</th>\n",
       "      <th>FX_Applied_Nums</th>\n",
       "      <th>LN_Applied_Nums</th>\n",
       "      <th>WM_Applied_Nums</th>\n",
       "    </tr>\n",
       "  </thead>\n",
       "  <tbody>\n",
       "    <tr>\n",
       "      <th>0</th>\n",
       "      <td>_PT5HFBEZJKOZ934</td>\n",
       "      <td>4.0</td>\n",
       "      <td>0.0</td>\n",
       "      <td>2912.0</td>\n",
       "      <td>4.0</td>\n",
       "      <td>F</td>\n",
       "      <td>1.0</td>\n",
       "      <td>1.0</td>\n",
       "      <td>0.0</td>\n",
       "      <td>1.0</td>\n",
       "      <td>0.0</td>\n",
       "      <td>0.0</td>\n",
       "      <td>0.0</td>\n",
       "      <td>0.0</td>\n",
       "      <td>0.0</td>\n",
       "      <td>0.0</td>\n",
       "      <td>0.0</td>\n",
       "    </tr>\n",
       "    <tr>\n",
       "      <th>1</th>\n",
       "      <td>6STXUMWZRDCGSDDU</td>\n",
       "      <td>2.0</td>\n",
       "      <td>0.0</td>\n",
       "      <td>7686.0</td>\n",
       "      <td>3.0</td>\n",
       "      <td>M</td>\n",
       "      <td>1.0</td>\n",
       "      <td>1.0</td>\n",
       "      <td>1.0</td>\n",
       "      <td>1.0</td>\n",
       "      <td>0.0</td>\n",
       "      <td>0.0</td>\n",
       "      <td>0.0</td>\n",
       "      <td>0.0</td>\n",
       "      <td>0.0</td>\n",
       "      <td>0.0</td>\n",
       "      <td>0.0</td>\n",
       "    </tr>\n",
       "    <tr>\n",
       "      <th>2</th>\n",
       "      <td>JDVF4U8JUANEID68</td>\n",
       "      <td>4.0</td>\n",
       "      <td>0.0</td>\n",
       "      <td>2484.0</td>\n",
       "      <td>3.0</td>\n",
       "      <td>F</td>\n",
       "      <td>4.0</td>\n",
       "      <td>1.0</td>\n",
       "      <td>42.0</td>\n",
       "      <td>1.0</td>\n",
       "      <td>1.0</td>\n",
       "      <td>0.0</td>\n",
       "      <td>1.0</td>\n",
       "      <td>0.0</td>\n",
       "      <td>11.0</td>\n",
       "      <td>0.0</td>\n",
       "      <td>0.0</td>\n",
       "    </tr>\n",
       "    <tr>\n",
       "      <th>3</th>\n",
       "      <td>8I6SQDGP9OQYUN1M</td>\n",
       "      <td>1.0</td>\n",
       "      <td>0.0</td>\n",
       "      <td>7754.0</td>\n",
       "      <td>6.0</td>\n",
       "      <td>F</td>\n",
       "      <td>1.0</td>\n",
       "      <td>1.0</td>\n",
       "      <td>0.0</td>\n",
       "      <td>1.0</td>\n",
       "      <td>1.0</td>\n",
       "      <td>0.0</td>\n",
       "      <td>1.0</td>\n",
       "      <td>0.0</td>\n",
       "      <td>0.0</td>\n",
       "      <td>0.0</td>\n",
       "      <td>0.0</td>\n",
       "    </tr>\n",
       "    <tr>\n",
       "      <th>4</th>\n",
       "      <td>R-TRDUV3GHTID31I</td>\n",
       "      <td>4.0</td>\n",
       "      <td>0.0</td>\n",
       "      <td>4062.0</td>\n",
       "      <td>2.0</td>\n",
       "      <td>M</td>\n",
       "      <td>1.0</td>\n",
       "      <td>1.0</td>\n",
       "      <td>12.0</td>\n",
       "      <td>1.0</td>\n",
       "      <td>0.0</td>\n",
       "      <td>1.0</td>\n",
       "      <td>0.0</td>\n",
       "      <td>0.0</td>\n",
       "      <td>0.0</td>\n",
       "      <td>0.0</td>\n",
       "      <td>0.0</td>\n",
       "    </tr>\n",
       "  </tbody>\n",
       "</table>\n",
       "</div>"
      ],
      "text/plain": [
       "            CUST_NO  AGE  CHILDREN_CNT  CUST_START_DT  EDU_CODE GENDER_CODE  \\\n",
       "0  _PT5HFBEZJKOZ934  4.0           0.0         2912.0       4.0           F   \n",
       "1  6STXUMWZRDCGSDDU  2.0           0.0         7686.0       3.0           M   \n",
       "2  JDVF4U8JUANEID68  4.0           0.0         2484.0       3.0           F   \n",
       "3  8I6SQDGP9OQYUN1M  1.0           0.0         7754.0       6.0           F   \n",
       "4  R-TRDUV3GHTID31I  4.0           0.0         4062.0       2.0           M   \n",
       "\n",
       "   INCOME_RANGE_CODE  WORK_MTHS  VISIT_TIMES  CC_RECENT_DT  FX_RECENT_DT  \\\n",
       "0                1.0        1.0          0.0           1.0           0.0   \n",
       "1                1.0        1.0          1.0           1.0           0.0   \n",
       "2                4.0        1.0         42.0           1.0           1.0   \n",
       "3                1.0        1.0          0.0           1.0           1.0   \n",
       "4                1.0        1.0         12.0           1.0           0.0   \n",
       "\n",
       "   LN_RECENT_DT  WM_RECENT_DT  CC_Applied_Nums  FX_Applied_Nums  \\\n",
       "0           0.0           0.0              0.0              0.0   \n",
       "1           0.0           0.0              0.0              0.0   \n",
       "2           0.0           1.0              0.0             11.0   \n",
       "3           0.0           1.0              0.0              0.0   \n",
       "4           1.0           0.0              0.0              0.0   \n",
       "\n",
       "   LN_Applied_Nums  WM_Applied_Nums  \n",
       "0              0.0              0.0  \n",
       "1              0.0              0.0  \n",
       "2              0.0              0.0  \n",
       "3              0.0              0.0  \n",
       "4              0.0              0.0  "
      ]
     },
     "execution_count": 438,
     "metadata": {},
     "output_type": "execute_result"
    }
   ],
   "source": [
    "result.head()"
   ]
  },
  {
   "cell_type": "code",
   "execution_count": 439,
   "metadata": {},
   "outputs": [
    {
     "data": {
      "image/png": "[encoded data removed]",
      "text/plain": [
       "<Figure size 432x288 with 1 Axes>"
      ]
     },
     "metadata": {
      "needs_background": "light"
     },
     "output_type": "display_data"
    }
   ],
   "source": [
    "from sklearn.preprocessing import StandardScaler, MinMaxScaler, OneHotEncoder\n",
    "from scipy.stats import norm\n",
    "sns.distplot(result['CUST_START_DT'], fit=norm);"
   ]
  },
  {
   "cell_type": "code",
   "execution_count": 440,
   "metadata": {},
   "outputs": [],
   "source": [
    "saleprice_scaled = MinMaxScaler().fit_transform(result['CUST_START_DT'][:,np.newaxis]);\n",
    "#雙峰轉常態~還沒弄"
   ]
  },
  {
   "cell_type": "code",
   "execution_count": 441,
   "metadata": {},
   "outputs": [],
   "source": [
    "result['CUST_START_DT'] = saleprice_scaled"
   ]
  },
  {
   "cell_type": "markdown",
   "metadata": {},
   "source": [
    "## 使用 OneHotEncoder (GENDER_CODE)"
   ]
  },
  {
   "cell_type": "code",
   "execution_count": 442,
   "metadata": {},
   "outputs": [],
   "source": [
    "result = pd.concat([result, pd.get_dummies(result['GENDER_CODE'])], axis=1);"
   ]
  },
  {
   "cell_type": "code",
   "execution_count": 443,
   "metadata": {},
   "outputs": [],
   "source": [
    "result = result.drop(\"GENDER_CODE\", axis=1)"
   ]
  },
  {
   "cell_type": "code",
   "execution_count": 444,
   "metadata": {},
   "outputs": [
    {
     "data": {
      "text/html": [
       "<div>\n",
       "<style scoped>\n",
       "    .dataframe tbody tr th:only-of-type {\n",
       "        vertical-align: middle;\n",
       "    }\n",
       "\n",
       "    .dataframe tbody tr th {\n",
       "        vertical-align: top;\n",
       "    }\n",
       "\n",
       "    .dataframe thead th {\n",
       "        text-align: right;\n",
       "    }\n",
       "</style>\n",
       "<table border=\"1\" class=\"dataframe\">\n",
       "  <thead>\n",
       "    <tr style=\"text-align: right;\">\n",
       "      <th></th>\n",
       "      <th>CUST_NO</th>\n",
       "      <th>AGE</th>\n",
       "      <th>CHILDREN_CNT</th>\n",
       "      <th>CUST_START_DT</th>\n",
       "      <th>EDU_CODE</th>\n",
       "      <th>INCOME_RANGE_CODE</th>\n",
       "      <th>WORK_MTHS</th>\n",
       "      <th>VISIT_TIMES</th>\n",
       "      <th>CC_RECENT_DT</th>\n",
       "      <th>FX_RECENT_DT</th>\n",
       "      <th>LN_RECENT_DT</th>\n",
       "      <th>WM_RECENT_DT</th>\n",
       "      <th>CC_Applied_Nums</th>\n",
       "      <th>FX_Applied_Nums</th>\n",
       "      <th>LN_Applied_Nums</th>\n",
       "      <th>WM_Applied_Nums</th>\n",
       "      <th>F</th>\n",
       "      <th>M</th>\n",
       "    </tr>\n",
       "  </thead>\n",
       "  <tbody>\n",
       "    <tr>\n",
       "      <th>0</th>\n",
       "      <td>_PT5HFBEZJKOZ934</td>\n",
       "      <td>4.0</td>\n",
       "      <td>0.0</td>\n",
       "      <td>0.304380</td>\n",
       "      <td>4.0</td>\n",
       "      <td>1.0</td>\n",
       "      <td>1.0</td>\n",
       "      <td>0.0</td>\n",
       "      <td>1.0</td>\n",
       "      <td>0.0</td>\n",
       "      <td>0.0</td>\n",
       "      <td>0.0</td>\n",
       "      <td>0.0</td>\n",
       "      <td>0.0</td>\n",
       "      <td>0.0</td>\n",
       "      <td>0.0</td>\n",
       "      <td>1</td>\n",
       "      <td>0</td>\n",
       "    </tr>\n",
       "    <tr>\n",
       "      <th>1</th>\n",
       "      <td>6STXUMWZRDCGSDDU</td>\n",
       "      <td>2.0</td>\n",
       "      <td>0.0</td>\n",
       "      <td>0.803387</td>\n",
       "      <td>3.0</td>\n",
       "      <td>1.0</td>\n",
       "      <td>1.0</td>\n",
       "      <td>1.0</td>\n",
       "      <td>1.0</td>\n",
       "      <td>0.0</td>\n",
       "      <td>0.0</td>\n",
       "      <td>0.0</td>\n",
       "      <td>0.0</td>\n",
       "      <td>0.0</td>\n",
       "      <td>0.0</td>\n",
       "      <td>0.0</td>\n",
       "      <td>0</td>\n",
       "      <td>1</td>\n",
       "    </tr>\n",
       "    <tr>\n",
       "      <th>2</th>\n",
       "      <td>JDVF4U8JUANEID68</td>\n",
       "      <td>4.0</td>\n",
       "      <td>0.0</td>\n",
       "      <td>0.259643</td>\n",
       "      <td>3.0</td>\n",
       "      <td>4.0</td>\n",
       "      <td>1.0</td>\n",
       "      <td>42.0</td>\n",
       "      <td>1.0</td>\n",
       "      <td>1.0</td>\n",
       "      <td>0.0</td>\n",
       "      <td>1.0</td>\n",
       "      <td>0.0</td>\n",
       "      <td>11.0</td>\n",
       "      <td>0.0</td>\n",
       "      <td>0.0</td>\n",
       "      <td>1</td>\n",
       "      <td>0</td>\n",
       "    </tr>\n",
       "    <tr>\n",
       "      <th>3</th>\n",
       "      <td>8I6SQDGP9OQYUN1M</td>\n",
       "      <td>1.0</td>\n",
       "      <td>0.0</td>\n",
       "      <td>0.810494</td>\n",
       "      <td>6.0</td>\n",
       "      <td>1.0</td>\n",
       "      <td>1.0</td>\n",
       "      <td>0.0</td>\n",
       "      <td>1.0</td>\n",
       "      <td>1.0</td>\n",
       "      <td>0.0</td>\n",
       "      <td>1.0</td>\n",
       "      <td>0.0</td>\n",
       "      <td>0.0</td>\n",
       "      <td>0.0</td>\n",
       "      <td>0.0</td>\n",
       "      <td>1</td>\n",
       "      <td>0</td>\n",
       "    </tr>\n",
       "    <tr>\n",
       "      <th>4</th>\n",
       "      <td>R-TRDUV3GHTID31I</td>\n",
       "      <td>4.0</td>\n",
       "      <td>0.0</td>\n",
       "      <td>0.424585</td>\n",
       "      <td>2.0</td>\n",
       "      <td>1.0</td>\n",
       "      <td>1.0</td>\n",
       "      <td>12.0</td>\n",
       "      <td>1.0</td>\n",
       "      <td>0.0</td>\n",
       "      <td>1.0</td>\n",
       "      <td>0.0</td>\n",
       "      <td>0.0</td>\n",
       "      <td>0.0</td>\n",
       "      <td>0.0</td>\n",
       "      <td>0.0</td>\n",
       "      <td>0</td>\n",
       "      <td>1</td>\n",
       "    </tr>\n",
       "  </tbody>\n",
       "</table>\n",
       "</div>"
      ],
      "text/plain": [
       "            CUST_NO  AGE  CHILDREN_CNT  CUST_START_DT  EDU_CODE  \\\n",
       "0  _PT5HFBEZJKOZ934  4.0           0.0       0.304380       4.0   \n",
       "1  6STXUMWZRDCGSDDU  2.0           0.0       0.803387       3.0   \n",
       "2  JDVF4U8JUANEID68  4.0           0.0       0.259643       3.0   \n",
       "3  8I6SQDGP9OQYUN1M  1.0           0.0       0.810494       6.0   \n",
       "4  R-TRDUV3GHTID31I  4.0           0.0       0.424585       2.0   \n",
       "\n",
       "   INCOME_RANGE_CODE  WORK_MTHS  VISIT_TIMES  CC_RECENT_DT  FX_RECENT_DT  \\\n",
       "0                1.0        1.0          0.0           1.0           0.0   \n",
       "1                1.0        1.0          1.0           1.0           0.0   \n",
       "2                4.0        1.0         42.0           1.0           1.0   \n",
       "3                1.0        1.0          0.0           1.0           1.0   \n",
       "4                1.0        1.0         12.0           1.0           0.0   \n",
       "\n",
       "   LN_RECENT_DT  WM_RECENT_DT  CC_Applied_Nums  FX_Applied_Nums  \\\n",
       "0           0.0           0.0              0.0              0.0   \n",
       "1           0.0           0.0              0.0              0.0   \n",
       "2           0.0           1.0              0.0             11.0   \n",
       "3           0.0           1.0              0.0              0.0   \n",
       "4           1.0           0.0              0.0              0.0   \n",
       "\n",
       "   LN_Applied_Nums  WM_Applied_Nums  F  M  \n",
       "0              0.0              0.0  1  0  \n",
       "1              0.0              0.0  0  1  \n",
       "2              0.0              0.0  1  0  \n",
       "3              0.0              0.0  1  0  \n",
       "4              0.0              0.0  0  1  "
      ]
     },
     "execution_count": 444,
     "metadata": {},
     "output_type": "execute_result"
    }
   ],
   "source": [
    "result.head()"
   ]
  },
  {
   "cell_type": "markdown",
   "metadata": {},
   "source": [
    "## Model(RandomForest)"
   ]
  },
  {
   "cell_type": "code",
   "execution_count": 445,
   "metadata": {},
   "outputs": [],
   "source": [
    "df_LN_APPLY_test_y_AppliedTrueId = df_LN_APPLY_test_y.loc[df_LN_APPLY_test_y[\"Next_Applied\"]>0].index"
   ]
  },
  {
   "cell_type": "code",
   "execution_count": 446,
   "metadata": {},
   "outputs": [],
   "source": [
    "df_LN_APPLY_test_y_AppliedFalseId = df_LN_APPLY_test_y.loc[df_LN_APPLY_test_y[\"Next_Applied\"]==0].index\n",
    "df_LN_APPLY_test_y_AppliedFalseId = np.array(df_LN_APPLY_test_y_AppliedFalseId[::11])"
   ]
  },
  {
   "cell_type": "code",
   "execution_count": 447,
   "metadata": {},
   "outputs": [],
   "source": [
    "df_LN_APPLY_test_y_AppliedId = np.concatenate((df_LN_APPLY_test_y_AppliedTrueId, df_LN_APPLY_test_y_AppliedFalseId), axis=None)"
   ]
  },
  {
   "cell_type": "code",
   "execution_count": 448,
   "metadata": {},
   "outputs": [
    {
     "data": {
      "text/plain": [
       "2944"
      ]
     },
     "execution_count": 448,
     "metadata": {},
     "output_type": "execute_result"
    }
   ],
   "source": [
    "len(df_LN_APPLY_test_y_AppliedId)"
   ]
  },
  {
   "cell_type": "code",
   "execution_count": 449,
   "metadata": {},
   "outputs": [],
   "source": [
    "df_LN_APPLY_test_y_AppliedId = np.sort(df_LN_APPLY_test_y_AppliedId)"
   ]
  },
  {
   "cell_type": "code",
   "execution_count": 450,
   "metadata": {},
   "outputs": [],
   "source": [
    "result = result.iloc[df_LN_APPLY_test_y_AppliedId,:]\n",
    "df_LN_APPLY_test_y = df_LN_APPLY_test_y.iloc[df_LN_APPLY_test_y_AppliedId,:]"
   ]
  },
  {
   "cell_type": "code",
   "execution_count": 457,
   "metadata": {},
   "outputs": [],
   "source": [
    "result_df_LN_APPLY_test_y = pd.merge(result, df_LN_APPLY_test_y, how='left', on=['CUST_NO'])\n",
    "result_df_LN_APPLY_test_y = result_df_LN_APPLY_test_y.drop(\"CUST_NO\", axis=1)"
   ]
  },
  {
   "cell_type": "code",
   "execution_count": 458,
   "metadata": {},
   "outputs": [
    {
     "data": {
      "text/html": [
       "<div>\n",
       "<style scoped>\n",
       "    .dataframe tbody tr th:only-of-type {\n",
       "        vertical-align: middle;\n",
       "    }\n",
       "\n",
       "    .dataframe tbody tr th {\n",
       "        vertical-align: top;\n",
       "    }\n",
       "\n",
       "    .dataframe thead th {\n",
       "        text-align: right;\n",
       "    }\n",
       "</style>\n",
       "<table border=\"1\" class=\"dataframe\">\n",
       "  <thead>\n",
       "    <tr style=\"text-align: right;\">\n",
       "      <th></th>\n",
       "      <th>AGE</th>\n",
       "      <th>CHILDREN_CNT</th>\n",
       "      <th>CUST_START_DT</th>\n",
       "      <th>EDU_CODE</th>\n",
       "      <th>INCOME_RANGE_CODE</th>\n",
       "      <th>WORK_MTHS</th>\n",
       "      <th>VISIT_TIMES</th>\n",
       "      <th>CC_RECENT_DT</th>\n",
       "      <th>FX_RECENT_DT</th>\n",
       "      <th>LN_RECENT_DT</th>\n",
       "      <th>WM_RECENT_DT</th>\n",
       "      <th>CC_Applied_Nums</th>\n",
       "      <th>FX_Applied_Nums</th>\n",
       "      <th>LN_Applied_Nums</th>\n",
       "      <th>WM_Applied_Nums</th>\n",
       "      <th>F</th>\n",
       "      <th>M</th>\n",
       "      <th>Next_Applied</th>\n",
       "    </tr>\n",
       "  </thead>\n",
       "  <tbody>\n",
       "    <tr>\n",
       "      <th>0</th>\n",
       "      <td>4.0</td>\n",
       "      <td>0.0</td>\n",
       "      <td>0.304380</td>\n",
       "      <td>4.0</td>\n",
       "      <td>1.0</td>\n",
       "      <td>1.0</td>\n",
       "      <td>0.0</td>\n",
       "      <td>1.0</td>\n",
       "      <td>0.0</td>\n",
       "      <td>0.0</td>\n",
       "      <td>0.0</td>\n",
       "      <td>0.0</td>\n",
       "      <td>0.0</td>\n",
       "      <td>0.0</td>\n",
       "      <td>0.0</td>\n",
       "      <td>1</td>\n",
       "      <td>0</td>\n",
       "      <td>0.0</td>\n",
       "    </tr>\n",
       "    <tr>\n",
       "      <th>1</th>\n",
       "      <td>3.0</td>\n",
       "      <td>0.0</td>\n",
       "      <td>0.232048</td>\n",
       "      <td>4.0</td>\n",
       "      <td>2.0</td>\n",
       "      <td>1.0</td>\n",
       "      <td>13.0</td>\n",
       "      <td>1.0</td>\n",
       "      <td>1.0</td>\n",
       "      <td>0.0</td>\n",
       "      <td>0.0</td>\n",
       "      <td>0.0</td>\n",
       "      <td>2.0</td>\n",
       "      <td>0.0</td>\n",
       "      <td>1.0</td>\n",
       "      <td>1</td>\n",
       "      <td>0</td>\n",
       "      <td>0.0</td>\n",
       "    </tr>\n",
       "    <tr>\n",
       "      <th>2</th>\n",
       "      <td>4.0</td>\n",
       "      <td>0.0</td>\n",
       "      <td>0.104944</td>\n",
       "      <td>5.0</td>\n",
       "      <td>1.0</td>\n",
       "      <td>1.0</td>\n",
       "      <td>4.0</td>\n",
       "      <td>1.0</td>\n",
       "      <td>0.0</td>\n",
       "      <td>0.0</td>\n",
       "      <td>0.0</td>\n",
       "      <td>0.0</td>\n",
       "      <td>0.0</td>\n",
       "      <td>0.0</td>\n",
       "      <td>0.0</td>\n",
       "      <td>1</td>\n",
       "      <td>0</td>\n",
       "      <td>0.0</td>\n",
       "    </tr>\n",
       "    <tr>\n",
       "      <th>3</th>\n",
       "      <td>1.0</td>\n",
       "      <td>0.0</td>\n",
       "      <td>0.945333</td>\n",
       "      <td>3.0</td>\n",
       "      <td>1.0</td>\n",
       "      <td>1.0</td>\n",
       "      <td>13.0</td>\n",
       "      <td>1.0</td>\n",
       "      <td>0.0</td>\n",
       "      <td>0.0</td>\n",
       "      <td>0.0</td>\n",
       "      <td>0.0</td>\n",
       "      <td>0.0</td>\n",
       "      <td>0.0</td>\n",
       "      <td>0.0</td>\n",
       "      <td>1</td>\n",
       "      <td>0</td>\n",
       "      <td>0.0</td>\n",
       "    </tr>\n",
       "    <tr>\n",
       "      <th>4</th>\n",
       "      <td>1.0</td>\n",
       "      <td>0.0</td>\n",
       "      <td>0.894847</td>\n",
       "      <td>5.0</td>\n",
       "      <td>1.0</td>\n",
       "      <td>1.0</td>\n",
       "      <td>36.0</td>\n",
       "      <td>0.0</td>\n",
       "      <td>0.0</td>\n",
       "      <td>0.0</td>\n",
       "      <td>0.0</td>\n",
       "      <td>0.0</td>\n",
       "      <td>1.0</td>\n",
       "      <td>0.0</td>\n",
       "      <td>0.0</td>\n",
       "      <td>0</td>\n",
       "      <td>1</td>\n",
       "      <td>0.0</td>\n",
       "    </tr>\n",
       "  </tbody>\n",
       "</table>\n",
       "</div>"
      ],
      "text/plain": [
       "   AGE  CHILDREN_CNT  CUST_START_DT  EDU_CODE  INCOME_RANGE_CODE  WORK_MTHS  \\\n",
       "0  4.0           0.0       0.304380       4.0                1.0        1.0   \n",
       "1  3.0           0.0       0.232048       4.0                2.0        1.0   \n",
       "2  4.0           0.0       0.104944       5.0                1.0        1.0   \n",
       "3  1.0           0.0       0.945333       3.0                1.0        1.0   \n",
       "4  1.0           0.0       0.894847       5.0                1.0        1.0   \n",
       "\n",
       "   VISIT_TIMES  CC_RECENT_DT  FX_RECENT_DT  LN_RECENT_DT  WM_RECENT_DT  \\\n",
       "0          0.0           1.0           0.0           0.0           0.0   \n",
       "1         13.0           1.0           1.0           0.0           0.0   \n",
       "2          4.0           1.0           0.0           0.0           0.0   \n",
       "3         13.0           1.0           0.0           0.0           0.0   \n",
       "4         36.0           0.0           0.0           0.0           0.0   \n",
       "\n",
       "   CC_Applied_Nums  FX_Applied_Nums  LN_Applied_Nums  WM_Applied_Nums  F  M  \\\n",
       "0              0.0              0.0              0.0              0.0  1  0   \n",
       "1              0.0              2.0              0.0              1.0  1  0   \n",
       "2              0.0              0.0              0.0              0.0  1  0   \n",
       "3              0.0              0.0              0.0              0.0  1  0   \n",
       "4              0.0              1.0              0.0              0.0  0  1   \n",
       "\n",
       "   Next_Applied  \n",
       "0           0.0  \n",
       "1           0.0  \n",
       "2           0.0  \n",
       "3           0.0  \n",
       "4           0.0  "
      ]
     },
     "execution_count": 458,
     "metadata": {},
     "output_type": "execute_result"
    }
   ],
   "source": [
    "result_df_LN_APPLY_test_y.head()"
   ]
  },
  {
   "cell_type": "code",
   "execution_count": 462,
   "metadata": {},
   "outputs": [
    {
     "data": {
      "image/png": "[encoded data removed]",
      "text/plain": [
       "<Figure size 864x576 with 2 Axes>"
      ]
     },
     "metadata": {
      "needs_background": "light"
     },
     "output_type": "display_data"
    }
   ],
   "source": [
    "corrmat = result_df_LN_APPLY_test_y.corr()\n",
    "f, ax = plt.subplots(figsize=(12,8))\n",
    "sns.heatmap(corrmat, vmax=.8, annot=True , square=True, fmt='.1f', annot_kws={'size': 10});"
   ]
  },
  {
   "cell_type": "code",
   "execution_count": 304,
   "metadata": {},
   "outputs": [],
   "source": [
    "result= result.drop(\"CUST_NO\", axis=1)"
   ]
  },
  {
   "cell_type": "code",
   "execution_count": 305,
   "metadata": {},
   "outputs": [],
   "source": [
    "import warnings\n",
    "warnings.filterwarnings('ignore')\n",
    "\n",
    "import time\n",
    "import datetime\n",
    "import xgboost as xgb\n",
    "from sklearn.model_selection import GridSearchCV"
   ]
  },
  {
   "cell_type": "code",
   "execution_count": 316,
   "metadata": {},
   "outputs": [],
   "source": [
    "from sklearn import datasets\n",
    "from sklearn.naive_bayes import GaussianNB\n",
    "from sklearn.linear_model import LogisticRegression\n",
    "from sklearn.ensemble import RandomForestClassifier\n",
    "from sklearn.svm import LinearSVC\n",
    "from sklearn.calibration import calibration_curve"
   ]
  },
  {
   "cell_type": "code",
   "execution_count": 337,
   "metadata": {},
   "outputs": [],
   "source": [
    "forest_param_grid = {'n_estimators': [1],'max_depth':[1]}  #min_child_weight=1, colsam\n",
    "forest = RandomForestClassifier()\n"
   ]
  },
  {
   "cell_type": "code",
   "execution_count": 340,
   "metadata": {},
   "outputs": [
    {
     "name": "stdout",
     "output_type": "stream",
     "text": [
      "2019-03-08 03:10:17.403995\n",
      "Fitting 3 folds for each of 1 candidates, totalling 3 fits\n",
      "2019-03-08 03:10:17.509803\n",
      "--- 0:00:00.105808 seconds ---\n"
     ]
    },
    {
     "name": "stderr",
     "output_type": "stream",
     "text": [
      "[Parallel(n_jobs=1)]: Done   3 out of   3 | elapsed:    0.0s finished\n"
     ]
    }
   ],
   "source": [
    "forest_grid = GridSearchCV(estimator= forest, param_grid = forest_param_grid,scoring='accuracy', cv=3, verbose=1)\n",
    "\n",
    "start_time = datetime.datetime.now()\n",
    "print(start_time)\n",
    "forest_grid.fit(result,df_LN_APPLY_test_y[\"Next_Applied\"])\n",
    "end_time=datetime.datetime.now()\n",
    "print(end_time)\n",
    "print(\"--- %s seconds ---\" % (end_time - start_time))"
   ]
  },
  {
   "cell_type": "code",
   "execution_count": 341,
   "metadata": {},
   "outputs": [
    {
     "data": {
      "text/plain": [
       "0.9191576086956522"
      ]
     },
     "execution_count": 341,
     "metadata": {},
     "output_type": "execute_result"
    }
   ],
   "source": [
    "forest_results = forest_grid.cv_results_\n",
    "np.max(forest_results[\"mean_test_score\"])"
   ]
  },
  {
   "cell_type": "code",
   "execution_count": 463,
   "metadata": {},
   "outputs": [
    {
     "data": {
      "text/plain": [
       "{'mean_fit_time': array([0.00342393]),\n",
       " 'std_fit_time': array([0.0010155]),\n",
       " 'mean_score_time': array([0.00066217]),\n",
       " 'std_score_time': array([2.46593924e-05]),\n",
       " 'param_max_depth': masked_array(data=[1],\n",
       "              mask=[False],\n",
       "        fill_value='?',\n",
       "             dtype=object),\n",
       " 'param_n_estimators': masked_array(data=[1],\n",
       "              mask=[False],\n",
       "        fill_value='?',\n",
       "             dtype=object),\n",
       " 'params': [{'max_depth': 1, 'n_estimators': 1}],\n",
       " 'split0_test_score': array([0.9185336]),\n",
       " 'split1_test_score': array([0.91946993]),\n",
       " 'split2_test_score': array([0.91946993]),\n",
       " 'mean_test_score': array([0.91915761]),\n",
       " 'std_test_score': array([0.00044146]),\n",
       " 'rank_test_score': array([1], dtype=int32),\n",
       " 'split0_train_score': array([0.91946993]),\n",
       " 'split1_train_score': array([0.91900153]),\n",
       " 'split2_train_score': array([0.91900153]),\n",
       " 'mean_train_score': array([0.91915766]),\n",
       " 'std_train_score': array([0.00022081])}"
      ]
     },
     "execution_count": 463,
     "metadata": {},
     "output_type": "execute_result"
    }
   ],
   "source": [
    "forest_results"
   ]
  },
  {
   "cell_type": "code",
   "execution_count": 327,
   "metadata": {},
   "outputs": [
    {
     "data": {
      "text/plain": [
       "RandomForestClassifier(bootstrap=True, class_weight=None, criterion='gini',\n",
       "            max_depth=2, max_features='auto', max_leaf_nodes=None,\n",
       "            min_impurity_decrease=0.0, min_impurity_split=None,\n",
       "            min_samples_leaf=1, min_samples_split=2,\n",
       "            min_weight_fraction_leaf=0.0, n_estimators=25, n_jobs=1,\n",
       "            oob_score=False, random_state=None, verbose=0,\n",
       "            warm_start=False)"
      ]
     },
     "execution_count": 327,
     "metadata": {},
     "output_type": "execute_result"
    }
   ],
   "source": [
    "forest_grid.best_estimator_"
   ]
  },
  {
   "cell_type": "code",
   "execution_count": 464,
   "metadata": {},
   "outputs": [
    {
     "data": {
      "text/plain": [
       "'\\n\\n\\n'"
      ]
     },
     "execution_count": 464,
     "metadata": {},
     "output_type": "execute_result"
    }
   ],
   "source": [
    "import pickle\n",
    "\n",
    "#保存Model\n",
    "with open('LN_forest_grid.pickle', 'wb') as f:\n",
    "    pickle.dump(forest_grid, f)\n",
    "   \n",
    "\n",
    "'''\n",
    "\n",
    "\n",
    "'''"
   ]
  },
  {
   "cell_type": "code",
   "execution_count": 87,
   "metadata": {},
   "outputs": [],
   "source": [
    "#读取Model\n",
    "with open('LN_xgb_grid.pickle', 'rb') as f:\n",
    "    xgb_grid = pickle.load(f)\n",
    "    #测试读取后的Model\n",
    "    #print(xgb_grid.predict(X[0:1]))"
   ]
  },
  {
   "cell_type": "code",
   "execution_count": 96,
   "metadata": {},
   "outputs": [
    {
     "data": {
      "text/plain": [
       "{0.0, 1.0}"
      ]
     },
     "execution_count": 96,
     "metadata": {},
     "output_type": "execute_result"
    }
   ],
   "source": [
    "set(df_LN_APPLY_test_y[\"Next_Applied\"])"
   ]
  },
  {
   "cell_type": "code",
   "execution_count": 105,
   "metadata": {},
   "outputs": [
    {
     "data": {
      "text/plain": [
       "0.0    29762\n",
       "1.0      238\n",
       "Name: Next_Applied, dtype: int64"
      ]
     },
     "execution_count": 105,
     "metadata": {},
     "output_type": "execute_result"
    }
   ],
   "source": [
    "df_LN_APPLY_test_y[\"Next_Applied\"].value_counts()"
   ]
  }
 ],
 "metadata": {
  "kernelspec": {
   "display_name": "Python 3",
   "language": "python",
   "name": "python3"
  },
  "language_info": {
   "codemirror_mode": {
    "name": "ipython",
    "version": 3
   },
   "file_extension": ".py",
   "mimetype": "text/x-python",
   "name": "python",
   "nbconvert_exporter": "python",
   "pygments_lexer": "ipython3",
   "version": "3.6.6"
  }
 },
 "nbformat": 4,
 "nbformat_minor": 2
}
