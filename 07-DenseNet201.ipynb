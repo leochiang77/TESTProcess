{
 "cells": [
  {
   "cell_type": "code",
   "execution_count": 1,
   "metadata": {},
   "outputs": [
    {
     "name": "stderr",
     "output_type": "stream",
     "text": [
      "Using TensorFlow backend.\n"
     ]
    }
   ],
   "source": [
    "import warnings\n",
    "warnings.filterwarnings('ignore')\n",
    "\n",
    "import keras\n",
    "from keras.preprocessing.image import ImageDataGenerator\n",
    "from keras.models import Sequential, load_model, Model\n",
    "from keras.layers import Dense, Dropout, Activation, Flatten\n",
    "from keras.layers import Conv2D, MaxPooling2D, BatchNormalization, GlobalAveragePooling2D\n",
    "from keras.callbacks import EarlyStopping, ModelCheckpoint\n",
    "from keras.applications.densenet import DenseNet201\n",
    "\n",
    "import matplotlib.pyplot as plt\n",
    "import pandas as pd\n",
    "import numpy as np\n",
    "\n",
    "from utils import load_data, load_test_data\n",
    "from utils import num_classes, epochs, batch_size"
   ]
  },
  {
   "cell_type": "markdown",
   "metadata": {},
   "source": [
    "# DenseNet201 Fine Tuning"
   ]
  },
  {
   "cell_type": "code",
   "execution_count": 2,
   "metadata": {},
   "outputs": [],
   "source": [
    "X_train, y_train, X_valid, y_valid = load_data(Gray2RGB=True, mean_proc='VGG16_ImageNet', test_size=0.1)"
   ]
  },
  {
   "cell_type": "code",
   "execution_count": 4,
   "metadata": {},
   "outputs": [],
   "source": [
    "model_name = 'DenseNet201-Fine-Tune'\n",
    "\n",
    "img_rows, img_cols, img_channel = 224, 224, 3\n",
    "base_model = DenseNet201(weights='imagenet', include_top=False,\n",
    "                         input_shape=(img_rows, img_cols, img_channel))\n",
    "\n",
    "x = base_model.output\n",
    "x = GlobalAveragePooling2D(data_format='channels_last')(x)\n",
    "x = Dropout(0.5)(x)\n",
    "predictions = Dense(num_classes, activation='softmax')(x)\n",
    "\n",
    "model = Model(inputs=base_model.input, outputs=predictions)\n",
    "\n",
    "#model.summary()"
   ]
  },
  {
   "cell_type": "code",
   "execution_count": 5,
   "metadata": {},
   "outputs": [
    {
     "name": "stdout",
     "output_type": "stream",
     "text": [
      "Epoch 1/100\n",
      " - 97s - loss: 1.1625 - acc: 0.5436 - val_loss: 0.7012 - val_acc: 0.7258\n",
      "\n",
      "Epoch 00001: val_loss improved from inf to 0.70120, saving model to ./DenseNet201-Fine-Tune.h5\n",
      "Epoch 2/100\n",
      " - 57s - loss: 0.6406 - acc: 0.7727 - val_loss: 0.5781 - val_acc: 0.7859\n",
      "\n",
      "Epoch 00002: val_loss improved from 0.70120 to 0.57808, saving model to ./DenseNet201-Fine-Tune.h5\n",
      "Epoch 3/100\n",
      " - 58s - loss: 0.5110 - acc: 0.8212 - val_loss: 0.5057 - val_acc: 0.8120\n",
      "\n",
      "Epoch 00003: val_loss improved from 0.57808 to 0.50567, saving model to ./DenseNet201-Fine-Tune.h5\n",
      "Epoch 4/100\n",
      " - 57s - loss: 0.4087 - acc: 0.8590 - val_loss: 0.4898 - val_acc: 0.8277\n",
      "\n",
      "Epoch 00004: val_loss improved from 0.50567 to 0.48984, saving model to ./DenseNet201-Fine-Tune.h5\n",
      "Epoch 5/100\n",
      " - 57s - loss: 0.3648 - acc: 0.8701 - val_loss: 0.4195 - val_acc: 0.8721\n",
      "\n",
      "Epoch 00005: val_loss improved from 0.48984 to 0.41952, saving model to ./DenseNet201-Fine-Tune.h5\n",
      "Epoch 6/100\n",
      " - 57s - loss: 0.3138 - acc: 0.8890 - val_loss: 0.4192 - val_acc: 0.8642\n",
      "\n",
      "Epoch 00006: val_loss improved from 0.41952 to 0.41922, saving model to ./DenseNet201-Fine-Tune.h5\n",
      "Epoch 7/100\n",
      " - 57s - loss: 0.2962 - acc: 0.8878 - val_loss: 0.4490 - val_acc: 0.8407\n",
      "\n",
      "Epoch 00007: val_loss did not improve from 0.41922\n",
      "Epoch 8/100\n",
      " - 57s - loss: 0.2605 - acc: 0.9061 - val_loss: 0.4164 - val_acc: 0.8460\n",
      "\n",
      "Epoch 00008: val_loss improved from 0.41922 to 0.41639, saving model to ./DenseNet201-Fine-Tune.h5\n",
      "Epoch 9/100\n",
      " - 57s - loss: 0.2433 - acc: 0.9169 - val_loss: 0.4170 - val_acc: 0.8538\n",
      "\n",
      "Epoch 00009: val_loss did not improve from 0.41639\n",
      "Epoch 10/100\n",
      " - 57s - loss: 0.1966 - acc: 0.9355 - val_loss: 0.3811 - val_acc: 0.8668\n",
      "\n",
      "Epoch 00010: val_loss improved from 0.41639 to 0.38110, saving model to ./DenseNet201-Fine-Tune.h5\n",
      "Epoch 11/100\n",
      " - 57s - loss: 0.2021 - acc: 0.9363 - val_loss: 0.3895 - val_acc: 0.8668\n",
      "\n",
      "Epoch 00011: val_loss did not improve from 0.38110\n",
      "Epoch 12/100\n",
      " - 57s - loss: 0.1767 - acc: 0.9352 - val_loss: 0.3837 - val_acc: 0.8668\n",
      "\n",
      "Epoch 00012: val_loss did not improve from 0.38110\n",
      "Epoch 13/100\n",
      " - 57s - loss: 0.1614 - acc: 0.9442 - val_loss: 0.3614 - val_acc: 0.8825\n",
      "\n",
      "Epoch 00013: val_loss improved from 0.38110 to 0.36141, saving model to ./DenseNet201-Fine-Tune.h5\n",
      "Epoch 14/100\n",
      " - 57s - loss: 0.1478 - acc: 0.9471 - val_loss: 0.3931 - val_acc: 0.8616\n",
      "\n",
      "Epoch 00014: val_loss did not improve from 0.36141\n",
      "Epoch 15/100\n",
      " - 57s - loss: 0.1261 - acc: 0.9573 - val_loss: 0.3562 - val_acc: 0.8799\n",
      "\n",
      "Epoch 00015: val_loss improved from 0.36141 to 0.35625, saving model to ./DenseNet201-Fine-Tune.h5\n",
      "Epoch 16/100\n",
      " - 57s - loss: 0.1166 - acc: 0.9628 - val_loss: 0.3894 - val_acc: 0.8721\n",
      "\n",
      "Epoch 00016: val_loss did not improve from 0.35625\n",
      "Epoch 17/100\n",
      " - 57s - loss: 0.0956 - acc: 0.9683 - val_loss: 0.4218 - val_acc: 0.8642\n",
      "\n",
      "Epoch 00017: val_loss did not improve from 0.35625\n",
      "Epoch 18/100\n",
      " - 57s - loss: 0.0930 - acc: 0.9666 - val_loss: 0.4069 - val_acc: 0.8616\n",
      "\n",
      "Epoch 00018: val_loss did not improve from 0.35625\n",
      "Epoch 19/100\n",
      " - 57s - loss: 0.0856 - acc: 0.9747 - val_loss: 0.3627 - val_acc: 0.8851\n",
      "\n",
      "Epoch 00019: val_loss did not improve from 0.35625\n",
      "Epoch 20/100\n",
      " - 57s - loss: 0.0759 - acc: 0.9762 - val_loss: 0.3772 - val_acc: 0.8799\n",
      "\n",
      "Epoch 00020: val_loss did not improve from 0.35625\n",
      "Epoch 00020: early stopping\n"
     ]
    }
   ],
   "source": [
    "datagen = ImageDataGenerator(\n",
    "    rotation_range=10,\n",
    "    width_shift_range=0.2,\n",
    "    height_shift_range=0.2,\n",
    "    shear_range=0.2,\n",
    "    zoom_range=0.2,\n",
    "    horizontal_flip=True,\n",
    "    fill_mode='nearest')\n",
    "\n",
    "optimizer = keras.optimizers.Adam(lr=10e-6)\n",
    "\n",
    "model_path = './{}.h5'.format(model_name)\n",
    "\n",
    "checkpoint = ModelCheckpoint(model_path, monitor='val_loss', save_best_only=True, verbose=1)\n",
    "earlystop = EarlyStopping(monitor='val_loss', patience=5, verbose=1)\n",
    "\n",
    "model.compile(loss='categorical_crossentropy',\n",
    "              optimizer=optimizer, metrics=['accuracy'])\n",
    "\n",
    "batch_size = 16\n",
    "model_history = model.fit_generator(datagen.flow(X_train, y_train, batch_size = batch_size),\n",
    "                                    epochs = epochs,\n",
    "                                    validation_data = (X_valid, y_valid),\n",
    "                                    callbacks = [checkpoint, earlystop],\n",
    "                                    verbose=2)"
   ]
  },
  {
   "cell_type": "code",
   "execution_count": 6,
   "metadata": {},
   "outputs": [
    {
     "data": {
      "image/png": "[encoded data removed]",
      "text/plain": [
       "<Figure size 432x288 with 1 Axes>"
      ]
     },
     "metadata": {
      "needs_background": "light"
     },
     "output_type": "display_data"
    }
   ],
   "source": [
    "training_loss = model_history.history['loss']\n",
    "val_loss = model_history.history['val_loss']\n",
    "\n",
    "plt.plot(training_loss, label=\"training_loss\")\n",
    "plt.plot(val_loss, label=\"validation_loss\")\n",
    "plt.xlabel(\"Epochs\")\n",
    "plt.ylabel(\"Loss\")\n",
    "plt.title(\"Learning Curve\")\n",
    "plt.legend(loc='best')\n",
    "plt.show()"
   ]
  },
  {
   "cell_type": "code",
   "execution_count": 7,
   "metadata": {},
   "outputs": [
    {
     "data": {
      "image/png": "[encoded data removed]",
      "text/plain": [
       "<Figure size 432x288 with 1 Axes>"
      ]
     },
     "metadata": {
      "needs_background": "light"
     },
     "output_type": "display_data"
    }
   ],
   "source": [
    "training_acc = model_history.history['acc']\n",
    "val_acc = model_history.history['val_acc']\n",
    "\n",
    "plt.plot(training_acc, label=\"training_acc\")\n",
    "plt.plot(val_acc, label=\"validation_acc\")\n",
    "plt.xlabel(\"Epochs\")\n",
    "plt.ylabel(\"Acc\")\n",
    "plt.title(\"Learning Curve\")\n",
    "plt.legend(loc='best')\n",
    "plt.show()"
   ]
  },
  {
   "cell_type": "code",
   "execution_count": 1,
   "metadata": {},
   "outputs": [
    {
     "name": "stderr",
     "output_type": "stream",
     "text": [
      "Using TensorFlow backend.\n"
     ]
    },
    {
     "data": {
      "text/plain": [
       "\"\\nscores = model.evaluate(X_valid, y_valid, verbose=1)\\nprint('Validation loss:', scores[0])\\nprint('Validation accuracy:', scores[1])\\n\\n\""
      ]
     },
     "execution_count": 1,
     "metadata": {},
     "output_type": "execute_result"
    }
   ],
   "source": [
    "import warnings\n",
    "warnings.filterwarnings('ignore')\n",
    "\n",
    "import keras\n",
    "from keras.models import load_model, Model\n",
    "import pandas as pd\n",
    "import numpy as np\n",
    "\n",
    "from utils import load_data, load_test_data\n",
    "from utils import num_classes, epochs, batch_size\n",
    "\n",
    "X_test, X_id = load_test_data(Gray2RGB=True, mean_proc='VGG16_ImageNet', img_size=224)\n",
    "\n",
    "model_name = 'DenseNet201-Fine-Tune'\n",
    "model_path = './{}.h5'.format(model_name)\n",
    "model = load_model(model_path)\n",
    "y_test_pred_prob = model.predict(X_test)\n",
    "\n",
    "#y_test_pred = y_test_pred_prob.argmax(axis=-1)\n",
    "#y_test_pred_df = pd.DataFrame({'id': np.array(X_id), 'class':y_test_pred_prob}).sort_values(by='id')\n",
    "#y_test_pred_df.to_csv('./{}.csv'.format(model_name), index=False)\n",
    "\n",
    "'''\n",
    "scores = model.evaluate(X_valid, y_valid, verbose=1)\n",
    "print('Validation loss:', scores[0])\n",
    "print('Validation accuracy:', scores[1])\n",
    "\n",
    "'''"
   ]
  },
  {
   "cell_type": "code",
   "execution_count": 2,
   "metadata": {},
   "outputs": [],
   "source": [
    "y_test_pred_id = pd.DataFrame({'id': np.array(X_id)})\n",
    "y_test_pred_arr = pd.DataFrame(y_test_pred_prob)\n",
    "y_test_pred_id.to_csv(\"./{}_prob.csv\".format(model_name), index=False)\n",
    "y_test_pred_arr.to_csv(\"./{}_id.csv\".format(model_name), index=False)\n"
   ]
  }
 ],
 "metadata": {
  "kernelspec": {
   "display_name": "Python 3",
   "language": "python",
   "name": "python3"
  },
  "language_info": {
   "codemirror_mode": {
    "name": "ipython",
    "version": 3
   },
   "file_extension": ".py",
   "mimetype": "text/x-python",
   "name": "python",
   "nbconvert_exporter": "python",
   "pygments_lexer": "ipython3",
   "version": "3.6.6"
  }
 },
 "nbformat": 4,
 "nbformat_minor": 2
}
