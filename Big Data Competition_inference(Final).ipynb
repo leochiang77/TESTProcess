{
 "cells": [
  {
   "cell_type": "code",
   "execution_count": 1,
   "id": "5adbf33c",
   "metadata": {},
   "outputs": [],
   "source": [
    "import json\n",
    "import pandas as pd\n",
    "import numpy as np"
   ]
  },
  {
   "cell_type": "markdown",
   "id": "65ea54b1",
   "metadata": {},
   "source": [
    "## Config"
   ]
  },
  {
   "cell_type": "code",
   "execution_count": null,
   "id": "1567a415",
   "metadata": {},
   "outputs": [],
   "source": [
    "#測試資料檔案位置\n",
    "inputData = \"./2022-test-v1.xlsx\"\n",
    "\n",
    "#標準化模型儲存資料夾位置\n",
    "stdModelFile = \"./model/\"\n",
    "\n",
    "#推論模型儲存資料夾位置\n",
    "pklFile = \"./model/\"\n",
    "\n",
    "#預測檔案輸出位置\n",
    "outputFile = pklFile+\"111924_TestResult.xlsx\"\n",
    "\n",
    "#模型blending權重檔案\n",
    "blendingWeightFile = pklFile+\"blending_weight.txt\""
   ]
  },
  {
   "cell_type": "markdown",
   "id": "afbab6f9",
   "metadata": {},
   "source": [
    "## load test data"
   ]
  },
  {
   "cell_type": "code",
   "execution_count": 10,
   "id": "7a59d48e",
   "metadata": {},
   "outputs": [],
   "source": [
    "testData = pd.read_excel(inputData)"
   ]
  },
  {
   "cell_type": "code",
   "execution_count": 13,
   "id": "7a8d2350",
   "metadata": {},
   "outputs": [
    {
     "data": {
      "text/plain": [
       "(100, 61)"
      ]
     },
     "execution_count": 13,
     "metadata": {},
     "output_type": "execute_result"
    }
   ],
   "source": [
    "testData.shape"
   ]
  },
  {
   "cell_type": "markdown",
   "id": "83184825",
   "metadata": {},
   "source": [
    "## data process"
   ]
  },
  {
   "cell_type": "code",
   "execution_count": 12,
   "id": "43d1b49a",
   "metadata": {},
   "outputs": [],
   "source": [
    "#刪除訓練時沒用到欄位\n",
    "totalDropCol =['clean_ph5', 'clean_ph7', 'clean_ph4','clean_pressure11', 'clean_pressure21', 'clean_pressure23', 'clean_pressure72', 'clean_pressure101', 'painting_g6_act_a_air', 'painting_g6_act_f_air', 'painting_g6_act_t_air', 'painting_g6_act_hvv', 'painting_g6_act_hvc', 'painting_g12_act_a_air', 'painting_g12_act_f_air', 'painting_g12_act_t_air', 'painting_g12_act_hvv', 'painting_g12_act_hvc', 'env_rpi09_hum', 'env_rpi09_lux', 'env_rpi09_temp','clean_pressure92', 'clean_pressure71', 'oven_pb2', 'oven_a2', 'oven_b2', 'oven_b3', 'painting_g1_act_f_air', 'painting_g1_act_t_air', 'painting_g1_act_hvv', 'painting_g1_act_hvc', 'painting_g7_act_a_air', 'painting_g7_act_f_air', 'painting_g7_act_t_air', 'painting_g7_act_hvv', 'painting_g2_act_t_air', 'painting_g8_act_a_air', 'painting_g8_act_t_air', 'painting_g3_act_t_air', 'painting_g9_act_t_air', 'painting_g9_act_f_air', 'painting_g4_act_f_air', 'painting_g4_act_t_air', 'painting_g4_act_hvv', 'painting_g10_act_a_air', 'painting_g10_act_f_air', 'painting_g10_act_t_air', 'painting_g10_act_hvv', 'painting_g5_act_f_air', 'painting_g5_act_t_air', 'painting_g5_act_hvv', 'painting_g11_act_f_air', 'painting_g11_act_t_air', 'painting_g11_act_hvv', 'env_rpi05_pm10', 'env_rpi05_pm25', 'env_rpi07_pm10', 'env_rpi07_pm25', 'env_rpi09_pm10', 'env_rpi09_pm25', 'env_rpi14_pm10', 'env_rpi14_pm25', 'env_rpi15_pm10', 'env_rpi15_pm25']\n",
    "\n",
    "testData = testData.drop(totalDropCol, axis=1)"
   ]
  },
  {
   "cell_type": "markdown",
   "id": "829fab54",
   "metadata": {},
   "source": [
    "## 標準化"
   ]
  },
  {
   "cell_type": "code",
   "execution_count": 17,
   "id": "14e3faec",
   "metadata": {},
   "outputs": [],
   "source": [
    "from sklearn import preprocessing\n",
    "import pickle\n",
    "\n",
    "with open(stdModelFile+\"stdMode.pkl\",\"rb\") as file:\n",
    "    std = pickle.load(file)\n",
    "\n",
    "X = std.transform(testData)"
   ]
  },
  {
   "cell_type": "markdown",
   "id": "8110b26d",
   "metadata": {},
   "source": [
    "## inference"
   ]
  },
  {
   "cell_type": "code",
   "execution_count": 29,
   "id": "d3f877de",
   "metadata": {},
   "outputs": [],
   "source": [
    "# load blending model weight\n",
    "filename = blendingWeightFile\n",
    "with open(filename, \"r\") as file:\n",
    "    weights = json.load(file)"
   ]
  },
  {
   "cell_type": "code",
   "execution_count": 41,
   "id": "d193be28",
   "metadata": {},
   "outputs": [],
   "source": [
    "#inference blending\n",
    "result = {}\n",
    "pointArr = [\"5\",\"6\",\"7\",\"8\",\"9\",\"10\"]\n",
    "\n",
    "for i in pointArr:\n",
    "    pointStr = \"point{}\".format(i)\n",
    "    tempdf = pd.read_json(weights[pointStr],orient=\"records\")\n",
    "    \n",
    "    pred = 0\n",
    "    for i, item in tempdf.iterrows():\n",
    "\n",
    "        filename = pklFile+pointStr+\"/\"+item[\"model\"]+\".pkl\"\n",
    "        with open(filename,\"rb\") as file:\n",
    "            model = pickle.load(file)\n",
    "            pred += float(item[\"optimised_wts\"])*model.predict(X)\n",
    "        \n",
    "    result[\"sensor_{}_i_value\".format(pointStr)]=pred"
   ]
  },
  {
   "cell_type": "code",
   "execution_count": 50,
   "id": "db0e6641",
   "metadata": {},
   "outputs": [],
   "source": [
    "#結果輸出\n",
    "tempdf = pd.DataFrame.from_dict(result)\n",
    "tempdf.index = tempdf.index+1\n",
    "tempdf.to_excel(outputFile)"
   ]
  }
 ],
 "metadata": {
  "kernelspec": {
   "display_name": "Python 3",
   "language": "python",
   "name": "python3"
  },
  "language_info": {
   "codemirror_mode": {
    "name": "ipython",
    "version": 3
   },
   "file_extension": ".py",
   "mimetype": "text/x-python",
   "name": "python",
   "nbconvert_exporter": "python",
   "pygments_lexer": "ipython3",
   "version": "3.8.8"
  }
 },
 "nbformat": 4,
 "nbformat_minor": 5
}
